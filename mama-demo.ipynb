{
 "cells": [
  {
   "cell_type": "markdown",
   "metadata": {},
   "source": [
    "## Food Mama project: "
   ]
  },
  {
   "cell_type": "code",
   "execution_count": 1,
   "metadata": {},
   "outputs": [],
   "source": [
    "import pandas as pd\n",
    "import numpy as np\n",
    "from random import sample\n",
    "import os, io, re\n",
    "import mama\n",
    "import matplotlib.pyplot as plt\n",
    "%matplotlib inline"
   ]
  },
  {
   "cell_type": "markdown",
   "metadata": {},
   "source": [
    "### Loading the Datasets into Pandas dataframe"
   ]
  },
  {
   "cell_type": "code",
   "execution_count": 2,
   "metadata": {},
   "outputs": [
    {
     "name": "stdout",
     "output_type": "stream",
     "text": [
      "Name of the dataframes created: \n",
      "category\n",
      "food\n",
      "item\n",
      "recipe\n"
     ]
    }
   ],
   "source": [
    "path = \"datasets/\"\n",
    "files = os.listdir(path)\n",
    "\n",
    "dfs = []\n",
    "for file in files:\n",
    "    if file.endswith('.csv'):\n",
    "        filename = file.split(\"_\")\n",
    "        dfs.append(filename[0])\n",
    "        exec(dfs[-1] + '= pd.read_csv(path + file)')\n",
    "\n",
    "print(\"Name of the dataframes created: \", *dfs, sep=\"\\n\")"
   ]
  },
  {
   "cell_type": "markdown",
   "metadata": {},
   "source": [
    "### Run `preprocessing` module to modify and to clean the dataframes (drop unnecessary columns, rename columns, replace index with \"id\", fill the missing data, and change data type)."
   ]
  },
  {
   "cell_type": "code",
   "execution_count": 3,
   "metadata": {
    "scrolled": false
   },
   "outputs": [
    {
     "data": {
      "text/html": [
       "<div>\n",
       "<style scoped>\n",
       "    .dataframe tbody tr th:only-of-type {\n",
       "        vertical-align: middle;\n",
       "    }\n",
       "\n",
       "    .dataframe tbody tr th {\n",
       "        vertical-align: top;\n",
       "    }\n",
       "\n",
       "    .dataframe thead th {\n",
       "        text-align: right;\n",
       "    }\n",
       "</style>\n",
       "<table border=\"1\" class=\"dataframe\">\n",
       "  <thead>\n",
       "    <tr style=\"text-align: right;\">\n",
       "      <th></th>\n",
       "      <th>recipe_id</th>\n",
       "      <th>title</th>\n",
       "      <th>servings</th>\n",
       "      <th>ingredients</th>\n",
       "      <th>instructions</th>\n",
       "      <th>origin</th>\n",
       "      <th>link</th>\n",
       "      <th>rating</th>\n",
       "    </tr>\n",
       "  </thead>\n",
       "  <tbody>\n",
       "    <tr>\n",
       "      <th>0</th>\n",
       "      <td>9</td>\n",
       "      <td>Salade mâche, jambon de Bayonne, mozzarella</td>\n",
       "      <td>4</td>\n",
       "      <td>4 bonne poignée de mâche \\r\\n40 tomate cerise ...</td>\n",
       "      <td>Après avoir coupé en dés la mozzarella, couper...</td>\n",
       "      <td>www.marmiton.org</td>\n",
       "      <td>http://www.marmiton.org/recettes/recette_salad...</td>\n",
       "      <td>limit</td>\n",
       "    </tr>\n",
       "    <tr>\n",
       "      <th>1</th>\n",
       "      <td>10</td>\n",
       "      <td>Ciabattina al pesto</td>\n",
       "      <td>1</td>\n",
       "      <td>Ciabattina\\r\\nJambon de Parme\\r\\nTomates confi...</td>\n",
       "      <td>Ouvrir le pain Ciabattina en deux et tartiner ...</td>\n",
       "      <td>www.club-sandwich.net</td>\n",
       "      <td>http://www.club-sandwich.net/mobile/fiche.php?...</td>\n",
       "      <td>limit</td>\n",
       "    </tr>\n",
       "    <tr>\n",
       "      <th>2</th>\n",
       "      <td>402</td>\n",
       "      <td>Tortilla aux champignons et salade</td>\n",
       "      <td>4</td>\n",
       "      <td>250 g de champignons de Paris\\r\\r\\n4 oeufs\\r\\r...</td>\n",
       "      <td>Préchauffer le four à 180 °C (th. 6).\\r\\nCoupe...</td>\n",
       "      <td>www.mangerbouger.fr</td>\n",
       "      <td>http://www.mangerbouger.fr/Manger-Mieux/Recett...</td>\n",
       "      <td>limit</td>\n",
       "    </tr>\n",
       "    <tr>\n",
       "      <th>3</th>\n",
       "      <td>2</td>\n",
       "      <td>Steak haché et pâtes</td>\n",
       "      <td>1</td>\n",
       "      <td>2.0  filets huile d'olive\\r\\n1.0  steak haché\\...</td>\n",
       "      <td>Dans une casserole, portez à ébullition un gra...</td>\n",
       "      <td>www.wecook.fr</td>\n",
       "      <td>https://www.wecook.fr/recette/steak-hache-et-p...</td>\n",
       "      <td>good</td>\n",
       "    </tr>\n",
       "    <tr>\n",
       "      <th>4</th>\n",
       "      <td>4</td>\n",
       "      <td>Beef Bagel</td>\n",
       "      <td>1</td>\n",
       "      <td>Pain Bagel\\r\\nCarpaccio de boeuf\\r\\nFromage fr...</td>\n",
       "      <td>Placer les tranches de carpaccio dans un plat ...</td>\n",
       "      <td>www.club-sandwich.net</td>\n",
       "      <td>http://www.club-sandwich.net/mobile/fiche.php?...</td>\n",
       "      <td>limit</td>\n",
       "    </tr>\n",
       "  </tbody>\n",
       "</table>\n",
       "</div>"
      ],
      "text/plain": [
       "   recipe_id                                        title  servings  \\\n",
       "0          9  Salade mâche, jambon de Bayonne, mozzarella         4   \n",
       "1         10                          Ciabattina al pesto         1   \n",
       "2        402           Tortilla aux champignons et salade         4   \n",
       "3          2                         Steak haché et pâtes         1   \n",
       "4          4                                   Beef Bagel         1   \n",
       "\n",
       "                                         ingredients  \\\n",
       "0  4 bonne poignée de mâche \\r\\n40 tomate cerise ...   \n",
       "1  Ciabattina\\r\\nJambon de Parme\\r\\nTomates confi...   \n",
       "2  250 g de champignons de Paris\\r\\r\\n4 oeufs\\r\\r...   \n",
       "3  2.0  filets huile d'olive\\r\\n1.0  steak haché\\...   \n",
       "4  Pain Bagel\\r\\nCarpaccio de boeuf\\r\\nFromage fr...   \n",
       "\n",
       "                                        instructions                 origin  \\\n",
       "0  Après avoir coupé en dés la mozzarella, couper...       www.marmiton.org   \n",
       "1  Ouvrir le pain Ciabattina en deux et tartiner ...  www.club-sandwich.net   \n",
       "2  Préchauffer le four à 180 °C (th. 6).\\r\\nCoupe...    www.mangerbouger.fr   \n",
       "3  Dans une casserole, portez à ébullition un gra...          www.wecook.fr   \n",
       "4  Placer les tranches de carpaccio dans un plat ...  www.club-sandwich.net   \n",
       "\n",
       "                                                link rating  \n",
       "0  http://www.marmiton.org/recettes/recette_salad...  limit  \n",
       "1  http://www.club-sandwich.net/mobile/fiche.php?...  limit  \n",
       "2  http://www.mangerbouger.fr/Manger-Mieux/Recett...  limit  \n",
       "3  https://www.wecook.fr/recette/steak-hache-et-p...   good  \n",
       "4  http://www.club-sandwich.net/mobile/fiche.php?...  limit  "
      ]
     },
     "execution_count": 3,
     "metadata": {},
     "output_type": "execute_result"
    }
   ],
   "source": [
    "dataframes = [food, item, recipe]\n",
    "foods, items, recipes = mama.preprocessing(dataframes)\n",
    "recipes.head()"
   ]
  },
  {
   "cell_type": "markdown",
   "metadata": {},
   "source": [
    "### Functions to clean French text for tokenization"
   ]
  },
  {
   "cell_type": "code",
   "execution_count": 4,
   "metadata": {},
   "outputs": [],
   "source": [
    "from bs4 import BeautifulSoup\n",
    "from string import punctuation\n",
    "import unicodedata\n",
    "import nltk\n",
    "\n",
    "# Read the list of all French stop words such as 'le', 'au'\n",
    "filename = \"french_stopwords.txt\"\n",
    "with io.open(filename, 'r', encoding='utf-8') as f:\n",
    "    french = f.read()\n",
    "    \n",
    "fr_stopwords = [w for w in french.split(\",\")]\n",
    "#stemmer = nltk.stem.SnowballStemmer('french')\n",
    "\n",
    "def clean_text(text):\n",
    "    txt = BeautifulSoup(text).get_text().lower() \n",
    "    # remove accent \n",
    "    txt = unicodedata.normalize('NFD', txt).encode('ascii', 'ignore').decode(\"utf-8\")\n",
    "    # special characters\n",
    "    txt = txt.replace('œ','oe').replace('æ','ae').replace('ᴁ','AE').replace('Œ','OE')\n",
    "    # remove non alphanumeric char (or with number r'\\W+')\n",
    "    txt = re.sub(r'[^a-z_]', ' ', txt)\n",
    "    # remove french stop words \n",
    "    tokens = [w for w in txt.split() if (w not in fr_stopwords) and (len(w)>2)] \n",
    "    # french stemming\n",
    "    #tokens = [stemmer.stem(token) for token in tokens]\n",
    "    return ' '.join(tokens)\n",
    "\n",
    "def clean_name(name):\n",
    "    n = BeautifulSoup(name).get_text()\n",
    "    n = unicodedata.normalize('NFD', n).encode('ascii', 'ignore').decode(\"utf-8\")\n",
    "    n = n.replace('œ','oe').replace('æ','ae').replace('ᴁ','AE').replace('Œ','OE')\n",
    "    n = re.sub(r'[^ a-z0-9]', '', n)\n",
    "    words = [w for w in n.split() if len(w) > 2] \n",
    "    return ' '.join(words)\n",
    "\n",
    "def clean_ingredient(val):\n",
    "    v = BeautifulSoup(val).get_text().lower()\n",
    "    v = unicodedata.normalize('NFD', v).encode('ascii', 'ignore').decode(\"utf-8\")\n",
    "    v = v.replace('œ','oe').replace('æ','ae').replace('ᴁ','AE').replace('Œ','OE')\n",
    "    v = re.sub(r'[^ a-z]', ' ', v)\n",
    "    token = [w for w in v.split() if w not in fr_stopwords]\n",
    "    return ''.join(token)\n",
    "\n",
    "def clean_dic(ing):\n",
    "    c = BeautifulSoup(ing).get_text().lower()\n",
    "    c = unicodedata.normalize('NFD', c).encode('ascii', 'ignore').decode(\"utf-8\")\n",
    "    c = c.replace('œ','oe').replace('æ','ae').replace('ᴁ','AE').replace('Œ','OE')\n",
    "    c = c.replace(\"’\",\"'\")\n",
    "    return c"
   ]
  },
  {
   "cell_type": "markdown",
   "metadata": {},
   "source": [
    "- Clean `link` column"
   ]
  },
  {
   "cell_type": "code",
   "execution_count": 5,
   "metadata": {},
   "outputs": [
    {
     "data": {
      "text/html": [
       "<div>\n",
       "<style scoped>\n",
       "    .dataframe tbody tr th:only-of-type {\n",
       "        vertical-align: middle;\n",
       "    }\n",
       "\n",
       "    .dataframe tbody tr th {\n",
       "        vertical-align: top;\n",
       "    }\n",
       "\n",
       "    .dataframe thead th {\n",
       "        text-align: right;\n",
       "    }\n",
       "</style>\n",
       "<table border=\"1\" class=\"dataframe\">\n",
       "  <thead>\n",
       "    <tr style=\"text-align: right;\">\n",
       "      <th></th>\n",
       "      <th>recipe_id</th>\n",
       "      <th>title</th>\n",
       "      <th>ingredients</th>\n",
       "      <th>instructions</th>\n",
       "      <th>link</th>\n",
       "    </tr>\n",
       "  </thead>\n",
       "  <tbody>\n",
       "    <tr>\n",
       "      <th>0</th>\n",
       "      <td>9</td>\n",
       "      <td>Salade mâche, jambon de Bayonne, mozzarella</td>\n",
       "      <td>4 bonne poignée de mâche \\r\\n40 tomate cerise ...</td>\n",
       "      <td>Après avoir coupé en dés la mozzarella, couper...</td>\n",
       "      <td>marmiton</td>\n",
       "    </tr>\n",
       "    <tr>\n",
       "      <th>1</th>\n",
       "      <td>10</td>\n",
       "      <td>Ciabattina al pesto</td>\n",
       "      <td>Ciabattina\\r\\nJambon de Parme\\r\\nTomates confi...</td>\n",
       "      <td>Ouvrir le pain Ciabattina en deux et tartiner ...</td>\n",
       "      <td>clubsandwich</td>\n",
       "    </tr>\n",
       "    <tr>\n",
       "      <th>2</th>\n",
       "      <td>402</td>\n",
       "      <td>Tortilla aux champignons et salade</td>\n",
       "      <td>250 g de champignons de Paris\\r\\r\\n4 oeufs\\r\\r...</td>\n",
       "      <td>Préchauffer le four à 180 °C (th. 6).\\r\\nCoupe...</td>\n",
       "      <td>mangerbouger</td>\n",
       "    </tr>\n",
       "    <tr>\n",
       "      <th>3</th>\n",
       "      <td>2</td>\n",
       "      <td>Steak haché et pâtes</td>\n",
       "      <td>2.0  filets huile d'olive\\r\\n1.0  steak haché\\...</td>\n",
       "      <td>Dans une casserole, portez à ébullition un gra...</td>\n",
       "      <td>wecook</td>\n",
       "    </tr>\n",
       "    <tr>\n",
       "      <th>4</th>\n",
       "      <td>4</td>\n",
       "      <td>Beef Bagel</td>\n",
       "      <td>Pain Bagel\\r\\nCarpaccio de boeuf\\r\\nFromage fr...</td>\n",
       "      <td>Placer les tranches de carpaccio dans un plat ...</td>\n",
       "      <td>clubsandwich</td>\n",
       "    </tr>\n",
       "  </tbody>\n",
       "</table>\n",
       "</div>"
      ],
      "text/plain": [
       "   recipe_id                                        title  \\\n",
       "0          9  Salade mâche, jambon de Bayonne, mozzarella   \n",
       "1         10                          Ciabattina al pesto   \n",
       "2        402           Tortilla aux champignons et salade   \n",
       "3          2                         Steak haché et pâtes   \n",
       "4          4                                   Beef Bagel   \n",
       "\n",
       "                                         ingredients  \\\n",
       "0  4 bonne poignée de mâche \\r\\n40 tomate cerise ...   \n",
       "1  Ciabattina\\r\\nJambon de Parme\\r\\nTomates confi...   \n",
       "2  250 g de champignons de Paris\\r\\r\\n4 oeufs\\r\\r...   \n",
       "3  2.0  filets huile d'olive\\r\\n1.0  steak haché\\...   \n",
       "4  Pain Bagel\\r\\nCarpaccio de boeuf\\r\\nFromage fr...   \n",
       "\n",
       "                                        instructions          link  \n",
       "0  Après avoir coupé en dés la mozzarella, couper...      marmiton  \n",
       "1  Ouvrir le pain Ciabattina en deux et tartiner ...  clubsandwich  \n",
       "2  Préchauffer le four à 180 °C (th. 6).\\r\\nCoupe...  mangerbouger  \n",
       "3  Dans une casserole, portez à ébullition un gra...        wecook  \n",
       "4  Placer les tranches de carpaccio dans un plat ...  clubsandwich  "
      ]
     },
     "execution_count": 5,
     "metadata": {},
     "output_type": "execute_result"
    }
   ],
   "source": [
    "recipes_text = recipes.drop(['servings', 'origin', 'rating'], axis=1)\n",
    "\n",
    "# Keep only web site name in link column\n",
    "for index, url in enumerate(recipes_text.link):\n",
    "    domain = url.split(\"//\")[-1].split(\"/\")[0].rsplit(\".\",1)[0]\n",
    "    if domain.startswith('www'):\n",
    "        domain = domain.split(\"www.\")[-1]\n",
    "    \n",
    "    recipes_text.loc[index, \"link\"] = domain.replace('-','').lower()\n",
    "\n",
    "recipes_text.head()"
   ]
  },
  {
   "cell_type": "markdown",
   "metadata": {},
   "source": [
    "- Convert the `title` recipe to distinct names for better vectorization"
   ]
  },
  {
   "cell_type": "code",
   "execution_count": 6,
   "metadata": {
    "scrolled": true
   },
   "outputs": [
    {
     "data": {
      "text/html": [
       "<div>\n",
       "<style scoped>\n",
       "    .dataframe tbody tr th:only-of-type {\n",
       "        vertical-align: middle;\n",
       "    }\n",
       "\n",
       "    .dataframe tbody tr th {\n",
       "        vertical-align: top;\n",
       "    }\n",
       "\n",
       "    .dataframe thead th {\n",
       "        text-align: right;\n",
       "    }\n",
       "</style>\n",
       "<table border=\"1\" class=\"dataframe\">\n",
       "  <thead>\n",
       "    <tr style=\"text-align: right;\">\n",
       "      <th></th>\n",
       "      <th>recipe_id</th>\n",
       "      <th>title</th>\n",
       "      <th>ingredients</th>\n",
       "      <th>instructions</th>\n",
       "      <th>link</th>\n",
       "    </tr>\n",
       "  </thead>\n",
       "  <tbody>\n",
       "    <tr>\n",
       "      <th>0</th>\n",
       "      <td>9</td>\n",
       "      <td>salademache jambonbayonne mozzarella</td>\n",
       "      <td>4 bonne poignée de mâche \\r\\n40 tomate cerise ...</td>\n",
       "      <td>Après avoir coupé en dés la mozzarella, couper...</td>\n",
       "      <td>marmiton</td>\n",
       "    </tr>\n",
       "    <tr>\n",
       "      <th>1</th>\n",
       "      <td>10</td>\n",
       "      <td>ciabattinapesto</td>\n",
       "      <td>Ciabattina\\r\\nJambon de Parme\\r\\nTomates confi...</td>\n",
       "      <td>Ouvrir le pain Ciabattina en deux et tartiner ...</td>\n",
       "      <td>clubsandwich</td>\n",
       "    </tr>\n",
       "    <tr>\n",
       "      <th>2</th>\n",
       "      <td>402</td>\n",
       "      <td>tortillachampignons salade</td>\n",
       "      <td>250 g de champignons de Paris\\r\\r\\n4 oeufs\\r\\r...</td>\n",
       "      <td>Préchauffer le four à 180 °C (th. 6).\\r\\nCoupe...</td>\n",
       "      <td>mangerbouger</td>\n",
       "    </tr>\n",
       "    <tr>\n",
       "      <th>3</th>\n",
       "      <td>2</td>\n",
       "      <td>steakhache pates</td>\n",
       "      <td>2.0  filets huile d'olive\\r\\n1.0  steak haché\\...</td>\n",
       "      <td>Dans une casserole, portez à ébullition un gra...</td>\n",
       "      <td>wecook</td>\n",
       "    </tr>\n",
       "    <tr>\n",
       "      <th>4</th>\n",
       "      <td>4</td>\n",
       "      <td>beefbagel</td>\n",
       "      <td>Pain Bagel\\r\\nCarpaccio de boeuf\\r\\nFromage fr...</td>\n",
       "      <td>Placer les tranches de carpaccio dans un plat ...</td>\n",
       "      <td>clubsandwich</td>\n",
       "    </tr>\n",
       "  </tbody>\n",
       "</table>\n",
       "</div>"
      ],
      "text/plain": [
       "   recipe_id                                 title  \\\n",
       "0          9  salademache jambonbayonne mozzarella   \n",
       "1         10                       ciabattinapesto   \n",
       "2        402            tortillachampignons salade   \n",
       "3          2                      steakhache pates   \n",
       "4          4                             beefbagel   \n",
       "\n",
       "                                         ingredients  \\\n",
       "0  4 bonne poignée de mâche \\r\\n40 tomate cerise ...   \n",
       "1  Ciabattina\\r\\nJambon de Parme\\r\\nTomates confi...   \n",
       "2  250 g de champignons de Paris\\r\\r\\n4 oeufs\\r\\r...   \n",
       "3  2.0  filets huile d'olive\\r\\n1.0  steak haché\\...   \n",
       "4  Pain Bagel\\r\\nCarpaccio de boeuf\\r\\nFromage fr...   \n",
       "\n",
       "                                        instructions          link  \n",
       "0  Après avoir coupé en dés la mozzarella, couper...      marmiton  \n",
       "1  Ouvrir le pain Ciabattina en deux et tartiner ...  clubsandwich  \n",
       "2  Préchauffer le four à 180 °C (th. 6).\\r\\nCoupe...  mangerbouger  \n",
       "3  Dans une casserole, portez à ébullition un gra...        wecook  \n",
       "4  Placer les tranches de carpaccio dans un plat ...  clubsandwich  "
      ]
     },
     "execution_count": 6,
     "metadata": {},
     "output_type": "execute_result"
    }
   ],
   "source": [
    "dic_word = {' des ':'', ' de la ':'', \" de l'\":'', ' de ':'', ' du ':'', \" d'\":'',\n",
    "            ' aux ':'', ' au ':'', ' à la ':'', \" à l'\":'', ' à ':'', \n",
    "            ' al ':''}\n",
    "\n",
    "for index, r_names in enumerate(recipes_text.title):\n",
    "    t_names = r_names.split(\",\")\n",
    "    n_lst = []\n",
    "    for t_items in t_names:\n",
    "        t_item = t_items.strip(\" \").lower().split(\" et \")\n",
    "        t_item = pd.Series(t_item).replace(dic_word, regex=True)\n",
    "        for t_words in t_item:\n",
    "            t_word = t_words.replace(' ','',1).split(\" \")\n",
    "            for t_w in t_word:\n",
    "                n_lst.append(t_w)          \n",
    "    recipes_text.loc[index, \"title\"] = clean_name(\" \".join(n_lst))\n",
    "\n",
    "recipes_text.head()"
   ]
  },
  {
   "cell_type": "markdown",
   "metadata": {},
   "source": [
    "- Replace `ingredients` column values with only ingredient names using `meta_data` table"
   ]
  },
  {
   "cell_type": "code",
   "execution_count": 7,
   "metadata": {},
   "outputs": [
    {
     "data": {
      "text/html": [
       "<div>\n",
       "<style scoped>\n",
       "    .dataframe tbody tr th:only-of-type {\n",
       "        vertical-align: middle;\n",
       "    }\n",
       "\n",
       "    .dataframe tbody tr th {\n",
       "        vertical-align: top;\n",
       "    }\n",
       "\n",
       "    .dataframe thead th {\n",
       "        text-align: right;\n",
       "    }\n",
       "</style>\n",
       "<table border=\"1\" class=\"dataframe\">\n",
       "  <thead>\n",
       "    <tr style=\"text-align: right;\">\n",
       "      <th></th>\n",
       "      <th>recipe_id</th>\n",
       "      <th>title</th>\n",
       "      <th>ingredients</th>\n",
       "      <th>instructions</th>\n",
       "      <th>link</th>\n",
       "    </tr>\n",
       "  </thead>\n",
       "  <tbody>\n",
       "    <tr>\n",
       "      <th>0</th>\n",
       "      <td>9</td>\n",
       "      <td>salademache jambonbayonne mozzarella</td>\n",
       "      <td>mache tomatecerise mozzarella jamboncru crouto...</td>\n",
       "      <td>Après avoir coupé en dés la mozzarella, couper...</td>\n",
       "      <td>marmiton</td>\n",
       "    </tr>\n",
       "    <tr>\n",
       "      <th>1</th>\n",
       "      <td>10</td>\n",
       "      <td>ciabattinapesto</td>\n",
       "      <td>painciabattina jambonparme tomateconfite pesto...</td>\n",
       "      <td>Ouvrir le pain Ciabattina en deux et tartiner ...</td>\n",
       "      <td>clubsandwich</td>\n",
       "    </tr>\n",
       "    <tr>\n",
       "      <th>2</th>\n",
       "      <td>402</td>\n",
       "      <td>tortillachampignons salade</td>\n",
       "      <td>champignonparis oeuf haricotsverts feuillebric...</td>\n",
       "      <td>Préchauffer le four à 180 °C (th. 6).\\r\\nCoupe...</td>\n",
       "      <td>mangerbouger</td>\n",
       "    </tr>\n",
       "    <tr>\n",
       "      <th>3</th>\n",
       "      <td>2</td>\n",
       "      <td>steakhache pates</td>\n",
       "      <td>huileolive steakhache pates</td>\n",
       "      <td>Dans une casserole, portez à ébullition un gra...</td>\n",
       "      <td>wecook</td>\n",
       "    </tr>\n",
       "    <tr>\n",
       "      <th>4</th>\n",
       "      <td>4</td>\n",
       "      <td>beefbagel</td>\n",
       "      <td>tomatecerise roquette sel huileolive bagel car...</td>\n",
       "      <td>Placer les tranches de carpaccio dans un plat ...</td>\n",
       "      <td>clubsandwich</td>\n",
       "    </tr>\n",
       "  </tbody>\n",
       "</table>\n",
       "</div>"
      ],
      "text/plain": [
       "   recipe_id                                 title  \\\n",
       "0          9  salademache jambonbayonne mozzarella   \n",
       "1         10                       ciabattinapesto   \n",
       "2        402            tortillachampignons salade   \n",
       "3          2                      steakhache pates   \n",
       "4          4                             beefbagel   \n",
       "\n",
       "                                         ingredients  \\\n",
       "0  mache tomatecerise mozzarella jamboncru crouto...   \n",
       "1  painciabattina jambonparme tomateconfite pesto...   \n",
       "2  champignonparis oeuf haricotsverts feuillebric...   \n",
       "3                        huileolive steakhache pates   \n",
       "4  tomatecerise roquette sel huileolive bagel car...   \n",
       "\n",
       "                                        instructions          link  \n",
       "0  Après avoir coupé en dés la mozzarella, couper...      marmiton  \n",
       "1  Ouvrir le pain Ciabattina en deux et tartiner ...  clubsandwich  \n",
       "2  Préchauffer le four à 180 °C (th. 6).\\r\\nCoupe...  mangerbouger  \n",
       "3  Dans une casserole, portez à ébullition un gra...        wecook  \n",
       "4  Placer les tranches de carpaccio dans un plat ...  clubsandwich  "
      ]
     },
     "execution_count": 7,
     "metadata": {},
     "output_type": "execute_result"
    }
   ],
   "source": [
    "tables = [recipes, items, foods]\n",
    "meta_data = mama.merging(tables)\n",
    "\n",
    "n_array = np.repeat(\"\", meta_data.recipe_id.max()+1).astype(\"object\")\n",
    "for i in meta_data.index:\n",
    "    index = meta_data.recipe_id[i]\n",
    "    n_array[index] += meta_data.name[i] + \";\"\n",
    "    \n",
    "for i, str_val in enumerate(n_array):\n",
    "    v_lst = []\n",
    "    if len(str_val) > 0:\n",
    "        str_val = str_val.rsplit(\";\",1)[0]\n",
    "        val_lst = str_val.split(\";\")\n",
    "        for val in val_lst:\n",
    "            v_lst.append(clean_ingredient(val))\n",
    "        recipes_text.loc[(recipes_text[recipes_text.recipe_id == i].index.values[0]), \"ingredients\"] = \" \".join(v_lst)\n",
    "            \n",
    "recipes_text.head()"
   ]
  },
  {
   "cell_type": "markdown",
   "metadata": {},
   "source": [
    "- Find keywords from recipe `instructions` column"
   ]
  },
  {
   "cell_type": "code",
   "execution_count": 8,
   "metadata": {
    "scrolled": true
   },
   "outputs": [
    {
     "data": {
      "text/html": [
       "<div>\n",
       "<style scoped>\n",
       "    .dataframe tbody tr th:only-of-type {\n",
       "        vertical-align: middle;\n",
       "    }\n",
       "\n",
       "    .dataframe tbody tr th {\n",
       "        vertical-align: top;\n",
       "    }\n",
       "\n",
       "    .dataframe thead th {\n",
       "        text-align: right;\n",
       "    }\n",
       "</style>\n",
       "<table border=\"1\" class=\"dataframe\">\n",
       "  <thead>\n",
       "    <tr style=\"text-align: right;\">\n",
       "      <th></th>\n",
       "      <th>recipe_id</th>\n",
       "      <th>title</th>\n",
       "      <th>ingredients</th>\n",
       "      <th>instructions</th>\n",
       "      <th>link</th>\n",
       "    </tr>\n",
       "  </thead>\n",
       "  <tbody>\n",
       "    <tr>\n",
       "      <th>0</th>\n",
       "      <td>9</td>\n",
       "      <td>salademache jambonbayonne mozzarella</td>\n",
       "      <td>mache tomatecerise mozzarella jamboncru crouto...</td>\n",
       "      <td>mozzarella tomates cerises jambon bayonne lit ...</td>\n",
       "      <td>marmiton</td>\n",
       "    </tr>\n",
       "    <tr>\n",
       "      <th>1</th>\n",
       "      <td>10</td>\n",
       "      <td>ciabattinapesto</td>\n",
       "      <td>painciabattina jambonparme tomateconfite pesto...</td>\n",
       "      <td>pain copeaux parmesan ciabattina tartiner pest...</td>\n",
       "      <td>clubsandwich</td>\n",
       "    </tr>\n",
       "    <tr>\n",
       "      <th>2</th>\n",
       "      <td>402</td>\n",
       "      <td>tortillachampignons salade</td>\n",
       "      <td>champignonparis oeuf haricotsverts feuillebric...</td>\n",
       "      <td>omelette feuille brick lamelles fines champign...</td>\n",
       "      <td>mangerbouger</td>\n",
       "    </tr>\n",
       "    <tr>\n",
       "      <th>3</th>\n",
       "      <td>2</td>\n",
       "      <td>steakhache pates</td>\n",
       "      <td>huileolive steakhache pates</td>\n",
       "      <td>pates steak hache filet huile olive ebullition...</td>\n",
       "      <td>wecook</td>\n",
       "    </tr>\n",
       "    <tr>\n",
       "      <th>4</th>\n",
       "      <td>4</td>\n",
       "      <td>beefbagel</td>\n",
       "      <td>tomatecerise roquette sel huileolive bagel car...</td>\n",
       "      <td>tranches frais bagel moitie carpaccio arroser ...</td>\n",
       "      <td>clubsandwich</td>\n",
       "    </tr>\n",
       "  </tbody>\n",
       "</table>\n",
       "</div>"
      ],
      "text/plain": [
       "   recipe_id                                 title  \\\n",
       "0          9  salademache jambonbayonne mozzarella   \n",
       "1         10                       ciabattinapesto   \n",
       "2        402            tortillachampignons salade   \n",
       "3          2                      steakhache pates   \n",
       "4          4                             beefbagel   \n",
       "\n",
       "                                         ingredients  \\\n",
       "0  mache tomatecerise mozzarella jamboncru crouto...   \n",
       "1  painciabattina jambonparme tomateconfite pesto...   \n",
       "2  champignonparis oeuf haricotsverts feuillebric...   \n",
       "3                        huileolive steakhache pates   \n",
       "4  tomatecerise roquette sel huileolive bagel car...   \n",
       "\n",
       "                                        instructions          link  \n",
       "0  mozzarella tomates cerises jambon bayonne lit ...      marmiton  \n",
       "1  pain copeaux parmesan ciabattina tartiner pest...  clubsandwich  \n",
       "2  omelette feuille brick lamelles fines champign...  mangerbouger  \n",
       "3  pates steak hache filet huile olive ebullition...        wecook  \n",
       "4  tranches frais bagel moitie carpaccio arroser ...  clubsandwich  "
      ]
     },
     "execution_count": 8,
     "metadata": {},
     "output_type": "execute_result"
    }
   ],
   "source": [
    "from collections import Counter\n",
    "stop_tokens = ['ajouter','ajoutez','couper','coupez','chauffer','chauffez','cuire','commencer','disposer',\n",
    "               'decouper','decoupez','deposer','deposez','eplucher','epluchez','etaler','etalez',\n",
    "               'egoutter','egouttez','laisser','laissez','laver','lavez','mettre','revenir',\n",
    "               'melanger','melangez','nettoyer','nettoyez','ouvrir','ouvrez','porter','portez',\n",
    "               'prechauffer','placer','passer','passez','rechauffez','rajouter','verser','versez',\n",
    "               'cuisson','feu','four','min','minutes','morceaux','temps','temperature','tranche',\n",
    "               'assiette','cuillère','casserole','coupe','plat','poele','saladier']\n",
    "\n",
    "key_array = recipes_text.instructions.values\n",
    "for k, token in enumerate(key_array):\n",
    "    key_array[k] = clean_text(token)\n",
    "    token_lst = []\n",
    "    dic_array = Counter(key_array[k].split())\n",
    "    for key, value in sorted(dic_array.items(), key=lambda x: x[1], reverse=True):\n",
    "        if key not in stop_tokens:\n",
    "            token_lst.append(key)\n",
    "    recipes_text.loc[k, \"instructions\"] = \" \".join(token_lst[:10])\n",
    "    \n",
    "recipes_text.head()"
   ]
  },
  {
   "cell_type": "markdown",
   "metadata": {},
   "source": [
    "- Function to create a recipes id list"
   ]
  },
  {
   "cell_type": "code",
   "execution_count": 9,
   "metadata": {},
   "outputs": [],
   "source": [
    "def find_recipes(lst):\n",
    "    ingredients_dic = {}\n",
    "    fn_lst = lst\n",
    "    rid_lst = [i for i in recipes.recipe_id]\n",
    "    \n",
    "    for ix in meta_data.index:\n",
    "        r_id = meta_data.recipe_id[ix]\n",
    "        ingd = clean_dic(meta_data.name[ix])\n",
    "        ingredients_dic.setdefault(ingd, []).append(r_id)\n",
    "    \n",
    "    for fn in fn_lst:\n",
    "        rid = list(ingredients_dic.get(fn, \"\"))\n",
    "        rid_lst = list(set(rid_lst) & set(rid))\n",
    "    \n",
    "    return rid_lst"
   ]
  },
  {
   "cell_type": "markdown",
   "metadata": {},
   "source": [
    "- Construct a reverse map of indices and recipe titles"
   ]
  },
  {
   "cell_type": "code",
   "execution_count": 10,
   "metadata": {},
   "outputs": [],
   "source": [
    "#title (.drop_duplicates())\n",
    "indices = pd.Series(recipes.index, index = recipes['title'])"
   ]
  },
  {
   "cell_type": "markdown",
   "metadata": {},
   "source": [
    "## `TfIdfVectorizer` class that produces the TF-IDF Matrix"
   ]
  },
  {
   "cell_type": "markdown",
   "metadata": {},
   "source": [
    "- Compute Term Frequency-Inverse Document Frequency (TF-IDF) vectors for each recipe"
   ]
  },
  {
   "cell_type": "code",
   "execution_count": 11,
   "metadata": {},
   "outputs": [],
   "source": [
    "from sklearn.feature_extraction.text import TfidfVectorizer\n",
    "\n",
    "def vectorize(df, columns):\n",
    "    text_array = np.repeat(\"\", len(df)).astype(\"object\")\n",
    "    for c in columns:\n",
    "        text_array += df[c].values + \" \"\n",
    "    \n",
    "    for index, a_item in enumerate(text_array):\n",
    "        text_array[index] = clean_text(a_item)\n",
    "        \n",
    "    # Define a (bi-grams) TF-IDF Vectorizer Object  \n",
    "    tfidf_vec = TfidfVectorizer(min_df=1, stop_words=None,\n",
    "                                smooth_idf=True, norm='l2',\n",
    "                                sublinear_tf=True, use_idf=True,\n",
    "                                ngram_range=(1,2)) \n",
    "    \n",
    "    # Construct the required TF-IDF matrix by fitting and transforming the data\n",
    "    tfidf_matrix = tfidf_vec.fit_transform(text_array)\n",
    "    \n",
    "    return tfidf_matrix"
   ]
  },
  {
   "cell_type": "code",
   "execution_count": 12,
   "metadata": {},
   "outputs": [],
   "source": [
    "# Call function to generate TF-IDF matrix\n",
    "columns = ('title', 'instructions')\n",
    "\n",
    "tfidf_matrix = vectorize(recipes, columns)\n",
    "#print(tfidf_matrix.shape)"
   ]
  },
  {
   "cell_type": "markdown",
   "metadata": {},
   "source": [
    "- TF-IDF vectorizer calculate the dot product that will directly give the cosine similarity score"
   ]
  },
  {
   "cell_type": "code",
   "execution_count": 13,
   "metadata": {},
   "outputs": [],
   "source": [
    "from sklearn.metrics.pairwise import linear_kernel\n",
    "\n",
    "# Compute the cosine similarity matrix\n",
    "cosine_sim = linear_kernel(tfidf_matrix, tfidf_matrix)"
   ]
  },
  {
   "cell_type": "markdown",
   "metadata": {},
   "source": [
    "## Bag-of-words Model"
   ]
  },
  {
   "cell_type": "code",
   "execution_count": 14,
   "metadata": {},
   "outputs": [
    {
     "data": {
      "text/html": [
       "<div>\n",
       "<style scoped>\n",
       "    .dataframe tbody tr th:only-of-type {\n",
       "        vertical-align: middle;\n",
       "    }\n",
       "\n",
       "    .dataframe tbody tr th {\n",
       "        vertical-align: top;\n",
       "    }\n",
       "\n",
       "    .dataframe thead th {\n",
       "        text-align: right;\n",
       "    }\n",
       "</style>\n",
       "<table border=\"1\" class=\"dataframe\">\n",
       "  <thead>\n",
       "    <tr style=\"text-align: right;\">\n",
       "      <th></th>\n",
       "      <th>recipe_id</th>\n",
       "      <th>title</th>\n",
       "      <th>ingredients</th>\n",
       "      <th>instructions</th>\n",
       "      <th>link</th>\n",
       "      <th>soup</th>\n",
       "    </tr>\n",
       "  </thead>\n",
       "  <tbody>\n",
       "    <tr>\n",
       "      <th>0</th>\n",
       "      <td>9</td>\n",
       "      <td>salademache jambonbayonne mozzarella</td>\n",
       "      <td>mache tomatecerise mozzarella jamboncru crouto...</td>\n",
       "      <td>mozzarella tomates cerises jambon bayonne lit ...</td>\n",
       "      <td>marmiton</td>\n",
       "      <td>salademache jambonbayonne mozzarella mache tom...</td>\n",
       "    </tr>\n",
       "    <tr>\n",
       "      <th>1</th>\n",
       "      <td>10</td>\n",
       "      <td>ciabattinapesto</td>\n",
       "      <td>painciabattina jambonparme tomateconfite pesto...</td>\n",
       "      <td>pain copeaux parmesan ciabattina tartiner pest...</td>\n",
       "      <td>clubsandwich</td>\n",
       "      <td>ciabattinapesto painciabattina jambonparme tom...</td>\n",
       "    </tr>\n",
       "    <tr>\n",
       "      <th>2</th>\n",
       "      <td>402</td>\n",
       "      <td>tortillachampignons salade</td>\n",
       "      <td>champignonparis oeuf haricotsverts feuillebric...</td>\n",
       "      <td>omelette feuille brick lamelles fines champign...</td>\n",
       "      <td>mangerbouger</td>\n",
       "      <td>tortillachampignons salade champignonparis oeu...</td>\n",
       "    </tr>\n",
       "    <tr>\n",
       "      <th>3</th>\n",
       "      <td>2</td>\n",
       "      <td>steakhache pates</td>\n",
       "      <td>huileolive steakhache pates</td>\n",
       "      <td>pates steak hache filet huile olive ebullition...</td>\n",
       "      <td>wecook</td>\n",
       "      <td>steakhache pates huileolive steakhache pates p...</td>\n",
       "    </tr>\n",
       "    <tr>\n",
       "      <th>4</th>\n",
       "      <td>4</td>\n",
       "      <td>beefbagel</td>\n",
       "      <td>tomatecerise roquette sel huileolive bagel car...</td>\n",
       "      <td>tranches frais bagel moitie carpaccio arroser ...</td>\n",
       "      <td>clubsandwich</td>\n",
       "      <td>beefbagel tomatecerise roquette sel huileolive...</td>\n",
       "    </tr>\n",
       "  </tbody>\n",
       "</table>\n",
       "</div>"
      ],
      "text/plain": [
       "   recipe_id                                 title  \\\n",
       "0          9  salademache jambonbayonne mozzarella   \n",
       "1         10                       ciabattinapesto   \n",
       "2        402            tortillachampignons salade   \n",
       "3          2                      steakhache pates   \n",
       "4          4                             beefbagel   \n",
       "\n",
       "                                         ingredients  \\\n",
       "0  mache tomatecerise mozzarella jamboncru crouto...   \n",
       "1  painciabattina jambonparme tomateconfite pesto...   \n",
       "2  champignonparis oeuf haricotsverts feuillebric...   \n",
       "3                        huileolive steakhache pates   \n",
       "4  tomatecerise roquette sel huileolive bagel car...   \n",
       "\n",
       "                                        instructions          link  \\\n",
       "0  mozzarella tomates cerises jambon bayonne lit ...      marmiton   \n",
       "1  pain copeaux parmesan ciabattina tartiner pest...  clubsandwich   \n",
       "2  omelette feuille brick lamelles fines champign...  mangerbouger   \n",
       "3  pates steak hache filet huile olive ebullition...        wecook   \n",
       "4  tranches frais bagel moitie carpaccio arroser ...  clubsandwich   \n",
       "\n",
       "                                                soup  \n",
       "0  salademache jambonbayonne mozzarella mache tom...  \n",
       "1  ciabattinapesto painciabattina jambonparme tom...  \n",
       "2  tortillachampignons salade champignonparis oeu...  \n",
       "3  steakhache pates huileolive steakhache pates p...  \n",
       "4  beefbagel tomatecerise roquette sel huileolive...  "
      ]
     },
     "execution_count": 14,
     "metadata": {},
     "output_type": "execute_result"
    }
   ],
   "source": [
    "# Create a new soup feature in dataframe\n",
    "features = ['title', 'ingredients', 'instructions', 'link']\n",
    "\n",
    "def create_soup(x):\n",
    "    return x['title'] + \" \" + x['ingredients'] + \" \" + x['instructions'] + \" \" + x['link']\n",
    "\n",
    "recipes_text['soup'] = recipes_text.apply(create_soup, axis=1)\n",
    "\n",
    "recipes_text.head()"
   ]
  },
  {
   "cell_type": "markdown",
   "metadata": {},
   "source": [
    "### Cosine Similarity matrix with `CountVectorizer`"
   ]
  },
  {
   "cell_type": "code",
   "execution_count": 15,
   "metadata": {},
   "outputs": [],
   "source": [
    "# Import CountVectorizer and create the count matrix\n",
    "from sklearn.feature_extraction.text import CountVectorizer\n",
    "\n",
    "count_vec = CountVectorizer(stop_words=None)\n",
    "count_matrix = count_vec.fit_transform(recipes_text['soup'])"
   ]
  },
  {
   "cell_type": "code",
   "execution_count": 16,
   "metadata": {},
   "outputs": [],
   "source": [
    "# Compute the Cosine Similarity matrix based on the count_matrix\n",
    "from sklearn.metrics.pairwise import cosine_similarity\n",
    "\n",
    "cosine_sim2 = cosine_similarity(count_matrix, count_matrix)"
   ]
  },
  {
   "cell_type": "markdown",
   "metadata": {},
   "source": [
    "## Recommendations"
   ]
  },
  {
   "cell_type": "markdown",
   "metadata": {},
   "source": [
    "- Function that takes in recipe title as input and return most similar recipes"
   ]
  },
  {
   "cell_type": "code",
   "execution_count": 17,
   "metadata": {},
   "outputs": [],
   "source": [
    "def get_recommendations(title, model=1):\n",
    "    # Get the index of the recipe that matches the title\n",
    "    idx = indices[title]\n",
    "\n",
    "    # Get the pairwsie similarity scores of all recipes with that title\n",
    "    if model == 1:\n",
    "        sim_scores = list(enumerate(cosine_sim[idx]))\n",
    "    elif model == 2:\n",
    "        sim_scores = list(enumerate(cosine_sim2[idx]))\n",
    "\n",
    "    # Sort the recipes based on the similarity scores\n",
    "    sim_scores = sorted(sim_scores, key=lambda x: x[1], reverse=True)\n",
    "\n",
    "    # Get the scores of the 10 most similar recipes\n",
    "    top_10 = sim_scores[1:11]\n",
    "\n",
    "    # Get the recipe indices\n",
    "    top_indices = [i[0] for i in top_10]\n",
    "\n",
    "    return top_indices"
   ]
  },
  {
   "cell_type": "code",
   "execution_count": 18,
   "metadata": {},
   "outputs": [],
   "source": [
    "def get_recipes(title, model=1):\n",
    "    # Get the recipe indices\n",
    "    top_indices = get_recommendations(title, model)\n",
    "\n",
    "    # Return the top 10 most similar recipes\n",
    "    return recipes['title'].iloc[top_indices]"
   ]
  },
  {
   "cell_type": "code",
   "execution_count": 25,
   "metadata": {},
   "outputs": [],
   "source": [
    "def demo(model=1):\n",
    "    fn_lst = input(\"Type name of ingredients with ', ': \").split(\", \")\n",
    "    rid_lst = find_recipes(fn_lst)\n",
    "    while len(rid_lst) == 0:\n",
    "        print(\"No recipe match!\")\n",
    "        fn_lst = input(\"Please try again: \").split(\", \")\n",
    "        rid_lst = find_recipes(fn_lst)\n",
    "    \n",
    "    print(\"\\n-------------\\nRecipe Sample\\n-------------\")\n",
    "    if len(rid_lst) < 5:\n",
    "        for s in rid_lst:\n",
    "            print(recipes[recipes.recipe_id == s][\"title\"].values[0])\n",
    "    else:\n",
    "        sample5 = sample(rid_lst, 5)\n",
    "        for s in sample5:\n",
    "            print(recipes[recipes.recipe_id == s][\"title\"].values[0])\n",
    "     \n",
    "    ntitle = input(\"\\nEnter your recipe name: \")\n",
    "    top = get_recommendations(ntitle, model)\n",
    "    print(\"\\nSimilar recipes: \\n----------------\")\n",
    "    for i, r in enumerate(top):\n",
    "        print('{:2d}) {}'.format(i+1, recipes['title'].iloc[r]))\n",
    "        print(\"   \", recipes['link'].iloc[r])\n",
    "    \n",
    "    return print(\"\\nVoila !\")"
   ]
  },
  {
   "cell_type": "markdown",
   "metadata": {},
   "source": [
    "# Demo:\n"
   ]
  },
  {
   "cell_type": "code",
   "execution_count": 20,
   "metadata": {},
   "outputs": [
    {
     "data": {
      "text/plain": [
       "171                                   Sandwich Antipasti\n",
       "506                                         Pesto Burger\n",
       "487                                 Croque-monsieur Roma\n",
       "396       Spaghetti, sauce pesto maison, jambon de parme\n",
       "673    Pâtes, sauce pesto, tomates séchées, jambon de...\n",
       "485                        Croque-monsieur à la Roquette\n",
       "488                               Croque-monsieur Italia\n",
       "713                Pâtes, sauce pesto, parmesan, basilic\n",
       "441                            Sandwich Grand Frais Roux\n",
       "890                            Bruschetta Mâche/Parmesan\n",
       "Name: title, dtype: object"
      ]
     },
     "execution_count": 20,
     "metadata": {},
     "output_type": "execute_result"
    }
   ],
   "source": [
    "get_recipes('Ciabattina al pesto', model=1)"
   ]
  },
  {
   "cell_type": "code",
   "execution_count": 21,
   "metadata": {},
   "outputs": [
    {
     "data": {
      "text/plain": [
       "171                                    Sandwich Antipasti\n",
       "713                 Pâtes, sauce pesto, parmesan, basilic\n",
       "220                                     Gnocchis au pesto\n",
       "487                                  Croque-monsieur Roma\n",
       "396        Spaghetti, sauce pesto maison, jambon de parme\n",
       "1056    Pâtes, sauce pesto maison, tomate cerise, pign...\n",
       "890                             Bruschetta Mâche/Parmesan\n",
       "673     Pâtes, sauce pesto, tomates séchées, jambon de...\n",
       "1206    Pâtes, sauce pesto, parmesan, salade verte, vi...\n",
       "1094    Pâtes, sauce pesto maison, parmesan, mozzarell...\n",
       "Name: title, dtype: object"
      ]
     },
     "execution_count": 21,
     "metadata": {},
     "output_type": "execute_result"
    }
   ],
   "source": [
    "get_recipes('Ciabattina al pesto', model=2)"
   ]
  },
  {
   "cell_type": "markdown",
   "metadata": {},
   "source": [
    "# Backend testing"
   ]
  },
  {
   "cell_type": "code",
   "execution_count": 27,
   "metadata": {
    "scrolled": false
   },
   "outputs": [
    {
     "name": "stdout",
     "output_type": "stream",
     "text": [
      "Type name of ingredients with ', ': aubergine, tomate, oignon\n",
      "\n",
      "-------------\n",
      "Recipe Sample\n",
      "-------------\n",
      "Curry d'aubergines\n",
      "Gratin de légumes\n",
      "Moussaka végétarienne\n",
      "Salade de boulgour au cumin\n",
      "\n",
      "Enter your recipe name: Salade de boulgour au cumin\n",
      "\n",
      "Similar recipes: \n",
      "----------------\n",
      " 1) Salade fraîcheur aux courgettes, tomates et poivrons\n",
      "    http://www.cuisineaz.com/recettes/salade-fraicheur-aux-courgettes-tomates-et-poivrons-70679.aspx\n",
      " 2) Velouté tomates poivrons\n",
      "    http://www.unjourunerecette.fr/recette-veloute-tomates-poivrons\n",
      " 3) Taboulé ultra-facile\n",
      "    http://www.marmiton.org/recettes/recette_taboule-ultra-facile_15832.aspx\n",
      " 4) Boulgour, chou-fleur et brocoli sautés, sauce soja, graines de sésame\n",
      "    https://www.foodmama.fr/recipes/1116\n",
      " 5) Boulgour, pois gourmands, champignon, oeuf mollet, sauce tahin\n",
      "    https://www.foodmama.fr/recipes/1060\n",
      " 6) Boulgour, petit pois, pois gourmands, champignon, oeuf mollet, sauce tahin\n",
      "    https://www.foodmama.fr/recipes/1059\n",
      " 7) Salade mexicaine  simplissime\n",
      "    http://www.cuisineaz.com/recettes/salade-mexicaine-simplissime-62260.aspx\n",
      " 8) Carotte, radis, épinard, boulgour, sauce citronnée, graines de courge\n",
      "    https://www.foodmama.fr/recipes/1067\n",
      " 9) Salade de lentilles corail aux poivrons\n",
      "    http://www.cuisineaz.com/recettes/salade-de-lentilles-corail-aux-poivrons-84968.aspx\n",
      "10) Avocat, carottes rapées, boulgour, fèves, vinaigrette, graines de lin\n",
      "    https://www.foodmama.fr/recipes/1111\n",
      "\n",
      "Voila !\n"
     ]
    }
   ],
   "source": [
    "demo(model=1)"
   ]
  }
 ],
 "metadata": {
  "kernelspec": {
   "display_name": "Python 3",
   "language": "python",
   "name": "python3"
  },
  "language_info": {
   "codemirror_mode": {
    "name": "ipython",
    "version": 3
   },
   "file_extension": ".py",
   "mimetype": "text/x-python",
   "name": "python",
   "nbconvert_exporter": "python",
   "pygments_lexer": "ipython3",
   "version": "3.7.3"
  }
 },
 "nbformat": 4,
 "nbformat_minor": 2
}
