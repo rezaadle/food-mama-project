{
 "cells": [
  {
   "cell_type": "markdown",
   "metadata": {},
   "source": [
    "## Data Preprocessing for food Mama project: "
   ]
  },
  {
   "cell_type": "code",
   "execution_count": 1,
   "metadata": {},
   "outputs": [],
   "source": [
    "import pandas as pd\n",
    "import os"
   ]
  },
  {
   "cell_type": "markdown",
   "metadata": {},
   "source": [
    "### Loading the Datasets into Pandas dataframe"
   ]
  },
  {
   "cell_type": "code",
   "execution_count": 2,
   "metadata": {},
   "outputs": [
    {
     "name": "stdout",
     "output_type": "stream",
     "text": [
      "Name of the dataframes created: \n",
      "food\n",
      "item\n",
      "recipe\n"
     ]
    }
   ],
   "source": [
    "path = \"datasets/\"\n",
    "files = os.listdir(path)\n",
    "\n",
    "dfs = []\n",
    "for file in files:\n",
    "    filename = file.split(\"_\")\n",
    "    dfs.append(filename[0])\n",
    "    exec(dfs[-1] + '= pd.read_csv(path + file)')\n",
    "\n",
    "print(\"Name of the dataframes created: \", *dfs, sep=\"\\n\")"
   ]
  },
  {
   "cell_type": "markdown",
   "metadata": {},
   "source": [
    "### 1) *foods* table: "
   ]
  },
  {
   "cell_type": "code",
   "execution_count": 3,
   "metadata": {},
   "outputs": [
    {
     "name": "stdout",
     "output_type": "stream",
     "text": [
      "<class 'pandas.core.frame.DataFrame'>\n",
      "RangeIndex: 564 entries, 0 to 563\n",
      "Data columns (total 7 columns):\n",
      "id              564 non-null int64\n",
      "name            564 non-null object\n",
      "created_at      564 non-null object\n",
      "updated_at      564 non-null object\n",
      "availability    563 non-null object\n",
      "category_id     563 non-null float64\n",
      "ancestry        159 non-null object\n",
      "dtypes: float64(1), int64(1), object(5)\n",
      "memory usage: 30.9+ KB\n"
     ]
    }
   ],
   "source": [
    "#exec(\"print(\" + dfs[0] + \".head())\")\n",
    "food.info()"
   ]
  },
  {
   "cell_type": "markdown",
   "metadata": {},
   "source": [
    "- Create a copy of table and then drop unnecessary columns, replace \"id\" with \"food_id\", and try to fill the missing data. "
   ]
  },
  {
   "cell_type": "code",
   "execution_count": 4,
   "metadata": {},
   "outputs": [
    {
     "data": {
      "text/html": [
       "<div>\n",
       "<style scoped>\n",
       "    .dataframe tbody tr th:only-of-type {\n",
       "        vertical-align: middle;\n",
       "    }\n",
       "\n",
       "    .dataframe tbody tr th {\n",
       "        vertical-align: top;\n",
       "    }\n",
       "\n",
       "    .dataframe thead th {\n",
       "        text-align: right;\n",
       "    }\n",
       "</style>\n",
       "<table border=\"1\" class=\"dataframe\">\n",
       "  <thead>\n",
       "    <tr style=\"text-align: right;\">\n",
       "      <th></th>\n",
       "      <th>food_id</th>\n",
       "      <th>name</th>\n",
       "      <th>availability</th>\n",
       "      <th>category_id</th>\n",
       "      <th>ancestry</th>\n",
       "    </tr>\n",
       "  </thead>\n",
       "  <tbody>\n",
       "    <tr>\n",
       "      <th>0</th>\n",
       "      <td>7</td>\n",
       "      <td>oignon</td>\n",
       "      <td>01, 02, 03, 04, 05, 06, 07, 08, 09, 10, 11, 12</td>\n",
       "      <td>14.0</td>\n",
       "      <td>NaN</td>\n",
       "    </tr>\n",
       "    <tr>\n",
       "      <th>1</th>\n",
       "      <td>4</td>\n",
       "      <td>semoule</td>\n",
       "      <td>01, 02, 03, 04, 05, 06, 07, 08, 09, 10, 11, 12</td>\n",
       "      <td>21.0</td>\n",
       "      <td>NaN</td>\n",
       "    </tr>\n",
       "    <tr>\n",
       "      <th>2</th>\n",
       "      <td>42</td>\n",
       "      <td>mâche</td>\n",
       "      <td>01, 02, 03, 04, 05, 06, 07, 08, 09, 10, 11, 12</td>\n",
       "      <td>14.0</td>\n",
       "      <td>86</td>\n",
       "    </tr>\n",
       "    <tr>\n",
       "      <th>3</th>\n",
       "      <td>14</td>\n",
       "      <td>roquette</td>\n",
       "      <td>05, 06, 07, 08, 09, 10, 11</td>\n",
       "      <td>14.0</td>\n",
       "      <td>86</td>\n",
       "    </tr>\n",
       "    <tr>\n",
       "      <th>4</th>\n",
       "      <td>54</td>\n",
       "      <td>crème liquide</td>\n",
       "      <td>01, 02, 03, 04, 05, 06, 07, 08, 09, 10, 11, 12</td>\n",
       "      <td>32.0</td>\n",
       "      <td>NaN</td>\n",
       "    </tr>\n",
       "  </tbody>\n",
       "</table>\n",
       "</div>"
      ],
      "text/plain": [
       "   food_id           name                                    availability  \\\n",
       "0        7         oignon  01, 02, 03, 04, 05, 06, 07, 08, 09, 10, 11, 12   \n",
       "1        4        semoule  01, 02, 03, 04, 05, 06, 07, 08, 09, 10, 11, 12   \n",
       "2       42          mâche  01, 02, 03, 04, 05, 06, 07, 08, 09, 10, 11, 12   \n",
       "3       14       roquette                      05, 06, 07, 08, 09, 10, 11   \n",
       "4       54  crème liquide  01, 02, 03, 04, 05, 06, 07, 08, 09, 10, 11, 12   \n",
       "\n",
       "   category_id ancestry  \n",
       "0         14.0      NaN  \n",
       "1         21.0      NaN  \n",
       "2         14.0       86  \n",
       "3         14.0       86  \n",
       "4         32.0      NaN  "
      ]
     },
     "execution_count": 4,
     "metadata": {},
     "output_type": "execute_result"
    }
   ],
   "source": [
    "food_copy = food.copy()\n",
    "food.drop([\"created_at\",\"updated_at\"], axis=1, inplace=True)\n",
    "food.rename(columns={'id': 'food_id'}, inplace=True)\n",
    "food.sort_index().head()"
   ]
  },
  {
   "cell_type": "code",
   "execution_count": 5,
   "metadata": {},
   "outputs": [
    {
     "data": {
      "text/html": [
       "<div>\n",
       "<style scoped>\n",
       "    .dataframe tbody tr th:only-of-type {\n",
       "        vertical-align: middle;\n",
       "    }\n",
       "\n",
       "    .dataframe tbody tr th {\n",
       "        vertical-align: top;\n",
       "    }\n",
       "\n",
       "    .dataframe thead th {\n",
       "        text-align: right;\n",
       "    }\n",
       "</style>\n",
       "<table border=\"1\" class=\"dataframe\">\n",
       "  <thead>\n",
       "    <tr style=\"text-align: right;\">\n",
       "      <th></th>\n",
       "      <th>food_id</th>\n",
       "      <th>name</th>\n",
       "      <th>availability</th>\n",
       "      <th>category_id</th>\n",
       "      <th>ancestry</th>\n",
       "    </tr>\n",
       "  </thead>\n",
       "  <tbody>\n",
       "    <tr>\n",
       "      <th>64</th>\n",
       "      <td>53</td>\n",
       "      <td>pomme de terre</td>\n",
       "      <td>NaN</td>\n",
       "      <td>14.0</td>\n",
       "      <td>NaN</td>\n",
       "    </tr>\n",
       "  </tbody>\n",
       "</table>\n",
       "</div>"
      ],
      "text/plain": [
       "    food_id            name availability  category_id ancestry\n",
       "64       53  pomme de terre          NaN         14.0      NaN"
      ]
     },
     "execution_count": 5,
     "metadata": {},
     "output_type": "execute_result"
    }
   ],
   "source": [
    "# availability column missing data\n",
    "food[food.availability.isnull()]"
   ]
  },
  {
   "cell_type": "code",
   "execution_count": 6,
   "metadata": {},
   "outputs": [
    {
     "data": {
      "text/html": [
       "<div>\n",
       "<style scoped>\n",
       "    .dataframe tbody tr th:only-of-type {\n",
       "        vertical-align: middle;\n",
       "    }\n",
       "\n",
       "    .dataframe tbody tr th {\n",
       "        vertical-align: top;\n",
       "    }\n",
       "\n",
       "    .dataframe thead th {\n",
       "        text-align: right;\n",
       "    }\n",
       "</style>\n",
       "<table border=\"1\" class=\"dataframe\">\n",
       "  <thead>\n",
       "    <tr style=\"text-align: right;\">\n",
       "      <th></th>\n",
       "      <th>food_id</th>\n",
       "      <th>name</th>\n",
       "      <th>availability</th>\n",
       "      <th>category_id</th>\n",
       "      <th>ancestry</th>\n",
       "    </tr>\n",
       "  </thead>\n",
       "  <tbody>\n",
       "    <tr>\n",
       "      <th>122</th>\n",
       "      <td>180</td>\n",
       "      <td>purée de pommes de terre</td>\n",
       "      <td>01, 02, 03, 04, 05, 06, 07, 08, 09, 10, 11, 12</td>\n",
       "      <td>47.0</td>\n",
       "      <td>53</td>\n",
       "    </tr>\n",
       "    <tr>\n",
       "      <th>181</th>\n",
       "      <td>243</td>\n",
       "      <td>pomme de terre nouvelle</td>\n",
       "      <td>01, 02, 03, 04, 05, 06, 07, 08, 09, 10, 11, 12</td>\n",
       "      <td>14.0</td>\n",
       "      <td>53</td>\n",
       "    </tr>\n",
       "    <tr>\n",
       "      <th>466</th>\n",
       "      <td>274</td>\n",
       "      <td>pomme de terre rouge</td>\n",
       "      <td>01, 02, 03, 04, 05, 06, 07, 08, 09, 10, 11, 12</td>\n",
       "      <td>14.0</td>\n",
       "      <td>53</td>\n",
       "    </tr>\n",
       "    <tr>\n",
       "      <th>475</th>\n",
       "      <td>157</td>\n",
       "      <td>pommes de terre rissolées</td>\n",
       "      <td>01, 02, 03, 04, 05, 06, 07, 08, 09, 10, 11, 12</td>\n",
       "      <td>47.0</td>\n",
       "      <td>53</td>\n",
       "    </tr>\n",
       "    <tr>\n",
       "      <th>519</th>\n",
       "      <td>521</td>\n",
       "      <td>chips</td>\n",
       "      <td>01, 02, 03, 04, 05, 06, 07, 08, 09, 10, 11, 12</td>\n",
       "      <td>19.0</td>\n",
       "      <td>53</td>\n",
       "    </tr>\n",
       "  </tbody>\n",
       "</table>\n",
       "</div>"
      ],
      "text/plain": [
       "     food_id                       name  \\\n",
       "122      180   purée de pommes de terre   \n",
       "181      243    pomme de terre nouvelle   \n",
       "466      274       pomme de terre rouge   \n",
       "475      157  pommes de terre rissolées   \n",
       "519      521                      chips   \n",
       "\n",
       "                                       availability  category_id ancestry  \n",
       "122  01, 02, 03, 04, 05, 06, 07, 08, 09, 10, 11, 12         47.0       53  \n",
       "181  01, 02, 03, 04, 05, 06, 07, 08, 09, 10, 11, 12         14.0       53  \n",
       "466  01, 02, 03, 04, 05, 06, 07, 08, 09, 10, 11, 12         14.0       53  \n",
       "475  01, 02, 03, 04, 05, 06, 07, 08, 09, 10, 11, 12         47.0       53  \n",
       "519  01, 02, 03, 04, 05, 06, 07, 08, 09, 10, 11, 12         19.0       53  "
      ]
     },
     "execution_count": 6,
     "metadata": {},
     "output_type": "execute_result"
    }
   ],
   "source": [
    "# Check the children's availability data \n",
    "ancestry_id = food[food.availability.isnull()].food_id\n",
    "food[food.ancestry == str(ancestry_id.values[0])]"
   ]
  },
  {
   "cell_type": "code",
   "execution_count": 7,
   "metadata": {},
   "outputs": [
    {
     "data": {
      "text/plain": [
       "food_id                                                     53\n",
       "name                                            pomme de terre\n",
       "availability    01, 02, 03, 04, 05, 06, 07, 08, 09, 10, 11, 12\n",
       "category_id                                                 14\n",
       "ancestry                                                   NaN\n",
       "Name: 64, dtype: object"
      ]
     },
     "execution_count": 7,
     "metadata": {},
     "output_type": "execute_result"
    }
   ],
   "source": [
    "# Fill availability cell with one of its children data (here with the 1st one)\n",
    "child_indexs = food[food.ancestry == str(ancestry_id.values[0])].index\n",
    "ancestry_index = food[food.availability.isnull()].index\n",
    "food.loc[ancestry_index[0], [\"availability\"]] = food.loc[child_indexs[0], [\"availability\"]]\n",
    "food.loc[ancestry_index[0]]"
   ]
  },
  {
   "cell_type": "code",
   "execution_count": 8,
   "metadata": {},
   "outputs": [
    {
     "data": {
      "text/html": [
       "<div>\n",
       "<style scoped>\n",
       "    .dataframe tbody tr th:only-of-type {\n",
       "        vertical-align: middle;\n",
       "    }\n",
       "\n",
       "    .dataframe tbody tr th {\n",
       "        vertical-align: top;\n",
       "    }\n",
       "\n",
       "    .dataframe thead th {\n",
       "        text-align: right;\n",
       "    }\n",
       "</style>\n",
       "<table border=\"1\" class=\"dataframe\">\n",
       "  <thead>\n",
       "    <tr style=\"text-align: right;\">\n",
       "      <th></th>\n",
       "      <th>food_id</th>\n",
       "      <th>name</th>\n",
       "      <th>availability</th>\n",
       "      <th>category_id</th>\n",
       "      <th>ancestry</th>\n",
       "    </tr>\n",
       "  </thead>\n",
       "  <tbody>\n",
       "    <tr>\n",
       "      <th>194</th>\n",
       "      <td>288</td>\n",
       "      <td>couscous</td>\n",
       "      <td>01, 02, 03, 04, 05, 06, 07, 08, 09, 10, 11, 12</td>\n",
       "      <td>NaN</td>\n",
       "      <td>NaN</td>\n",
       "    </tr>\n",
       "  </tbody>\n",
       "</table>\n",
       "</div>"
      ],
      "text/plain": [
       "     food_id      name                                    availability  \\\n",
       "194      288  couscous  01, 02, 03, 04, 05, 06, 07, 08, 09, 10, 11, 12   \n",
       "\n",
       "     category_id ancestry  \n",
       "194          NaN      NaN  "
      ]
     },
     "execution_count": 8,
     "metadata": {},
     "output_type": "execute_result"
    }
   ],
   "source": [
    "# category_id column missing data\n",
    "food[food.category_id.isnull()]"
   ]
  },
  {
   "cell_type": "code",
   "execution_count": 9,
   "metadata": {},
   "outputs": [
    {
     "data": {
      "text/html": [
       "<div>\n",
       "<style scoped>\n",
       "    .dataframe tbody tr th:only-of-type {\n",
       "        vertical-align: middle;\n",
       "    }\n",
       "\n",
       "    .dataframe tbody tr th {\n",
       "        vertical-align: top;\n",
       "    }\n",
       "\n",
       "    .dataframe thead th {\n",
       "        text-align: right;\n",
       "    }\n",
       "</style>\n",
       "<table border=\"1\" class=\"dataframe\">\n",
       "  <thead>\n",
       "    <tr style=\"text-align: right;\">\n",
       "      <th></th>\n",
       "      <th>food_id</th>\n",
       "      <th>name</th>\n",
       "      <th>availability</th>\n",
       "      <th>category_id</th>\n",
       "      <th>ancestry</th>\n",
       "    </tr>\n",
       "  </thead>\n",
       "  <tbody>\n",
       "    <tr>\n",
       "      <th>194</th>\n",
       "      <td>288</td>\n",
       "      <td>couscous</td>\n",
       "      <td>01, 02, 03, 04, 05, 06, 07, 08, 09, 10, 11, 12</td>\n",
       "      <td>NaN</td>\n",
       "      <td>NaN</td>\n",
       "    </tr>\n",
       "  </tbody>\n",
       "</table>\n",
       "</div>"
      ],
      "text/plain": [
       "     food_id      name                                    availability  \\\n",
       "194      288  couscous  01, 02, 03, 04, 05, 06, 07, 08, 09, 10, 11, 12   \n",
       "\n",
       "     category_id ancestry  \n",
       "194          NaN      NaN  "
      ]
     },
     "execution_count": 9,
     "metadata": {},
     "output_type": "execute_result"
    }
   ],
   "source": [
    "# Check similar food using the same name \n",
    "food[food.name.apply(lambda x: \"couscous\" in x)]"
   ]
  },
  {
   "cell_type": "code",
   "execution_count": 10,
   "metadata": {},
   "outputs": [
    {
     "data": {
      "text/html": [
       "<div>\n",
       "<style scoped>\n",
       "    .dataframe tbody tr th:only-of-type {\n",
       "        vertical-align: middle;\n",
       "    }\n",
       "\n",
       "    .dataframe tbody tr th {\n",
       "        vertical-align: top;\n",
       "    }\n",
       "\n",
       "    .dataframe thead th {\n",
       "        text-align: right;\n",
       "    }\n",
       "</style>\n",
       "<table border=\"1\" class=\"dataframe\">\n",
       "  <thead>\n",
       "    <tr style=\"text-align: right;\">\n",
       "      <th></th>\n",
       "      <th>food_id</th>\n",
       "      <th>name</th>\n",
       "      <th>availability</th>\n",
       "      <th>category_id</th>\n",
       "      <th>ancestry</th>\n",
       "    </tr>\n",
       "  </thead>\n",
       "  <tbody>\n",
       "    <tr>\n",
       "      <th>1</th>\n",
       "      <td>4</td>\n",
       "      <td>semoule</td>\n",
       "      <td>01, 02, 03, 04, 05, 06, 07, 08, 09, 10, 11, 12</td>\n",
       "      <td>21.0</td>\n",
       "      <td>NaN</td>\n",
       "    </tr>\n",
       "    <tr>\n",
       "      <th>563</th>\n",
       "      <td>597</td>\n",
       "      <td>semoule de maïs</td>\n",
       "      <td>01, 02, 03, 04, 05, 06, 07, 08, 09, 10, 11, 12</td>\n",
       "      <td>20.0</td>\n",
       "      <td>NaN</td>\n",
       "    </tr>\n",
       "  </tbody>\n",
       "</table>\n",
       "</div>"
      ],
      "text/plain": [
       "     food_id             name                                    availability  \\\n",
       "1          4          semoule  01, 02, 03, 04, 05, 06, 07, 08, 09, 10, 11, 12   \n",
       "563      597  semoule de maïs  01, 02, 03, 04, 05, 06, 07, 08, 09, 10, 11, 12   \n",
       "\n",
       "     category_id ancestry  \n",
       "1           21.0      NaN  \n",
       "563         20.0      NaN  "
      ]
     },
     "execution_count": 10,
     "metadata": {},
     "output_type": "execute_result"
    }
   ],
   "source": [
    "# Check for similar Moroccan food such as \"semoule\" \n",
    "food[food.name.apply(lambda x: \"semoule\" in x)]"
   ]
  },
  {
   "cell_type": "code",
   "execution_count": 11,
   "metadata": {},
   "outputs": [],
   "source": [
    "# Fill the category_id with the value of \"semoule\"\n",
    "index_num = food[food.category_id.isnull()].index\n",
    "food.loc[index_num[0], [\"category_id\"]] = food[food.name == \"semoule\"][\"category_id\"].values[0]"
   ]
  },
  {
   "cell_type": "markdown",
   "metadata": {},
   "source": [
    "- Check different value of *ancestry* column and try to minimize the \"NaN\" values."
   ]
  },
  {
   "cell_type": "code",
   "execution_count": 12,
   "metadata": {
    "scrolled": true
   },
   "outputs": [
    {
     "data": {
      "text/plain": [
       "NaN        405\n",
       "3           14\n",
       "5           12\n",
       "509         10\n",
       "327          9\n",
       "96           8\n",
       "508          8\n",
       "86           8\n",
       "510          8\n",
       "237          7\n",
       "21           6\n",
       "317          5\n",
       "510/404      5\n",
       "53           5\n",
       "308          5\n",
       "511          4\n",
       "349          4\n",
       "7            3\n",
       "516          3\n",
       "519          3\n",
       "269          3\n",
       "510/512      2\n",
       "194          2\n",
       "36           2\n",
       "334          2\n",
       "51           2\n",
       "84           2\n",
       "198          2\n",
       "487          2\n",
       "247          1\n",
       "409          1\n",
       "19           1\n",
       "259          1\n",
       "506          1\n",
       "174          1\n",
       "152          1\n",
       "43           1\n",
       "508/277      1\n",
       "503          1\n",
       "262          1\n",
       "66           1\n",
       "508/422      1\n",
       "Name: ancestry, dtype: int64"
      ]
     },
     "execution_count": 12,
     "metadata": {},
     "output_type": "execute_result"
    }
   ],
   "source": [
    "food.ancestry.value_counts(dropna=False)"
   ]
  },
  {
   "cell_type": "code",
   "execution_count": 13,
   "metadata": {},
   "outputs": [
    {
     "data": {
      "text/html": [
       "<div>\n",
       "<style scoped>\n",
       "    .dataframe tbody tr th:only-of-type {\n",
       "        vertical-align: middle;\n",
       "    }\n",
       "\n",
       "    .dataframe tbody tr th {\n",
       "        vertical-align: top;\n",
       "    }\n",
       "\n",
       "    .dataframe thead th {\n",
       "        text-align: right;\n",
       "    }\n",
       "</style>\n",
       "<table border=\"1\" class=\"dataframe\">\n",
       "  <thead>\n",
       "    <tr style=\"text-align: right;\">\n",
       "      <th></th>\n",
       "      <th>food_id</th>\n",
       "      <th>name</th>\n",
       "      <th>availability</th>\n",
       "      <th>category_id</th>\n",
       "      <th>ancestry</th>\n",
       "    </tr>\n",
       "  </thead>\n",
       "  <tbody>\n",
       "    <tr>\n",
       "      <th>184</th>\n",
       "      <td>187</td>\n",
       "      <td>saucisse fumée</td>\n",
       "      <td>01, 02, 03, 04, 05, 06, 07, 08, 09, 10, 11, 12</td>\n",
       "      <td>23.0</td>\n",
       "      <td>510/404</td>\n",
       "    </tr>\n",
       "    <tr>\n",
       "      <th>334</th>\n",
       "      <td>402</td>\n",
       "      <td>saucisse de Strasbourg</td>\n",
       "      <td>01, 02, 03, 04, 05, 06, 07, 08, 09, 10, 11, 12</td>\n",
       "      <td>23.0</td>\n",
       "      <td>510/404</td>\n",
       "    </tr>\n",
       "    <tr>\n",
       "      <th>393</th>\n",
       "      <td>407</td>\n",
       "      <td>chipolata</td>\n",
       "      <td>01, 02, 03, 04, 05, 06, 07, 08, 09, 10, 11, 12</td>\n",
       "      <td>23.0</td>\n",
       "      <td>510/404</td>\n",
       "    </tr>\n",
       "    <tr>\n",
       "      <th>396</th>\n",
       "      <td>200</td>\n",
       "      <td>saucisse de Francfort</td>\n",
       "      <td>01, 02, 03, 04, 05, 06, 07, 08, 09, 10, 11, 12</td>\n",
       "      <td>23.0</td>\n",
       "      <td>510/404</td>\n",
       "    </tr>\n",
       "    <tr>\n",
       "      <th>506</th>\n",
       "      <td>186</td>\n",
       "      <td>saucisse de porc</td>\n",
       "      <td>01, 02, 03, 04, 05, 06, 07, 08, 09, 10, 11, 12</td>\n",
       "      <td>23.0</td>\n",
       "      <td>510/404</td>\n",
       "    </tr>\n",
       "  </tbody>\n",
       "</table>\n",
       "</div>"
      ],
      "text/plain": [
       "     food_id                    name  \\\n",
       "184      187          saucisse fumée   \n",
       "334      402  saucisse de Strasbourg   \n",
       "393      407               chipolata   \n",
       "396      200   saucisse de Francfort   \n",
       "506      186        saucisse de porc   \n",
       "\n",
       "                                       availability  category_id ancestry  \n",
       "184  01, 02, 03, 04, 05, 06, 07, 08, 09, 10, 11, 12         23.0  510/404  \n",
       "334  01, 02, 03, 04, 05, 06, 07, 08, 09, 10, 11, 12         23.0  510/404  \n",
       "393  01, 02, 03, 04, 05, 06, 07, 08, 09, 10, 11, 12         23.0  510/404  \n",
       "396  01, 02, 03, 04, 05, 06, 07, 08, 09, 10, 11, 12         23.0  510/404  \n",
       "506  01, 02, 03, 04, 05, 06, 07, 08, 09, 10, 11, 12         23.0  510/404  "
      ]
     },
     "execution_count": 13,
     "metadata": {},
     "output_type": "execute_result"
    }
   ],
   "source": [
    "food[food.ancestry == \"510/404\"]"
   ]
  },
  {
   "cell_type": "code",
   "execution_count": 14,
   "metadata": {},
   "outputs": [
    {
     "data": {
      "text/html": [
       "<div>\n",
       "<style scoped>\n",
       "    .dataframe tbody tr th:only-of-type {\n",
       "        vertical-align: middle;\n",
       "    }\n",
       "\n",
       "    .dataframe tbody tr th {\n",
       "        vertical-align: top;\n",
       "    }\n",
       "\n",
       "    .dataframe thead th {\n",
       "        text-align: right;\n",
       "    }\n",
       "</style>\n",
       "<table border=\"1\" class=\"dataframe\">\n",
       "  <thead>\n",
       "    <tr style=\"text-align: right;\">\n",
       "      <th></th>\n",
       "      <th>food_id</th>\n",
       "      <th>name</th>\n",
       "      <th>availability</th>\n",
       "      <th>category_id</th>\n",
       "      <th>ancestry</th>\n",
       "    </tr>\n",
       "  </thead>\n",
       "  <tbody>\n",
       "    <tr>\n",
       "      <th>489</th>\n",
       "      <td>510</td>\n",
       "      <td>porc</td>\n",
       "      <td>01, 02, 03, 04, 05, 06, 07, 08, 09, 10, 11, 12</td>\n",
       "      <td>27.0</td>\n",
       "      <td>NaN</td>\n",
       "    </tr>\n",
       "    <tr>\n",
       "      <th>507</th>\n",
       "      <td>404</td>\n",
       "      <td>saucisse</td>\n",
       "      <td>01, 02, 03, 04, 05, 06, 07, 08, 09, 10, 11, 12</td>\n",
       "      <td>23.0</td>\n",
       "      <td>510</td>\n",
       "    </tr>\n",
       "  </tbody>\n",
       "</table>\n",
       "</div>"
      ],
      "text/plain": [
       "     food_id      name                                    availability  \\\n",
       "489      510      porc  01, 02, 03, 04, 05, 06, 07, 08, 09, 10, 11, 12   \n",
       "507      404  saucisse  01, 02, 03, 04, 05, 06, 07, 08, 09, 10, 11, 12   \n",
       "\n",
       "     category_id ancestry  \n",
       "489         27.0      NaN  \n",
       "507         23.0      510  "
      ]
     },
     "execution_count": 14,
     "metadata": {},
     "output_type": "execute_result"
    }
   ],
   "source": [
    "# Verify both ancestries \n",
    "food[(food.food_id == 510) | (food.food_id == 404)]"
   ]
  },
  {
   "cell_type": "code",
   "execution_count": 15,
   "metadata": {},
   "outputs": [],
   "source": [
    "# Change the ancestry value with the subcategory id number\n",
    "sub_cat = food[food.ancestry == \"510/404\"][\"ancestry\"]\n",
    "food.loc[sub_cat.index, \"ancestry\"] = sub_cat.values[0].split(\"/\")[1]"
   ]
  },
  {
   "cell_type": "markdown",
   "metadata": {},
   "source": [
    "- Repeat the same procedure for other values "
   ]
  },
  {
   "cell_type": "code",
   "execution_count": 16,
   "metadata": {},
   "outputs": [
    {
     "data": {
      "text/html": [
       "<div>\n",
       "<style scoped>\n",
       "    .dataframe tbody tr th:only-of-type {\n",
       "        vertical-align: middle;\n",
       "    }\n",
       "\n",
       "    .dataframe tbody tr th {\n",
       "        vertical-align: top;\n",
       "    }\n",
       "\n",
       "    .dataframe thead th {\n",
       "        text-align: right;\n",
       "    }\n",
       "</style>\n",
       "<table border=\"1\" class=\"dataframe\">\n",
       "  <thead>\n",
       "    <tr style=\"text-align: right;\">\n",
       "      <th></th>\n",
       "      <th>food_id</th>\n",
       "      <th>name</th>\n",
       "      <th>availability</th>\n",
       "      <th>category_id</th>\n",
       "      <th>ancestry</th>\n",
       "    </tr>\n",
       "  </thead>\n",
       "  <tbody>\n",
       "    <tr>\n",
       "      <th>189</th>\n",
       "      <td>211</td>\n",
       "      <td>saucisse sèche</td>\n",
       "      <td>01, 02, 03, 04, 05, 06, 07, 08, 09, 10, 11, 12</td>\n",
       "      <td>23.0</td>\n",
       "      <td>510/512</td>\n",
       "    </tr>\n",
       "    <tr>\n",
       "      <th>321</th>\n",
       "      <td>361</td>\n",
       "      <td>salami</td>\n",
       "      <td>01, 02, 03, 04, 05, 06, 07, 08, 09, 10, 11, 12</td>\n",
       "      <td>23.0</td>\n",
       "      <td>510/512</td>\n",
       "    </tr>\n",
       "  </tbody>\n",
       "</table>\n",
       "</div>"
      ],
      "text/plain": [
       "     food_id            name                                    availability  \\\n",
       "189      211  saucisse sèche  01, 02, 03, 04, 05, 06, 07, 08, 09, 10, 11, 12   \n",
       "321      361          salami  01, 02, 03, 04, 05, 06, 07, 08, 09, 10, 11, 12   \n",
       "\n",
       "     category_id ancestry  \n",
       "189         23.0  510/512  \n",
       "321         23.0  510/512  "
      ]
     },
     "execution_count": 16,
     "metadata": {},
     "output_type": "execute_result"
    }
   ],
   "source": [
    "food[food.ancestry == \"510/512\"]"
   ]
  },
  {
   "cell_type": "code",
   "execution_count": 17,
   "metadata": {
    "scrolled": true
   },
   "outputs": [
    {
     "data": {
      "text/html": [
       "<div>\n",
       "<style scoped>\n",
       "    .dataframe tbody tr th:only-of-type {\n",
       "        vertical-align: middle;\n",
       "    }\n",
       "\n",
       "    .dataframe tbody tr th {\n",
       "        vertical-align: top;\n",
       "    }\n",
       "\n",
       "    .dataframe thead th {\n",
       "        text-align: right;\n",
       "    }\n",
       "</style>\n",
       "<table border=\"1\" class=\"dataframe\">\n",
       "  <thead>\n",
       "    <tr style=\"text-align: right;\">\n",
       "      <th></th>\n",
       "      <th>food_id</th>\n",
       "      <th>name</th>\n",
       "      <th>availability</th>\n",
       "      <th>category_id</th>\n",
       "      <th>ancestry</th>\n",
       "    </tr>\n",
       "  </thead>\n",
       "  <tbody>\n",
       "    <tr>\n",
       "      <th>489</th>\n",
       "      <td>510</td>\n",
       "      <td>porc</td>\n",
       "      <td>01, 02, 03, 04, 05, 06, 07, 08, 09, 10, 11, 12</td>\n",
       "      <td>27.0</td>\n",
       "      <td>NaN</td>\n",
       "    </tr>\n",
       "    <tr>\n",
       "      <th>508</th>\n",
       "      <td>512</td>\n",
       "      <td>saucisson</td>\n",
       "      <td>01, 02, 03, 04, 05, 06, 07, 08, 09, 10, 11, 12</td>\n",
       "      <td>23.0</td>\n",
       "      <td>510</td>\n",
       "    </tr>\n",
       "  </tbody>\n",
       "</table>\n",
       "</div>"
      ],
      "text/plain": [
       "     food_id       name                                    availability  \\\n",
       "489      510       porc  01, 02, 03, 04, 05, 06, 07, 08, 09, 10, 11, 12   \n",
       "508      512  saucisson  01, 02, 03, 04, 05, 06, 07, 08, 09, 10, 11, 12   \n",
       "\n",
       "     category_id ancestry  \n",
       "489         27.0      NaN  \n",
       "508         23.0      510  "
      ]
     },
     "execution_count": 17,
     "metadata": {},
     "output_type": "execute_result"
    }
   ],
   "source": [
    "food[(food.food_id == 510) | (food.food_id == 512)]"
   ]
  },
  {
   "cell_type": "code",
   "execution_count": 18,
   "metadata": {},
   "outputs": [],
   "source": [
    "food.loc[[189,321], \"ancestry\"] = \"512\""
   ]
  },
  {
   "cell_type": "code",
   "execution_count": 19,
   "metadata": {},
   "outputs": [
    {
     "data": {
      "text/html": [
       "<div>\n",
       "<style scoped>\n",
       "    .dataframe tbody tr th:only-of-type {\n",
       "        vertical-align: middle;\n",
       "    }\n",
       "\n",
       "    .dataframe tbody tr th {\n",
       "        vertical-align: top;\n",
       "    }\n",
       "\n",
       "    .dataframe thead th {\n",
       "        text-align: right;\n",
       "    }\n",
       "</style>\n",
       "<table border=\"1\" class=\"dataframe\">\n",
       "  <thead>\n",
       "    <tr style=\"text-align: right;\">\n",
       "      <th></th>\n",
       "      <th>food_id</th>\n",
       "      <th>name</th>\n",
       "      <th>availability</th>\n",
       "      <th>category_id</th>\n",
       "      <th>ancestry</th>\n",
       "    </tr>\n",
       "  </thead>\n",
       "  <tbody>\n",
       "    <tr>\n",
       "      <th>329</th>\n",
       "      <td>560</td>\n",
       "      <td>chou frisé</td>\n",
       "      <td>01, 02, 03, 10, 11, 12</td>\n",
       "      <td>14.0</td>\n",
       "      <td>508/277</td>\n",
       "    </tr>\n",
       "    <tr>\n",
       "      <th>521</th>\n",
       "      <td>526</td>\n",
       "      <td>chou vert</td>\n",
       "      <td>01, 02, 03, 04, 05, 06, 07, 08, 09, 10, 11, 12</td>\n",
       "      <td>14.0</td>\n",
       "      <td>508/422</td>\n",
       "    </tr>\n",
       "  </tbody>\n",
       "</table>\n",
       "</div>"
      ],
      "text/plain": [
       "     food_id        name                                    availability  \\\n",
       "329      560  chou frisé                          01, 02, 03, 10, 11, 12   \n",
       "521      526   chou vert  01, 02, 03, 04, 05, 06, 07, 08, 09, 10, 11, 12   \n",
       "\n",
       "     category_id ancestry  \n",
       "329         14.0  508/277  \n",
       "521         14.0  508/422  "
      ]
     },
     "execution_count": 19,
     "metadata": {},
     "output_type": "execute_result"
    }
   ],
   "source": [
    "food[(food.ancestry == \"508/277\") | (food.ancestry == \"508/422\")]"
   ]
  },
  {
   "cell_type": "code",
   "execution_count": 20,
   "metadata": {},
   "outputs": [
    {
     "data": {
      "text/html": [
       "<div>\n",
       "<style scoped>\n",
       "    .dataframe tbody tr th:only-of-type {\n",
       "        vertical-align: middle;\n",
       "    }\n",
       "\n",
       "    .dataframe tbody tr th {\n",
       "        vertical-align: top;\n",
       "    }\n",
       "\n",
       "    .dataframe thead th {\n",
       "        text-align: right;\n",
       "    }\n",
       "</style>\n",
       "<table border=\"1\" class=\"dataframe\">\n",
       "  <thead>\n",
       "    <tr style=\"text-align: right;\">\n",
       "      <th></th>\n",
       "      <th>food_id</th>\n",
       "      <th>name</th>\n",
       "      <th>availability</th>\n",
       "      <th>category_id</th>\n",
       "      <th>ancestry</th>\n",
       "    </tr>\n",
       "  </thead>\n",
       "  <tbody>\n",
       "    <tr>\n",
       "      <th>326</th>\n",
       "      <td>422</td>\n",
       "      <td>chou pommé</td>\n",
       "      <td>01, 02, 03, 04, 10, 11, 12</td>\n",
       "      <td>14.0</td>\n",
       "      <td>508</td>\n",
       "    </tr>\n",
       "    <tr>\n",
       "      <th>392</th>\n",
       "      <td>277</td>\n",
       "      <td>chou kale</td>\n",
       "      <td>01, 02, 03, 10, 11, 12</td>\n",
       "      <td>14.0</td>\n",
       "      <td>508</td>\n",
       "    </tr>\n",
       "    <tr>\n",
       "      <th>503</th>\n",
       "      <td>508</td>\n",
       "      <td>chou</td>\n",
       "      <td>01, 02, 03, 04, 05, 06, 07, 08, 09, 10, 11, 12</td>\n",
       "      <td>14.0</td>\n",
       "      <td>NaN</td>\n",
       "    </tr>\n",
       "  </tbody>\n",
       "</table>\n",
       "</div>"
      ],
      "text/plain": [
       "     food_id        name                                    availability  \\\n",
       "326      422  chou pommé                      01, 02, 03, 04, 10, 11, 12   \n",
       "392      277   chou kale                          01, 02, 03, 10, 11, 12   \n",
       "503      508        chou  01, 02, 03, 04, 05, 06, 07, 08, 09, 10, 11, 12   \n",
       "\n",
       "     category_id ancestry  \n",
       "326         14.0      508  \n",
       "392         14.0      508  \n",
       "503         14.0      NaN  "
      ]
     },
     "execution_count": 20,
     "metadata": {},
     "output_type": "execute_result"
    }
   ],
   "source": [
    "food[(food.food_id == 508) | (food.food_id == 277) | (food.food_id == 422)]"
   ]
  },
  {
   "cell_type": "code",
   "execution_count": 21,
   "metadata": {},
   "outputs": [
    {
     "data": {
      "text/html": [
       "<div>\n",
       "<style scoped>\n",
       "    .dataframe tbody tr th:only-of-type {\n",
       "        vertical-align: middle;\n",
       "    }\n",
       "\n",
       "    .dataframe tbody tr th {\n",
       "        vertical-align: top;\n",
       "    }\n",
       "\n",
       "    .dataframe thead th {\n",
       "        text-align: right;\n",
       "    }\n",
       "</style>\n",
       "<table border=\"1\" class=\"dataframe\">\n",
       "  <thead>\n",
       "    <tr style=\"text-align: right;\">\n",
       "      <th></th>\n",
       "      <th>food_id</th>\n",
       "      <th>name</th>\n",
       "      <th>availability</th>\n",
       "      <th>category_id</th>\n",
       "      <th>ancestry</th>\n",
       "    </tr>\n",
       "  </thead>\n",
       "  <tbody>\n",
       "    <tr>\n",
       "      <th>124</th>\n",
       "      <td>156</td>\n",
       "      <td>chou-fleur</td>\n",
       "      <td>01, 02, 03, 04, 05, 06, 07, 08, 09, 10, 11, 12</td>\n",
       "      <td>14.0</td>\n",
       "      <td>508</td>\n",
       "    </tr>\n",
       "    <tr>\n",
       "      <th>195</th>\n",
       "      <td>315</td>\n",
       "      <td>chou chinois</td>\n",
       "      <td>01, 02, 05, 06, 07, 08, 09, 10, 11, 12</td>\n",
       "      <td>14.0</td>\n",
       "      <td>508</td>\n",
       "    </tr>\n",
       "    <tr>\n",
       "      <th>196</th>\n",
       "      <td>287</td>\n",
       "      <td>chou blanc</td>\n",
       "      <td>01, 02, 03, 04, 05, 06, 07, 08, 09, 10, 11, 12</td>\n",
       "      <td>14.0</td>\n",
       "      <td>508</td>\n",
       "    </tr>\n",
       "    <tr>\n",
       "      <th>326</th>\n",
       "      <td>422</td>\n",
       "      <td>chou pommé</td>\n",
       "      <td>01, 02, 03, 04, 10, 11, 12</td>\n",
       "      <td>14.0</td>\n",
       "      <td>508</td>\n",
       "    </tr>\n",
       "    <tr>\n",
       "      <th>392</th>\n",
       "      <td>277</td>\n",
       "      <td>chou kale</td>\n",
       "      <td>01, 02, 03, 10, 11, 12</td>\n",
       "      <td>14.0</td>\n",
       "      <td>508</td>\n",
       "    </tr>\n",
       "    <tr>\n",
       "      <th>469</th>\n",
       "      <td>420</td>\n",
       "      <td>chou rouge</td>\n",
       "      <td>01, 02, 03, 04, 05, 06, 07, 08, 09, 10, 11, 12</td>\n",
       "      <td>14.0</td>\n",
       "      <td>508</td>\n",
       "    </tr>\n",
       "    <tr>\n",
       "      <th>484</th>\n",
       "      <td>419</td>\n",
       "      <td>chou de Bruxelles</td>\n",
       "      <td>01, 02, 03, 09, 10, 11, 12</td>\n",
       "      <td>14.0</td>\n",
       "      <td>508</td>\n",
       "    </tr>\n",
       "    <tr>\n",
       "      <th>530</th>\n",
       "      <td>421</td>\n",
       "      <td>chou romanesco</td>\n",
       "      <td>06, 07, 08, 09</td>\n",
       "      <td>14.0</td>\n",
       "      <td>508</td>\n",
       "    </tr>\n",
       "  </tbody>\n",
       "</table>\n",
       "</div>"
      ],
      "text/plain": [
       "     food_id               name  \\\n",
       "124      156         chou-fleur   \n",
       "195      315       chou chinois   \n",
       "196      287         chou blanc   \n",
       "326      422         chou pommé   \n",
       "392      277          chou kale   \n",
       "469      420         chou rouge   \n",
       "484      419  chou de Bruxelles   \n",
       "530      421     chou romanesco   \n",
       "\n",
       "                                       availability  category_id ancestry  \n",
       "124  01, 02, 03, 04, 05, 06, 07, 08, 09, 10, 11, 12         14.0      508  \n",
       "195          01, 02, 05, 06, 07, 08, 09, 10, 11, 12         14.0      508  \n",
       "196  01, 02, 03, 04, 05, 06, 07, 08, 09, 10, 11, 12         14.0      508  \n",
       "326                      01, 02, 03, 04, 10, 11, 12         14.0      508  \n",
       "392                          01, 02, 03, 10, 11, 12         14.0      508  \n",
       "469  01, 02, 03, 04, 05, 06, 07, 08, 09, 10, 11, 12         14.0      508  \n",
       "484                      01, 02, 03, 09, 10, 11, 12         14.0      508  \n",
       "530                                  06, 07, 08, 09         14.0      508  "
      ]
     },
     "execution_count": 21,
     "metadata": {},
     "output_type": "execute_result"
    }
   ],
   "source": [
    "food[(food.ancestry == \"508\") | (food.ancestry == \"277\") | (food.ancestry == \"422\")]"
   ]
  },
  {
   "cell_type": "code",
   "execution_count": 22,
   "metadata": {},
   "outputs": [],
   "source": [
    "food.loc[[329,521], \"ancestry\"] = \"508\""
   ]
  },
  {
   "cell_type": "markdown",
   "metadata": {},
   "source": [
    "- Change the \"NaN\" value in *ancestry* column with \"1\" (to be considered as a root position) for the foods line with at least one child in the table. And those that don't have any (parent/child) relation with \"0\".   "
   ]
  },
  {
   "cell_type": "code",
   "execution_count": 23,
   "metadata": {
    "scrolled": true
   },
   "outputs": [
    {
     "data": {
      "text/plain": [
       "0      0.650709\n",
       "1      0.067376\n",
       "3      0.024823\n",
       "5      0.021277\n",
       "509    0.017730\n",
       "508    0.017730\n",
       "327    0.015957\n",
       "86     0.014184\n",
       "510    0.014184\n",
       "96     0.014184\n",
       "237    0.012411\n",
       "21     0.010638\n",
       "308    0.008865\n",
       "404    0.008865\n",
       "317    0.008865\n",
       "53     0.008865\n",
       "511    0.007092\n",
       "349    0.007092\n",
       "269    0.005319\n",
       "516    0.005319\n",
       "519    0.005319\n",
       "7      0.005319\n",
       "334    0.003546\n",
       "51     0.003546\n",
       "194    0.003546\n",
       "512    0.003546\n",
       "487    0.003546\n",
       "198    0.003546\n",
       "84     0.003546\n",
       "36     0.003546\n",
       "259    0.001773\n",
       "19     0.001773\n",
       "174    0.001773\n",
       "152    0.001773\n",
       "503    0.001773\n",
       "66     0.001773\n",
       "262    0.001773\n",
       "506    0.001773\n",
       "43     0.001773\n",
       "409    0.001773\n",
       "247    0.001773\n",
       "Name: ancestry, dtype: float64"
      ]
     },
     "execution_count": 23,
     "metadata": {},
     "output_type": "execute_result"
    }
   ],
   "source": [
    "id_list = food[food.ancestry.isnull()].index\n",
    "for i in id_list:\n",
    "    if len(food[food.ancestry == str(food.loc[i, \"food_id\"])]) > 0:\n",
    "        food.loc[i, \"ancestry\"] = \"1\"\n",
    "    else:\n",
    "        food.loc[i, \"ancestry\"] = \"0\"\n",
    "\n",
    "food.ancestry.value_counts(normalize=True, dropna=False)"
   ]
  },
  {
   "cell_type": "markdown",
   "metadata": {},
   "source": [
    "### 2) *recipes* table: "
   ]
  },
  {
   "cell_type": "code",
   "execution_count": 24,
   "metadata": {
    "scrolled": false
   },
   "outputs": [
    {
     "name": "stdout",
     "output_type": "stream",
     "text": [
      "<class 'pandas.core.frame.DataFrame'>\n",
      "RangeIndex: 1234 entries, 0 to 1233\n",
      "Data columns (total 12 columns):\n",
      "id               1234 non-null int64\n",
      "title            1234 non-null object\n",
      "servings         1234 non-null int64\n",
      "ingredients      1234 non-null object\n",
      "instructions     1234 non-null object\n",
      "created_at       1234 non-null object\n",
      "updated_at       1234 non-null object\n",
      "recommendable    23 non-null object\n",
      "status           1234 non-null object\n",
      "origin           1234 non-null object\n",
      "link             753 non-null object\n",
      "rating           1214 non-null object\n",
      "dtypes: int64(2), object(10)\n",
      "memory usage: 115.8+ KB\n"
     ]
    }
   ],
   "source": [
    "recipe.info()"
   ]
  },
  {
   "cell_type": "markdown",
   "metadata": {},
   "source": [
    "- Create a copy of table and then drop unnecessary columns, replace \"id\" with \"recipe_id\", and try to fill the missing data."
   ]
  },
  {
   "cell_type": "code",
   "execution_count": 25,
   "metadata": {},
   "outputs": [
    {
     "data": {
      "text/html": [
       "<div>\n",
       "<style scoped>\n",
       "    .dataframe tbody tr th:only-of-type {\n",
       "        vertical-align: middle;\n",
       "    }\n",
       "\n",
       "    .dataframe tbody tr th {\n",
       "        vertical-align: top;\n",
       "    }\n",
       "\n",
       "    .dataframe thead th {\n",
       "        text-align: right;\n",
       "    }\n",
       "</style>\n",
       "<table border=\"1\" class=\"dataframe\">\n",
       "  <thead>\n",
       "    <tr style=\"text-align: right;\">\n",
       "      <th></th>\n",
       "      <th>recipe_id</th>\n",
       "      <th>title</th>\n",
       "      <th>servings</th>\n",
       "      <th>ingredients</th>\n",
       "      <th>instructions</th>\n",
       "      <th>created_at</th>\n",
       "      <th>updated_at</th>\n",
       "      <th>origin</th>\n",
       "      <th>link</th>\n",
       "      <th>rating</th>\n",
       "    </tr>\n",
       "  </thead>\n",
       "  <tbody>\n",
       "    <tr>\n",
       "      <th>0</th>\n",
       "      <td>9</td>\n",
       "      <td>Salade mâche, jambon de Bayonne, mozzarella</td>\n",
       "      <td>4</td>\n",
       "      <td>4 bonne poignée de mâche \\r\\n40 tomate cerise ...</td>\n",
       "      <td>Après avoir coupé en dés la mozzarella, couper...</td>\n",
       "      <td>2017-12-14 14:56:37.166524</td>\n",
       "      <td>2018-10-05 09:16:42.390163</td>\n",
       "      <td>www.marmiton.org</td>\n",
       "      <td>http://www.marmiton.org/recettes/recette_salad...</td>\n",
       "      <td>limit</td>\n",
       "    </tr>\n",
       "    <tr>\n",
       "      <th>1</th>\n",
       "      <td>10</td>\n",
       "      <td>Ciabattina al pesto</td>\n",
       "      <td>1</td>\n",
       "      <td>Ciabattina\\r\\nJambon de Parme\\r\\nTomates confi...</td>\n",
       "      <td>Ouvrir le pain Ciabattina en deux et tartiner ...</td>\n",
       "      <td>2017-12-14 14:56:46.270433</td>\n",
       "      <td>2018-10-05 09:16:42.45289</td>\n",
       "      <td>www.club-sandwich.net</td>\n",
       "      <td>http://www.club-sandwich.net/mobile/fiche.php?...</td>\n",
       "      <td>limit</td>\n",
       "    </tr>\n",
       "    <tr>\n",
       "      <th>2</th>\n",
       "      <td>402</td>\n",
       "      <td>Tortilla aux champignons et salade</td>\n",
       "      <td>4</td>\n",
       "      <td>250 g de champignons de Paris\\r\\r\\n4 oeufs\\r\\r...</td>\n",
       "      <td>Préchauffer le four à 180 °C (th. 6).\\r\\nCoupe...</td>\n",
       "      <td>2017-12-15 16:41:37.056079</td>\n",
       "      <td>2018-10-05 09:16:42.505825</td>\n",
       "      <td>www.mangerbouger.fr</td>\n",
       "      <td>http://www.mangerbouger.fr/Manger-Mieux/Recett...</td>\n",
       "      <td>limit</td>\n",
       "    </tr>\n",
       "    <tr>\n",
       "      <th>3</th>\n",
       "      <td>2</td>\n",
       "      <td>Steak haché et pâtes</td>\n",
       "      <td>1</td>\n",
       "      <td>2.0  filets huile d'olive\\r\\n1.0  steak haché\\...</td>\n",
       "      <td>Dans une casserole, portez à ébullition un gra...</td>\n",
       "      <td>2017-12-13 16:17:24.125137</td>\n",
       "      <td>2018-10-05 09:16:42.55582</td>\n",
       "      <td>www.wecook.fr</td>\n",
       "      <td>https://www.wecook.fr/recette/steak-hache-et-p...</td>\n",
       "      <td>good</td>\n",
       "    </tr>\n",
       "    <tr>\n",
       "      <th>4</th>\n",
       "      <td>4</td>\n",
       "      <td>Beef Bagel</td>\n",
       "      <td>1</td>\n",
       "      <td>Pain Bagel\\r\\nCarpaccio de boeuf\\r\\nFromage fr...</td>\n",
       "      <td>Placer les tranches de carpaccio dans un plat ...</td>\n",
       "      <td>2017-12-13 17:13:29.069001</td>\n",
       "      <td>2018-10-05 09:16:42.597349</td>\n",
       "      <td>www.club-sandwich.net</td>\n",
       "      <td>http://www.club-sandwich.net/mobile/fiche.php?...</td>\n",
       "      <td>limit</td>\n",
       "    </tr>\n",
       "  </tbody>\n",
       "</table>\n",
       "</div>"
      ],
      "text/plain": [
       "   recipe_id                                        title  servings  \\\n",
       "0          9  Salade mâche, jambon de Bayonne, mozzarella         4   \n",
       "1         10                          Ciabattina al pesto         1   \n",
       "2        402           Tortilla aux champignons et salade         4   \n",
       "3          2                         Steak haché et pâtes         1   \n",
       "4          4                                   Beef Bagel         1   \n",
       "\n",
       "                                         ingredients  \\\n",
       "0  4 bonne poignée de mâche \\r\\n40 tomate cerise ...   \n",
       "1  Ciabattina\\r\\nJambon de Parme\\r\\nTomates confi...   \n",
       "2  250 g de champignons de Paris\\r\\r\\n4 oeufs\\r\\r...   \n",
       "3  2.0  filets huile d'olive\\r\\n1.0  steak haché\\...   \n",
       "4  Pain Bagel\\r\\nCarpaccio de boeuf\\r\\nFromage fr...   \n",
       "\n",
       "                                        instructions  \\\n",
       "0  Après avoir coupé en dés la mozzarella, couper...   \n",
       "1  Ouvrir le pain Ciabattina en deux et tartiner ...   \n",
       "2  Préchauffer le four à 180 °C (th. 6).\\r\\nCoupe...   \n",
       "3  Dans une casserole, portez à ébullition un gra...   \n",
       "4  Placer les tranches de carpaccio dans un plat ...   \n",
       "\n",
       "                   created_at                  updated_at  \\\n",
       "0  2017-12-14 14:56:37.166524  2018-10-05 09:16:42.390163   \n",
       "1  2017-12-14 14:56:46.270433   2018-10-05 09:16:42.45289   \n",
       "2  2017-12-15 16:41:37.056079  2018-10-05 09:16:42.505825   \n",
       "3  2017-12-13 16:17:24.125137   2018-10-05 09:16:42.55582   \n",
       "4  2017-12-13 17:13:29.069001  2018-10-05 09:16:42.597349   \n",
       "\n",
       "                  origin                                               link  \\\n",
       "0       www.marmiton.org  http://www.marmiton.org/recettes/recette_salad...   \n",
       "1  www.club-sandwich.net  http://www.club-sandwich.net/mobile/fiche.php?...   \n",
       "2    www.mangerbouger.fr  http://www.mangerbouger.fr/Manger-Mieux/Recett...   \n",
       "3          www.wecook.fr  https://www.wecook.fr/recette/steak-hache-et-p...   \n",
       "4  www.club-sandwich.net  http://www.club-sandwich.net/mobile/fiche.php?...   \n",
       "\n",
       "  rating  \n",
       "0  limit  \n",
       "1  limit  \n",
       "2  limit  \n",
       "3   good  \n",
       "4  limit  "
      ]
     },
     "execution_count": 25,
     "metadata": {},
     "output_type": "execute_result"
    }
   ],
   "source": [
    "recipe_copy = recipe.copy()\n",
    "recipe.drop([\"recommendable\",\"status\"], axis=1, inplace=True)\n",
    "recipe.rename(columns={'id': 'recipe_id'}, inplace=True)\n",
    "recipe.head()"
   ]
  },
  {
   "cell_type": "code",
   "execution_count": 26,
   "metadata": {},
   "outputs": [
    {
     "data": {
      "text/plain": [
       "mama    481\n",
       "Name: origin, dtype: int64"
      ]
     },
     "execution_count": 26,
     "metadata": {},
     "output_type": "execute_result"
    }
   ],
   "source": [
    "# Check the \"origin\" column values for the null data in \"link\" column\n",
    "origin_list = recipe[recipe.link.isnull()][\"origin\"]\n",
    "origin_list.value_counts()"
   ]
  },
  {
   "cell_type": "code",
   "execution_count": 27,
   "metadata": {},
   "outputs": [
    {
     "data": {
      "text/html": [
       "<div>\n",
       "<style scoped>\n",
       "    .dataframe tbody tr th:only-of-type {\n",
       "        vertical-align: middle;\n",
       "    }\n",
       "\n",
       "    .dataframe tbody tr th {\n",
       "        vertical-align: top;\n",
       "    }\n",
       "\n",
       "    .dataframe thead th {\n",
       "        text-align: right;\n",
       "    }\n",
       "</style>\n",
       "<table border=\"1\" class=\"dataframe\">\n",
       "  <thead>\n",
       "    <tr style=\"text-align: right;\">\n",
       "      <th></th>\n",
       "      <th>recipe_id</th>\n",
       "      <th>link</th>\n",
       "    </tr>\n",
       "  </thead>\n",
       "  <tbody>\n",
       "    <tr>\n",
       "      <th>28</th>\n",
       "      <td>905</td>\n",
       "      <td>https://www.foodmama.fr/recipes/905</td>\n",
       "    </tr>\n",
       "    <tr>\n",
       "      <th>29</th>\n",
       "      <td>1063</td>\n",
       "      <td>https://www.foodmama.fr/recipes/1063</td>\n",
       "    </tr>\n",
       "    <tr>\n",
       "      <th>44</th>\n",
       "      <td>1103</td>\n",
       "      <td>https://www.foodmama.fr/recipes/1103</td>\n",
       "    </tr>\n",
       "    <tr>\n",
       "      <th>46</th>\n",
       "      <td>1118</td>\n",
       "      <td>https://www.foodmama.fr/recipes/1118</td>\n",
       "    </tr>\n",
       "    <tr>\n",
       "      <th>62</th>\n",
       "      <td>1099</td>\n",
       "      <td>https://www.foodmama.fr/recipes/1099</td>\n",
       "    </tr>\n",
       "    <tr>\n",
       "      <th>63</th>\n",
       "      <td>906</td>\n",
       "      <td>https://www.foodmama.fr/recipes/906</td>\n",
       "    </tr>\n",
       "    <tr>\n",
       "      <th>70</th>\n",
       "      <td>774</td>\n",
       "      <td>https://www.foodmama.fr/recipes/774</td>\n",
       "    </tr>\n",
       "    <tr>\n",
       "      <th>71</th>\n",
       "      <td>908</td>\n",
       "      <td>https://www.foodmama.fr/recipes/908</td>\n",
       "    </tr>\n",
       "    <tr>\n",
       "      <th>80</th>\n",
       "      <td>776</td>\n",
       "      <td>https://www.foodmama.fr/recipes/776</td>\n",
       "    </tr>\n",
       "    <tr>\n",
       "      <th>89</th>\n",
       "      <td>777</td>\n",
       "      <td>https://www.foodmama.fr/recipes/777</td>\n",
       "    </tr>\n",
       "  </tbody>\n",
       "</table>\n",
       "</div>"
      ],
      "text/plain": [
       "    recipe_id                                  link\n",
       "28        905   https://www.foodmama.fr/recipes/905\n",
       "29       1063  https://www.foodmama.fr/recipes/1063\n",
       "44       1103  https://www.foodmama.fr/recipes/1103\n",
       "46       1118  https://www.foodmama.fr/recipes/1118\n",
       "62       1099  https://www.foodmama.fr/recipes/1099\n",
       "63        906   https://www.foodmama.fr/recipes/906\n",
       "70        774   https://www.foodmama.fr/recipes/774\n",
       "71        908   https://www.foodmama.fr/recipes/908\n",
       "80        776   https://www.foodmama.fr/recipes/776\n",
       "89        777   https://www.foodmama.fr/recipes/777"
      ]
     },
     "execution_count": 27,
     "metadata": {},
     "output_type": "execute_result"
    }
   ],
   "source": [
    "# Add the Mama web link recipes for the missing values in the \"link\" column\n",
    "foodmama_path = \"https://www.foodmama.fr/recipes/\"\n",
    "index_list = recipe[recipe.link.isnull()].index\n",
    "for i in index_list:\n",
    "    recipe.loc[i, [\"link\"]] = foodmama_path + str(recipe.loc[i, [\"recipe_id\"]].values[0])\n",
    "\n",
    "# Check the first 10 lines\n",
    "recipe.loc[index_list[:10], [\"recipe_id\", \"link\"]]"
   ]
  },
  {
   "cell_type": "code",
   "execution_count": 28,
   "metadata": {},
   "outputs": [
    {
     "data": {
      "text/plain": [
       "limit        506\n",
       "good         487\n",
       "excellent    171\n",
       "avoid         50\n",
       "NaN           20\n",
       "Name: rating, dtype: int64"
      ]
     },
     "execution_count": 28,
     "metadata": {},
     "output_type": "execute_result"
    }
   ],
   "source": [
    "# Check different categories in \"rating\" column\n",
    "recipe.rating.value_counts(dropna=False)"
   ]
  },
  {
   "cell_type": "code",
   "execution_count": 29,
   "metadata": {},
   "outputs": [
    {
     "name": "stdout",
     "output_type": "stream",
     "text": [
      "<class 'pandas.core.frame.DataFrame'>\n",
      "RangeIndex: 1234 entries, 0 to 1233\n",
      "Data columns (total 10 columns):\n",
      "recipe_id       1234 non-null int64\n",
      "title           1234 non-null object\n",
      "servings        1234 non-null int64\n",
      "ingredients     1234 non-null object\n",
      "instructions    1234 non-null object\n",
      "created_at      1234 non-null object\n",
      "updated_at      1234 non-null object\n",
      "origin          1234 non-null object\n",
      "link            1234 non-null object\n",
      "rating          1234 non-null object\n",
      "dtypes: int64(2), object(8)\n",
      "memory usage: 96.5+ KB\n"
     ]
    }
   ],
   "source": [
    "# Replace \"NaN\" values with \"unknown\" rating\n",
    "recipe.rating.fillna(\"unknown\", inplace=True)\n",
    "recipe.info()"
   ]
  },
  {
   "cell_type": "markdown",
   "metadata": {},
   "source": [
    "### 3) *items* table: "
   ]
  },
  {
   "cell_type": "code",
   "execution_count": 30,
   "metadata": {},
   "outputs": [
    {
     "name": "stdout",
     "output_type": "stream",
     "text": [
      "<class 'pandas.core.frame.DataFrame'>\n",
      "RangeIndex: 8464 entries, 0 to 8463\n",
      "Data columns (total 7 columns):\n",
      "Id                      8464 non-null int64\n",
      "Quantity                8464 non-null object\n",
      "Recipe ingredient       8464 non-null object\n",
      "Name [Food]             8464 non-null object\n",
      "Title [Recipe]          8464 non-null object\n",
      "Ingredients [Recipe]    8464 non-null object\n",
      "Origin [Recipe]         8464 non-null object\n",
      "dtypes: int64(1), object(6)\n",
      "memory usage: 463.0+ KB\n"
     ]
    }
   ],
   "source": [
    "item.info()"
   ]
  },
  {
   "cell_type": "markdown",
   "metadata": {},
   "source": [
    "- Create a copy of table and then drop unnecessary columns, rename the columns, and replace index with \"id\"."
   ]
  },
  {
   "cell_type": "code",
   "execution_count": 31,
   "metadata": {},
   "outputs": [
    {
     "data": {
      "text/html": [
       "<div>\n",
       "<style scoped>\n",
       "    .dataframe tbody tr th:only-of-type {\n",
       "        vertical-align: middle;\n",
       "    }\n",
       "\n",
       "    .dataframe tbody tr th {\n",
       "        vertical-align: top;\n",
       "    }\n",
       "\n",
       "    .dataframe thead th {\n",
       "        text-align: right;\n",
       "    }\n",
       "</style>\n",
       "<table border=\"1\" class=\"dataframe\">\n",
       "  <thead>\n",
       "    <tr style=\"text-align: right;\">\n",
       "      <th></th>\n",
       "      <th>recipe-ingredient</th>\n",
       "      <th>name_foods</th>\n",
       "      <th>title_recipes</th>\n",
       "      <th>ingredients_recipes</th>\n",
       "      <th>origin_recipes</th>\n",
       "    </tr>\n",
       "    <tr>\n",
       "      <th>id</th>\n",
       "      <th></th>\n",
       "      <th></th>\n",
       "      <th></th>\n",
       "      <th></th>\n",
       "      <th></th>\n",
       "    </tr>\n",
       "  </thead>\n",
       "  <tbody>\n",
       "    <tr>\n",
       "      <th>1</th>\n",
       "      <td>2.0 filets huile d'olive</td>\n",
       "      <td>huile d'olive</td>\n",
       "      <td>Steak haché et pâtes</td>\n",
       "      <td>2.0  filets huile d'olive\\r\\n1.0  steak haché\\...</td>\n",
       "      <td>www.wecook.fr</td>\n",
       "    </tr>\n",
       "    <tr>\n",
       "      <th>2</th>\n",
       "      <td>1.0 steak haché</td>\n",
       "      <td>steak haché</td>\n",
       "      <td>Steak haché et pâtes</td>\n",
       "      <td>2.0  filets huile d'olive\\r\\n1.0  steak haché\\...</td>\n",
       "      <td>www.wecook.fr</td>\n",
       "    </tr>\n",
       "    <tr>\n",
       "      <th>3</th>\n",
       "      <td>70.0 grammes pâtes</td>\n",
       "      <td>pâtes</td>\n",
       "      <td>Steak haché et pâtes</td>\n",
       "      <td>2.0  filets huile d'olive\\r\\n1.0  steak haché\\...</td>\n",
       "      <td>www.wecook.fr</td>\n",
       "    </tr>\n",
       "    <tr>\n",
       "      <th>4</th>\n",
       "      <td>500 g de semoule moyenne</td>\n",
       "      <td>semoule</td>\n",
       "      <td>Taboulé ultra-facile</td>\n",
       "      <td>500 g de semoule moyenne \\r\\n500 g de tomate e...</td>\n",
       "      <td>www.marmiton.org</td>\n",
       "    </tr>\n",
       "    <tr>\n",
       "      <th>5</th>\n",
       "      <td>500 g de tomate environ (ébouillantées pour ot...</td>\n",
       "      <td>tomate</td>\n",
       "      <td>Taboulé ultra-facile</td>\n",
       "      <td>500 g de semoule moyenne \\r\\n500 g de tomate e...</td>\n",
       "      <td>www.marmiton.org</td>\n",
       "    </tr>\n",
       "  </tbody>\n",
       "</table>\n",
       "</div>"
      ],
      "text/plain": [
       "                                    recipe-ingredient     name_foods  \\\n",
       "id                                                                     \n",
       "1                            2.0 filets huile d'olive  huile d'olive   \n",
       "2                                     1.0 steak haché    steak haché   \n",
       "3                                  70.0 grammes pâtes          pâtes   \n",
       "4                            500 g de semoule moyenne        semoule   \n",
       "5   500 g de tomate environ (ébouillantées pour ot...         tomate   \n",
       "\n",
       "           title_recipes                                ingredients_recipes  \\\n",
       "id                                                                            \n",
       "1   Steak haché et pâtes  2.0  filets huile d'olive\\r\\n1.0  steak haché\\...   \n",
       "2   Steak haché et pâtes  2.0  filets huile d'olive\\r\\n1.0  steak haché\\...   \n",
       "3   Steak haché et pâtes  2.0  filets huile d'olive\\r\\n1.0  steak haché\\...   \n",
       "4   Taboulé ultra-facile  500 g de semoule moyenne \\r\\n500 g de tomate e...   \n",
       "5   Taboulé ultra-facile  500 g de semoule moyenne \\r\\n500 g de tomate e...   \n",
       "\n",
       "      origin_recipes  \n",
       "id                    \n",
       "1      www.wecook.fr  \n",
       "2      www.wecook.fr  \n",
       "3      www.wecook.fr  \n",
       "4   www.marmiton.org  \n",
       "5   www.marmiton.org  "
      ]
     },
     "execution_count": 31,
     "metadata": {},
     "output_type": "execute_result"
    }
   ],
   "source": [
    "item_copy = item.copy()\n",
    "item.drop([\"Quantity\"], axis=1, inplace=True)\n",
    "# Names after \"_\" are the tables name\n",
    "item.columns = ['id', 'recipe-ingredient', 'name_foods', 'title_recipes', 'ingredients_recipes', 'origin_recipes']\n",
    "item.set_index(\"id\", inplace=True)\n",
    "item.head()"
   ]
  }
 ],
 "metadata": {
  "kernelspec": {
   "display_name": "Python 3",
   "language": "python",
   "name": "python3"
  },
  "language_info": {
   "codemirror_mode": {
    "name": "ipython",
    "version": 3
   },
   "file_extension": ".py",
   "mimetype": "text/x-python",
   "name": "python",
   "nbconvert_exporter": "python",
   "pygments_lexer": "ipython3",
   "version": "3.7.3"
  }
 },
 "nbformat": 4,
 "nbformat_minor": 2
}
