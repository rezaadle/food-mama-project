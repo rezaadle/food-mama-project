{
 "cells": [
  {
   "cell_type": "markdown",
   "metadata": {},
   "source": [
    "## Food Mama project: "
   ]
  },
  {
   "cell_type": "code",
   "execution_count": 1,
   "metadata": {},
   "outputs": [],
   "source": [
    "import pandas as pd\n",
    "import mama\n",
    "import os"
   ]
  },
  {
   "cell_type": "markdown",
   "metadata": {},
   "source": [
    "### Loading the Datasets into Pandas dataframe"
   ]
  },
  {
   "cell_type": "code",
   "execution_count": 2,
   "metadata": {},
   "outputs": [
    {
     "name": "stdout",
     "output_type": "stream",
     "text": [
      "Name of the dataframes created: \n",
      "food\n",
      "item\n",
      "recipe\n"
     ]
    }
   ],
   "source": [
    "path = \"datasets/\"\n",
    "files = os.listdir(path)\n",
    "\n",
    "dfs = []\n",
    "for file in files:\n",
    "    filename = file.split(\"_\")\n",
    "    dfs.append(filename[0])\n",
    "    exec(dfs[-1] + '= pd.read_csv(path + file)')\n",
    "\n",
    "print(\"Name of the dataframes created: \", *dfs, sep=\"\\n\")"
   ]
  },
  {
   "cell_type": "code",
   "execution_count": 3,
   "metadata": {},
   "outputs": [
    {
     "data": {
      "text/html": [
       "<div>\n",
       "<style scoped>\n",
       "    .dataframe tbody tr th:only-of-type {\n",
       "        vertical-align: middle;\n",
       "    }\n",
       "\n",
       "    .dataframe tbody tr th {\n",
       "        vertical-align: top;\n",
       "    }\n",
       "\n",
       "    .dataframe thead th {\n",
       "        text-align: right;\n",
       "    }\n",
       "</style>\n",
       "<table border=\"1\" class=\"dataframe\">\n",
       "  <thead>\n",
       "    <tr style=\"text-align: right;\">\n",
       "      <th></th>\n",
       "      <th>id</th>\n",
       "      <th>name</th>\n",
       "      <th>created_at</th>\n",
       "      <th>updated_at</th>\n",
       "      <th>availability</th>\n",
       "      <th>category_id</th>\n",
       "      <th>ancestry</th>\n",
       "    </tr>\n",
       "  </thead>\n",
       "  <tbody>\n",
       "    <tr>\n",
       "      <th>0</th>\n",
       "      <td>7</td>\n",
       "      <td>oignon</td>\n",
       "      <td>2017-12-13 17:06:23.452741</td>\n",
       "      <td>2019-01-29 10:37:13.37345</td>\n",
       "      <td>01, 02, 03, 04, 05, 06, 07, 08, 09, 10, 11, 12</td>\n",
       "      <td>14.0</td>\n",
       "      <td>NaN</td>\n",
       "    </tr>\n",
       "    <tr>\n",
       "      <th>1</th>\n",
       "      <td>4</td>\n",
       "      <td>semoule</td>\n",
       "      <td>2017-12-13 17:04:26.719795</td>\n",
       "      <td>2019-01-29 10:37:13.530398</td>\n",
       "      <td>01, 02, 03, 04, 05, 06, 07, 08, 09, 10, 11, 12</td>\n",
       "      <td>21.0</td>\n",
       "      <td>NaN</td>\n",
       "    </tr>\n",
       "    <tr>\n",
       "      <th>2</th>\n",
       "      <td>42</td>\n",
       "      <td>mâche</td>\n",
       "      <td>2017-12-14 14:59:35.055577</td>\n",
       "      <td>2019-01-29 10:37:13.63185</td>\n",
       "      <td>01, 02, 03, 04, 05, 06, 07, 08, 09, 10, 11, 12</td>\n",
       "      <td>14.0</td>\n",
       "      <td>86</td>\n",
       "    </tr>\n",
       "    <tr>\n",
       "      <th>3</th>\n",
       "      <td>14</td>\n",
       "      <td>roquette</td>\n",
       "      <td>2017-12-13 17:16:44.709343</td>\n",
       "      <td>2019-01-29 10:37:13.724114</td>\n",
       "      <td>05, 06, 07, 08, 09, 10, 11</td>\n",
       "      <td>14.0</td>\n",
       "      <td>86</td>\n",
       "    </tr>\n",
       "    <tr>\n",
       "      <th>4</th>\n",
       "      <td>54</td>\n",
       "      <td>crème liquide</td>\n",
       "      <td>2017-12-14 15:43:30.359671</td>\n",
       "      <td>2019-01-29 10:37:13.873262</td>\n",
       "      <td>01, 02, 03, 04, 05, 06, 07, 08, 09, 10, 11, 12</td>\n",
       "      <td>32.0</td>\n",
       "      <td>NaN</td>\n",
       "    </tr>\n",
       "  </tbody>\n",
       "</table>\n",
       "</div>"
      ],
      "text/plain": [
       "   id           name                  created_at                  updated_at  \\\n",
       "0   7         oignon  2017-12-13 17:06:23.452741   2019-01-29 10:37:13.37345   \n",
       "1   4        semoule  2017-12-13 17:04:26.719795  2019-01-29 10:37:13.530398   \n",
       "2  42          mâche  2017-12-14 14:59:35.055577   2019-01-29 10:37:13.63185   \n",
       "3  14       roquette  2017-12-13 17:16:44.709343  2019-01-29 10:37:13.724114   \n",
       "4  54  crème liquide  2017-12-14 15:43:30.359671  2019-01-29 10:37:13.873262   \n",
       "\n",
       "                                     availability  category_id ancestry  \n",
       "0  01, 02, 03, 04, 05, 06, 07, 08, 09, 10, 11, 12         14.0      NaN  \n",
       "1  01, 02, 03, 04, 05, 06, 07, 08, 09, 10, 11, 12         21.0      NaN  \n",
       "2  01, 02, 03, 04, 05, 06, 07, 08, 09, 10, 11, 12         14.0       86  \n",
       "3                      05, 06, 07, 08, 09, 10, 11         14.0       86  \n",
       "4  01, 02, 03, 04, 05, 06, 07, 08, 09, 10, 11, 12         32.0      NaN  "
      ]
     },
     "execution_count": 3,
     "metadata": {},
     "output_type": "execute_result"
    }
   ],
   "source": [
    "food.head()"
   ]
  },
  {
   "cell_type": "markdown",
   "metadata": {},
   "source": [
    "### Run `preprocessing` module to modify and to clean the dataframes (drop unnecessary columns, rename columns, replace index with \"id\", and fill the missing data)."
   ]
  },
  {
   "cell_type": "code",
   "execution_count": 4,
   "metadata": {},
   "outputs": [
    {
     "data": {
      "text/html": [
       "<div>\n",
       "<style scoped>\n",
       "    .dataframe tbody tr th:only-of-type {\n",
       "        vertical-align: middle;\n",
       "    }\n",
       "\n",
       "    .dataframe tbody tr th {\n",
       "        vertical-align: top;\n",
       "    }\n",
       "\n",
       "    .dataframe thead th {\n",
       "        text-align: right;\n",
       "    }\n",
       "</style>\n",
       "<table border=\"1\" class=\"dataframe\">\n",
       "  <thead>\n",
       "    <tr style=\"text-align: right;\">\n",
       "      <th></th>\n",
       "      <th>name</th>\n",
       "      <th>availability</th>\n",
       "      <th>category_id</th>\n",
       "      <th>ancestry</th>\n",
       "    </tr>\n",
       "    <tr>\n",
       "      <th>id</th>\n",
       "      <th></th>\n",
       "      <th></th>\n",
       "      <th></th>\n",
       "      <th></th>\n",
       "    </tr>\n",
       "  </thead>\n",
       "  <tbody>\n",
       "    <tr>\n",
       "      <th>7</th>\n",
       "      <td>oignon</td>\n",
       "      <td>01, 02, 03, 04, 05, 06, 07, 08, 09, 10, 11, 12</td>\n",
       "      <td>14.0</td>\n",
       "      <td>1</td>\n",
       "    </tr>\n",
       "    <tr>\n",
       "      <th>4</th>\n",
       "      <td>semoule</td>\n",
       "      <td>01, 02, 03, 04, 05, 06, 07, 08, 09, 10, 11, 12</td>\n",
       "      <td>21.0</td>\n",
       "      <td>0</td>\n",
       "    </tr>\n",
       "    <tr>\n",
       "      <th>42</th>\n",
       "      <td>mâche</td>\n",
       "      <td>01, 02, 03, 04, 05, 06, 07, 08, 09, 10, 11, 12</td>\n",
       "      <td>14.0</td>\n",
       "      <td>86</td>\n",
       "    </tr>\n",
       "    <tr>\n",
       "      <th>14</th>\n",
       "      <td>roquette</td>\n",
       "      <td>05, 06, 07, 08, 09, 10, 11</td>\n",
       "      <td>14.0</td>\n",
       "      <td>86</td>\n",
       "    </tr>\n",
       "    <tr>\n",
       "      <th>54</th>\n",
       "      <td>crème liquide</td>\n",
       "      <td>01, 02, 03, 04, 05, 06, 07, 08, 09, 10, 11, 12</td>\n",
       "      <td>32.0</td>\n",
       "      <td>0</td>\n",
       "    </tr>\n",
       "  </tbody>\n",
       "</table>\n",
       "</div>"
      ],
      "text/plain": [
       "             name                                    availability  \\\n",
       "id                                                                  \n",
       "7          oignon  01, 02, 03, 04, 05, 06, 07, 08, 09, 10, 11, 12   \n",
       "4         semoule  01, 02, 03, 04, 05, 06, 07, 08, 09, 10, 11, 12   \n",
       "42          mâche  01, 02, 03, 04, 05, 06, 07, 08, 09, 10, 11, 12   \n",
       "14       roquette                      05, 06, 07, 08, 09, 10, 11   \n",
       "54  crème liquide  01, 02, 03, 04, 05, 06, 07, 08, 09, 10, 11, 12   \n",
       "\n",
       "    category_id ancestry  \n",
       "id                        \n",
       "7          14.0        1  \n",
       "4          21.0        0  \n",
       "42         14.0       86  \n",
       "14         14.0       86  \n",
       "54         32.0        0  "
      ]
     },
     "execution_count": 4,
     "metadata": {},
     "output_type": "execute_result"
    }
   ],
   "source": [
    "dataframes = [food, item, recipe]\n",
    "foods, items, recipes = mama.preprocessing(dataframes)\n",
    "foods.head()"
   ]
  },
  {
   "cell_type": "code",
   "execution_count": null,
   "metadata": {},
   "outputs": [],
   "source": []
  }
 ],
 "metadata": {
  "kernelspec": {
   "display_name": "Python 3",
   "language": "python",
   "name": "python3"
  },
  "language_info": {
   "codemirror_mode": {
    "name": "ipython",
    "version": 3
   },
   "file_extension": ".py",
   "mimetype": "text/x-python",
   "name": "python",
   "nbconvert_exporter": "python",
   "pygments_lexer": "ipython3",
   "version": "3.7.3"
  }
 },
 "nbformat": 4,
 "nbformat_minor": 2
}
