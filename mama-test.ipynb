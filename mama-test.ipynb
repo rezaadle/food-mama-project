{
 "cells": [
  {
   "cell_type": "markdown",
   "metadata": {},
   "source": [
    "## Data Preprocessing for food Mama project: "
   ]
  },
  {
   "cell_type": "code",
   "execution_count": 1,
   "metadata": {},
   "outputs": [],
   "source": [
    "import pandas as pd\n",
    "import os"
   ]
  },
  {
   "cell_type": "markdown",
   "metadata": {},
   "source": [
    "### Loading the Datasets into Pandas dataframe"
   ]
  },
  {
   "cell_type": "code",
   "execution_count": 12,
   "metadata": {},
   "outputs": [
    {
     "name": "stdout",
     "output_type": "stream",
     "text": [
      "Name of the dataframes created: \n",
      "foods\n",
      "items\n",
      "recipes\n"
     ]
    }
   ],
   "source": [
    "path = \"datasets/\"\n",
    "files = os.listdir(path)\n",
    "\n",
    "dfs = []\n",
    "for file in files:\n",
    "    filename = file.split(\"_\")\n",
    "    dfs.append(filename[0])\n",
    "    exec(dfs[-1] + '= pd.read_csv(path + file)')\n",
    "\n",
    "print(\"Name of the dataframes created: \", *dfs, sep=\"\\n\")"
   ]
  },
  {
   "cell_type": "markdown",
   "metadata": {},
   "source": [
    "### 1) *foods* table: "
   ]
  },
  {
   "cell_type": "code",
   "execution_count": 13,
   "metadata": {},
   "outputs": [
    {
     "name": "stdout",
     "output_type": "stream",
     "text": [
      "<class 'pandas.core.frame.DataFrame'>\n",
      "RangeIndex: 564 entries, 0 to 563\n",
      "Data columns (total 7 columns):\n",
      "id              564 non-null int64\n",
      "name            564 non-null object\n",
      "created_at      564 non-null object\n",
      "updated_at      564 non-null object\n",
      "availability    563 non-null object\n",
      "category_id     563 non-null float64\n",
      "ancestry        159 non-null object\n",
      "dtypes: float64(1), int64(1), object(5)\n",
      "memory usage: 30.9+ KB\n"
     ]
    }
   ],
   "source": [
    "#exec(\"print(\" + dfs[0] + \".head())\")\n",
    "foods.info()"
   ]
  },
  {
   "cell_type": "markdown",
   "metadata": {},
   "source": [
    "- Create a copy of table and then drop unnecessary columns, replace index with \"id\", and try to fill the missing data. "
   ]
  },
  {
   "cell_type": "code",
   "execution_count": 14,
   "metadata": {},
   "outputs": [
    {
     "data": {
      "text/html": [
       "<div>\n",
       "<style scoped>\n",
       "    .dataframe tbody tr th:only-of-type {\n",
       "        vertical-align: middle;\n",
       "    }\n",
       "\n",
       "    .dataframe tbody tr th {\n",
       "        vertical-align: top;\n",
       "    }\n",
       "\n",
       "    .dataframe thead th {\n",
       "        text-align: right;\n",
       "    }\n",
       "</style>\n",
       "<table border=\"1\" class=\"dataframe\">\n",
       "  <thead>\n",
       "    <tr style=\"text-align: right;\">\n",
       "      <th></th>\n",
       "      <th>name</th>\n",
       "      <th>availability</th>\n",
       "      <th>category_id</th>\n",
       "      <th>ancestry</th>\n",
       "    </tr>\n",
       "    <tr>\n",
       "      <th>id</th>\n",
       "      <th></th>\n",
       "      <th></th>\n",
       "      <th></th>\n",
       "      <th></th>\n",
       "    </tr>\n",
       "  </thead>\n",
       "  <tbody>\n",
       "    <tr>\n",
       "      <th>1</th>\n",
       "      <td>huile d'olive</td>\n",
       "      <td>01, 02, 03, 04, 05, 06, 07, 08, 09, 10, 11, 12</td>\n",
       "      <td>36.0</td>\n",
       "      <td>NaN</td>\n",
       "    </tr>\n",
       "    <tr>\n",
       "      <th>2</th>\n",
       "      <td>steak haché</td>\n",
       "      <td>01, 02, 03, 04, 05, 06, 07, 08, 09, 10, 11, 12</td>\n",
       "      <td>27.0</td>\n",
       "      <td>509</td>\n",
       "    </tr>\n",
       "    <tr>\n",
       "      <th>3</th>\n",
       "      <td>pâtes</td>\n",
       "      <td>01, 02, 03, 04, 05, 06, 07, 08, 09, 10, 11, 12</td>\n",
       "      <td>20.0</td>\n",
       "      <td>NaN</td>\n",
       "    </tr>\n",
       "    <tr>\n",
       "      <th>4</th>\n",
       "      <td>semoule</td>\n",
       "      <td>01, 02, 03, 04, 05, 06, 07, 08, 09, 10, 11, 12</td>\n",
       "      <td>21.0</td>\n",
       "      <td>NaN</td>\n",
       "    </tr>\n",
       "    <tr>\n",
       "      <th>5</th>\n",
       "      <td>tomate</td>\n",
       "      <td>05, 06, 07, 08, 09</td>\n",
       "      <td>14.0</td>\n",
       "      <td>NaN</td>\n",
       "    </tr>\n",
       "  </tbody>\n",
       "</table>\n",
       "</div>"
      ],
      "text/plain": [
       "             name                                    availability  \\\n",
       "id                                                                  \n",
       "1   huile d'olive  01, 02, 03, 04, 05, 06, 07, 08, 09, 10, 11, 12   \n",
       "2     steak haché  01, 02, 03, 04, 05, 06, 07, 08, 09, 10, 11, 12   \n",
       "3           pâtes  01, 02, 03, 04, 05, 06, 07, 08, 09, 10, 11, 12   \n",
       "4         semoule  01, 02, 03, 04, 05, 06, 07, 08, 09, 10, 11, 12   \n",
       "5          tomate                              05, 06, 07, 08, 09   \n",
       "\n",
       "    category_id ancestry  \n",
       "id                        \n",
       "1          36.0      NaN  \n",
       "2          27.0      509  \n",
       "3          20.0      NaN  \n",
       "4          21.0      NaN  \n",
       "5          14.0      NaN  "
      ]
     },
     "execution_count": 14,
     "metadata": {},
     "output_type": "execute_result"
    }
   ],
   "source": [
    "foods_copy = foods.copy()\n",
    "foods.drop([\"created_at\",\"updated_at\"], axis=1, inplace=True)\n",
    "foods.set_index(\"id\", inplace=True)\n",
    "foods.sort_index().head()"
   ]
  },
  {
   "cell_type": "code",
   "execution_count": 15,
   "metadata": {},
   "outputs": [
    {
     "data": {
      "text/html": [
       "<div>\n",
       "<style scoped>\n",
       "    .dataframe tbody tr th:only-of-type {\n",
       "        vertical-align: middle;\n",
       "    }\n",
       "\n",
       "    .dataframe tbody tr th {\n",
       "        vertical-align: top;\n",
       "    }\n",
       "\n",
       "    .dataframe thead th {\n",
       "        text-align: right;\n",
       "    }\n",
       "</style>\n",
       "<table border=\"1\" class=\"dataframe\">\n",
       "  <thead>\n",
       "    <tr style=\"text-align: right;\">\n",
       "      <th></th>\n",
       "      <th>name</th>\n",
       "      <th>availability</th>\n",
       "      <th>category_id</th>\n",
       "      <th>ancestry</th>\n",
       "    </tr>\n",
       "    <tr>\n",
       "      <th>id</th>\n",
       "      <th></th>\n",
       "      <th></th>\n",
       "      <th></th>\n",
       "      <th></th>\n",
       "    </tr>\n",
       "  </thead>\n",
       "  <tbody>\n",
       "    <tr>\n",
       "      <th>53</th>\n",
       "      <td>pomme de terre</td>\n",
       "      <td>NaN</td>\n",
       "      <td>14.0</td>\n",
       "      <td>NaN</td>\n",
       "    </tr>\n",
       "  </tbody>\n",
       "</table>\n",
       "</div>"
      ],
      "text/plain": [
       "              name availability  category_id ancestry\n",
       "id                                                   \n",
       "53  pomme de terre          NaN         14.0      NaN"
      ]
     },
     "execution_count": 15,
     "metadata": {},
     "output_type": "execute_result"
    }
   ],
   "source": [
    "# availability column missing data\n",
    "foods[foods.availability.isnull()]"
   ]
  },
  {
   "cell_type": "code",
   "execution_count": 19,
   "metadata": {},
   "outputs": [
    {
     "data": {
      "text/html": [
       "<div>\n",
       "<style scoped>\n",
       "    .dataframe tbody tr th:only-of-type {\n",
       "        vertical-align: middle;\n",
       "    }\n",
       "\n",
       "    .dataframe tbody tr th {\n",
       "        vertical-align: top;\n",
       "    }\n",
       "\n",
       "    .dataframe thead th {\n",
       "        text-align: right;\n",
       "    }\n",
       "</style>\n",
       "<table border=\"1\" class=\"dataframe\">\n",
       "  <thead>\n",
       "    <tr style=\"text-align: right;\">\n",
       "      <th></th>\n",
       "      <th>name</th>\n",
       "      <th>availability</th>\n",
       "      <th>category_id</th>\n",
       "      <th>ancestry</th>\n",
       "    </tr>\n",
       "    <tr>\n",
       "      <th>id</th>\n",
       "      <th></th>\n",
       "      <th></th>\n",
       "      <th></th>\n",
       "      <th></th>\n",
       "    </tr>\n",
       "  </thead>\n",
       "  <tbody>\n",
       "    <tr>\n",
       "      <th>180</th>\n",
       "      <td>purée de pommes de terre</td>\n",
       "      <td>01, 02, 03, 04, 05, 06, 07, 08, 09, 10, 11, 12</td>\n",
       "      <td>47.0</td>\n",
       "      <td>53</td>\n",
       "    </tr>\n",
       "    <tr>\n",
       "      <th>243</th>\n",
       "      <td>pomme de terre nouvelle</td>\n",
       "      <td>01, 02, 03, 04, 05, 06, 07, 08, 09, 10, 11, 12</td>\n",
       "      <td>14.0</td>\n",
       "      <td>53</td>\n",
       "    </tr>\n",
       "    <tr>\n",
       "      <th>274</th>\n",
       "      <td>pomme de terre rouge</td>\n",
       "      <td>01, 02, 03, 04, 05, 06, 07, 08, 09, 10, 11, 12</td>\n",
       "      <td>14.0</td>\n",
       "      <td>53</td>\n",
       "    </tr>\n",
       "    <tr>\n",
       "      <th>157</th>\n",
       "      <td>pommes de terre rissolées</td>\n",
       "      <td>01, 02, 03, 04, 05, 06, 07, 08, 09, 10, 11, 12</td>\n",
       "      <td>47.0</td>\n",
       "      <td>53</td>\n",
       "    </tr>\n",
       "    <tr>\n",
       "      <th>521</th>\n",
       "      <td>chips</td>\n",
       "      <td>01, 02, 03, 04, 05, 06, 07, 08, 09, 10, 11, 12</td>\n",
       "      <td>19.0</td>\n",
       "      <td>53</td>\n",
       "    </tr>\n",
       "  </tbody>\n",
       "</table>\n",
       "</div>"
      ],
      "text/plain": [
       "                          name  \\\n",
       "id                               \n",
       "180   purée de pommes de terre   \n",
       "243    pomme de terre nouvelle   \n",
       "274       pomme de terre rouge   \n",
       "157  pommes de terre rissolées   \n",
       "521                      chips   \n",
       "\n",
       "                                       availability  category_id ancestry  \n",
       "id                                                                         \n",
       "180  01, 02, 03, 04, 05, 06, 07, 08, 09, 10, 11, 12         47.0       53  \n",
       "243  01, 02, 03, 04, 05, 06, 07, 08, 09, 10, 11, 12         14.0       53  \n",
       "274  01, 02, 03, 04, 05, 06, 07, 08, 09, 10, 11, 12         14.0       53  \n",
       "157  01, 02, 03, 04, 05, 06, 07, 08, 09, 10, 11, 12         47.0       53  \n",
       "521  01, 02, 03, 04, 05, 06, 07, 08, 09, 10, 11, 12         19.0       53  "
      ]
     },
     "execution_count": 19,
     "metadata": {},
     "output_type": "execute_result"
    }
   ],
   "source": [
    "# Check the children's availability data \n",
    "ancestry_id = foods[foods.availability.isnull()].index\n",
    "foods[foods.ancestry == str(ancestry_id[0])]"
   ]
  },
  {
   "cell_type": "code",
   "execution_count": 24,
   "metadata": {},
   "outputs": [
    {
     "data": {
      "text/plain": [
       "name                                            pomme de terre\n",
       "availability    01, 02, 03, 04, 05, 06, 07, 08, 09, 10, 11, 12\n",
       "category_id                                                 14\n",
       "ancestry                                                   NaN\n",
       "Name: 53, dtype: object"
      ]
     },
     "execution_count": 24,
     "metadata": {},
     "output_type": "execute_result"
    }
   ],
   "source": [
    "# Fill availability cell with one of its children data (here with the 1st one)\n",
    "child_ids = foods[foods.ancestry == str(ancestry_id[0])].index\n",
    "foods.loc[ancestry_id[0], [\"availability\"]] = foods.loc[child_ids[0], [\"availability\"]]\n",
    "foods.loc[ancestry_id[0]]"
   ]
  },
  {
   "cell_type": "code",
   "execution_count": 25,
   "metadata": {},
   "outputs": [
    {
     "data": {
      "text/html": [
       "<div>\n",
       "<style scoped>\n",
       "    .dataframe tbody tr th:only-of-type {\n",
       "        vertical-align: middle;\n",
       "    }\n",
       "\n",
       "    .dataframe tbody tr th {\n",
       "        vertical-align: top;\n",
       "    }\n",
       "\n",
       "    .dataframe thead th {\n",
       "        text-align: right;\n",
       "    }\n",
       "</style>\n",
       "<table border=\"1\" class=\"dataframe\">\n",
       "  <thead>\n",
       "    <tr style=\"text-align: right;\">\n",
       "      <th></th>\n",
       "      <th>name</th>\n",
       "      <th>availability</th>\n",
       "      <th>category_id</th>\n",
       "      <th>ancestry</th>\n",
       "    </tr>\n",
       "    <tr>\n",
       "      <th>id</th>\n",
       "      <th></th>\n",
       "      <th></th>\n",
       "      <th></th>\n",
       "      <th></th>\n",
       "    </tr>\n",
       "  </thead>\n",
       "  <tbody>\n",
       "    <tr>\n",
       "      <th>288</th>\n",
       "      <td>couscous</td>\n",
       "      <td>01, 02, 03, 04, 05, 06, 07, 08, 09, 10, 11, 12</td>\n",
       "      <td>NaN</td>\n",
       "      <td>NaN</td>\n",
       "    </tr>\n",
       "  </tbody>\n",
       "</table>\n",
       "</div>"
      ],
      "text/plain": [
       "         name                                    availability  category_id  \\\n",
       "id                                                                           \n",
       "288  couscous  01, 02, 03, 04, 05, 06, 07, 08, 09, 10, 11, 12          NaN   \n",
       "\n",
       "    ancestry  \n",
       "id            \n",
       "288      NaN  "
      ]
     },
     "execution_count": 25,
     "metadata": {},
     "output_type": "execute_result"
    }
   ],
   "source": [
    "# category_id column missing data\n",
    "foods[foods.category_id.isnull()]"
   ]
  },
  {
   "cell_type": "code",
   "execution_count": 26,
   "metadata": {},
   "outputs": [
    {
     "data": {
      "text/html": [
       "<div>\n",
       "<style scoped>\n",
       "    .dataframe tbody tr th:only-of-type {\n",
       "        vertical-align: middle;\n",
       "    }\n",
       "\n",
       "    .dataframe tbody tr th {\n",
       "        vertical-align: top;\n",
       "    }\n",
       "\n",
       "    .dataframe thead th {\n",
       "        text-align: right;\n",
       "    }\n",
       "</style>\n",
       "<table border=\"1\" class=\"dataframe\">\n",
       "  <thead>\n",
       "    <tr style=\"text-align: right;\">\n",
       "      <th></th>\n",
       "      <th>name</th>\n",
       "      <th>availability</th>\n",
       "      <th>category_id</th>\n",
       "      <th>ancestry</th>\n",
       "    </tr>\n",
       "    <tr>\n",
       "      <th>id</th>\n",
       "      <th></th>\n",
       "      <th></th>\n",
       "      <th></th>\n",
       "      <th></th>\n",
       "    </tr>\n",
       "  </thead>\n",
       "  <tbody>\n",
       "    <tr>\n",
       "      <th>288</th>\n",
       "      <td>couscous</td>\n",
       "      <td>01, 02, 03, 04, 05, 06, 07, 08, 09, 10, 11, 12</td>\n",
       "      <td>NaN</td>\n",
       "      <td>NaN</td>\n",
       "    </tr>\n",
       "  </tbody>\n",
       "</table>\n",
       "</div>"
      ],
      "text/plain": [
       "         name                                    availability  category_id  \\\n",
       "id                                                                           \n",
       "288  couscous  01, 02, 03, 04, 05, 06, 07, 08, 09, 10, 11, 12          NaN   \n",
       "\n",
       "    ancestry  \n",
       "id            \n",
       "288      NaN  "
      ]
     },
     "execution_count": 26,
     "metadata": {},
     "output_type": "execute_result"
    }
   ],
   "source": [
    "# Check similar food using the same name \n",
    "foods[foods.name.apply(lambda x: \"couscous\" in x)]"
   ]
  },
  {
   "cell_type": "code",
   "execution_count": 27,
   "metadata": {},
   "outputs": [],
   "source": [
    "# As no similar food found in the table, give it a category_id of \"0\" instead\n",
    "id_num = foods[foods.category_id.isnull()].index\n",
    "foods.loc[id_num[0], [\"category_id\"]] = 0"
   ]
  },
  {
   "cell_type": "markdown",
   "metadata": {},
   "source": [
    "- Check different value of *ancestry* column and try to minimize the \"NaN\" values."
   ]
  },
  {
   "cell_type": "code",
   "execution_count": 29,
   "metadata": {
    "scrolled": true
   },
   "outputs": [
    {
     "data": {
      "text/plain": [
       "NaN        405\n",
       "3           14\n",
       "5           12\n",
       "509         10\n",
       "327          9\n",
       "508          8\n",
       "96           8\n",
       "510          8\n",
       "86           8\n",
       "237          7\n",
       "21           6\n",
       "53           5\n",
       "510/404      5\n",
       "317          5\n",
       "308          5\n",
       "511          4\n",
       "349          4\n",
       "269          3\n",
       "7            3\n",
       "519          3\n",
       "516          3\n",
       "198          2\n",
       "194          2\n",
       "487          2\n",
       "51           2\n",
       "334          2\n",
       "84           2\n",
       "510/512      2\n",
       "36           2\n",
       "409          1\n",
       "508/422      1\n",
       "247          1\n",
       "259          1\n",
       "43           1\n",
       "508/277      1\n",
       "503          1\n",
       "19           1\n",
       "152          1\n",
       "262          1\n",
       "506          1\n",
       "174          1\n",
       "66           1\n",
       "Name: ancestry, dtype: int64"
      ]
     },
     "execution_count": 29,
     "metadata": {},
     "output_type": "execute_result"
    }
   ],
   "source": [
    "foods.ancestry.value_counts(dropna=False)"
   ]
  },
  {
   "cell_type": "code",
   "execution_count": 30,
   "metadata": {},
   "outputs": [
    {
     "data": {
      "text/html": [
       "<div>\n",
       "<style scoped>\n",
       "    .dataframe tbody tr th:only-of-type {\n",
       "        vertical-align: middle;\n",
       "    }\n",
       "\n",
       "    .dataframe tbody tr th {\n",
       "        vertical-align: top;\n",
       "    }\n",
       "\n",
       "    .dataframe thead th {\n",
       "        text-align: right;\n",
       "    }\n",
       "</style>\n",
       "<table border=\"1\" class=\"dataframe\">\n",
       "  <thead>\n",
       "    <tr style=\"text-align: right;\">\n",
       "      <th></th>\n",
       "      <th>name</th>\n",
       "      <th>availability</th>\n",
       "      <th>category_id</th>\n",
       "      <th>ancestry</th>\n",
       "    </tr>\n",
       "    <tr>\n",
       "      <th>id</th>\n",
       "      <th></th>\n",
       "      <th></th>\n",
       "      <th></th>\n",
       "      <th></th>\n",
       "    </tr>\n",
       "  </thead>\n",
       "  <tbody>\n",
       "    <tr>\n",
       "      <th>187</th>\n",
       "      <td>saucisse fumée</td>\n",
       "      <td>01, 02, 03, 04, 05, 06, 07, 08, 09, 10, 11, 12</td>\n",
       "      <td>23.0</td>\n",
       "      <td>510/404</td>\n",
       "    </tr>\n",
       "    <tr>\n",
       "      <th>402</th>\n",
       "      <td>saucisse de Strasbourg</td>\n",
       "      <td>01, 02, 03, 04, 05, 06, 07, 08, 09, 10, 11, 12</td>\n",
       "      <td>23.0</td>\n",
       "      <td>510/404</td>\n",
       "    </tr>\n",
       "    <tr>\n",
       "      <th>407</th>\n",
       "      <td>chipolata</td>\n",
       "      <td>01, 02, 03, 04, 05, 06, 07, 08, 09, 10, 11, 12</td>\n",
       "      <td>23.0</td>\n",
       "      <td>510/404</td>\n",
       "    </tr>\n",
       "    <tr>\n",
       "      <th>200</th>\n",
       "      <td>saucisse de Francfort</td>\n",
       "      <td>01, 02, 03, 04, 05, 06, 07, 08, 09, 10, 11, 12</td>\n",
       "      <td>23.0</td>\n",
       "      <td>510/404</td>\n",
       "    </tr>\n",
       "    <tr>\n",
       "      <th>186</th>\n",
       "      <td>saucisse de porc</td>\n",
       "      <td>01, 02, 03, 04, 05, 06, 07, 08, 09, 10, 11, 12</td>\n",
       "      <td>23.0</td>\n",
       "      <td>510/404</td>\n",
       "    </tr>\n",
       "  </tbody>\n",
       "</table>\n",
       "</div>"
      ],
      "text/plain": [
       "                       name                                    availability  \\\n",
       "id                                                                            \n",
       "187          saucisse fumée  01, 02, 03, 04, 05, 06, 07, 08, 09, 10, 11, 12   \n",
       "402  saucisse de Strasbourg  01, 02, 03, 04, 05, 06, 07, 08, 09, 10, 11, 12   \n",
       "407               chipolata  01, 02, 03, 04, 05, 06, 07, 08, 09, 10, 11, 12   \n",
       "200   saucisse de Francfort  01, 02, 03, 04, 05, 06, 07, 08, 09, 10, 11, 12   \n",
       "186        saucisse de porc  01, 02, 03, 04, 05, 06, 07, 08, 09, 10, 11, 12   \n",
       "\n",
       "     category_id ancestry  \n",
       "id                         \n",
       "187         23.0  510/404  \n",
       "402         23.0  510/404  \n",
       "407         23.0  510/404  \n",
       "200         23.0  510/404  \n",
       "186         23.0  510/404  "
      ]
     },
     "execution_count": 30,
     "metadata": {},
     "output_type": "execute_result"
    }
   ],
   "source": [
    "foods[foods.ancestry == \"510/404\"]"
   ]
  },
  {
   "cell_type": "code",
   "execution_count": 31,
   "metadata": {},
   "outputs": [
    {
     "data": {
      "text/html": [
       "<div>\n",
       "<style scoped>\n",
       "    .dataframe tbody tr th:only-of-type {\n",
       "        vertical-align: middle;\n",
       "    }\n",
       "\n",
       "    .dataframe tbody tr th {\n",
       "        vertical-align: top;\n",
       "    }\n",
       "\n",
       "    .dataframe thead th {\n",
       "        text-align: right;\n",
       "    }\n",
       "</style>\n",
       "<table border=\"1\" class=\"dataframe\">\n",
       "  <thead>\n",
       "    <tr style=\"text-align: right;\">\n",
       "      <th></th>\n",
       "      <th>name</th>\n",
       "      <th>availability</th>\n",
       "      <th>category_id</th>\n",
       "      <th>ancestry</th>\n",
       "    </tr>\n",
       "    <tr>\n",
       "      <th>id</th>\n",
       "      <th></th>\n",
       "      <th></th>\n",
       "      <th></th>\n",
       "      <th></th>\n",
       "    </tr>\n",
       "  </thead>\n",
       "  <tbody>\n",
       "    <tr>\n",
       "      <th>510</th>\n",
       "      <td>porc</td>\n",
       "      <td>01, 02, 03, 04, 05, 06, 07, 08, 09, 10, 11, 12</td>\n",
       "      <td>27.0</td>\n",
       "      <td>NaN</td>\n",
       "    </tr>\n",
       "    <tr>\n",
       "      <th>404</th>\n",
       "      <td>saucisse</td>\n",
       "      <td>01, 02, 03, 04, 05, 06, 07, 08, 09, 10, 11, 12</td>\n",
       "      <td>23.0</td>\n",
       "      <td>510</td>\n",
       "    </tr>\n",
       "  </tbody>\n",
       "</table>\n",
       "</div>"
      ],
      "text/plain": [
       "         name                                    availability  category_id  \\\n",
       "id                                                                           \n",
       "510      porc  01, 02, 03, 04, 05, 06, 07, 08, 09, 10, 11, 12         27.0   \n",
       "404  saucisse  01, 02, 03, 04, 05, 06, 07, 08, 09, 10, 11, 12         23.0   \n",
       "\n",
       "    ancestry  \n",
       "id            \n",
       "510      NaN  \n",
       "404      510  "
      ]
     },
     "execution_count": 31,
     "metadata": {},
     "output_type": "execute_result"
    }
   ],
   "source": [
    "# Verify both ancestries \n",
    "foods[(foods.index == 510) | (foods.index == 404)]"
   ]
  },
  {
   "cell_type": "code",
   "execution_count": 47,
   "metadata": {},
   "outputs": [],
   "source": [
    "# Change the ancestry value with the subcategory id number\n",
    "sub_cat = foods[foods.ancestry == \"510/404\"][\"ancestry\"]\n",
    "foods.loc[sub_cat.index, \"ancestry\"] = sub_cat.values[0].split(\"/\")[1]"
   ]
  },
  {
   "cell_type": "markdown",
   "metadata": {},
   "source": [
    "- Repeat the same procedure for other values "
   ]
  },
  {
   "cell_type": "code",
   "execution_count": 51,
   "metadata": {},
   "outputs": [
    {
     "data": {
      "text/html": [
       "<div>\n",
       "<style scoped>\n",
       "    .dataframe tbody tr th:only-of-type {\n",
       "        vertical-align: middle;\n",
       "    }\n",
       "\n",
       "    .dataframe tbody tr th {\n",
       "        vertical-align: top;\n",
       "    }\n",
       "\n",
       "    .dataframe thead th {\n",
       "        text-align: right;\n",
       "    }\n",
       "</style>\n",
       "<table border=\"1\" class=\"dataframe\">\n",
       "  <thead>\n",
       "    <tr style=\"text-align: right;\">\n",
       "      <th></th>\n",
       "      <th>name</th>\n",
       "      <th>availability</th>\n",
       "      <th>category_id</th>\n",
       "      <th>ancestry</th>\n",
       "    </tr>\n",
       "    <tr>\n",
       "      <th>id</th>\n",
       "      <th></th>\n",
       "      <th></th>\n",
       "      <th></th>\n",
       "      <th></th>\n",
       "    </tr>\n",
       "  </thead>\n",
       "  <tbody>\n",
       "    <tr>\n",
       "      <th>211</th>\n",
       "      <td>saucisse sèche</td>\n",
       "      <td>01, 02, 03, 04, 05, 06, 07, 08, 09, 10, 11, 12</td>\n",
       "      <td>23.0</td>\n",
       "      <td>510/512</td>\n",
       "    </tr>\n",
       "    <tr>\n",
       "      <th>361</th>\n",
       "      <td>salami</td>\n",
       "      <td>01, 02, 03, 04, 05, 06, 07, 08, 09, 10, 11, 12</td>\n",
       "      <td>23.0</td>\n",
       "      <td>510/512</td>\n",
       "    </tr>\n",
       "  </tbody>\n",
       "</table>\n",
       "</div>"
      ],
      "text/plain": [
       "               name                                    availability  \\\n",
       "id                                                                    \n",
       "211  saucisse sèche  01, 02, 03, 04, 05, 06, 07, 08, 09, 10, 11, 12   \n",
       "361          salami  01, 02, 03, 04, 05, 06, 07, 08, 09, 10, 11, 12   \n",
       "\n",
       "     category_id ancestry  \n",
       "id                         \n",
       "211         23.0  510/512  \n",
       "361         23.0  510/512  "
      ]
     },
     "execution_count": 51,
     "metadata": {},
     "output_type": "execute_result"
    }
   ],
   "source": [
    "foods[foods.ancestry == \"510/512\"]"
   ]
  },
  {
   "cell_type": "code",
   "execution_count": 52,
   "metadata": {
    "scrolled": true
   },
   "outputs": [
    {
     "data": {
      "text/html": [
       "<div>\n",
       "<style scoped>\n",
       "    .dataframe tbody tr th:only-of-type {\n",
       "        vertical-align: middle;\n",
       "    }\n",
       "\n",
       "    .dataframe tbody tr th {\n",
       "        vertical-align: top;\n",
       "    }\n",
       "\n",
       "    .dataframe thead th {\n",
       "        text-align: right;\n",
       "    }\n",
       "</style>\n",
       "<table border=\"1\" class=\"dataframe\">\n",
       "  <thead>\n",
       "    <tr style=\"text-align: right;\">\n",
       "      <th></th>\n",
       "      <th>name</th>\n",
       "      <th>availability</th>\n",
       "      <th>category_id</th>\n",
       "      <th>ancestry</th>\n",
       "    </tr>\n",
       "    <tr>\n",
       "      <th>id</th>\n",
       "      <th></th>\n",
       "      <th></th>\n",
       "      <th></th>\n",
       "      <th></th>\n",
       "    </tr>\n",
       "  </thead>\n",
       "  <tbody>\n",
       "    <tr>\n",
       "      <th>510</th>\n",
       "      <td>porc</td>\n",
       "      <td>01, 02, 03, 04, 05, 06, 07, 08, 09, 10, 11, 12</td>\n",
       "      <td>27.0</td>\n",
       "      <td>NaN</td>\n",
       "    </tr>\n",
       "    <tr>\n",
       "      <th>512</th>\n",
       "      <td>saucisson</td>\n",
       "      <td>01, 02, 03, 04, 05, 06, 07, 08, 09, 10, 11, 12</td>\n",
       "      <td>23.0</td>\n",
       "      <td>510</td>\n",
       "    </tr>\n",
       "  </tbody>\n",
       "</table>\n",
       "</div>"
      ],
      "text/plain": [
       "          name                                    availability  category_id  \\\n",
       "id                                                                            \n",
       "510       porc  01, 02, 03, 04, 05, 06, 07, 08, 09, 10, 11, 12         27.0   \n",
       "512  saucisson  01, 02, 03, 04, 05, 06, 07, 08, 09, 10, 11, 12         23.0   \n",
       "\n",
       "    ancestry  \n",
       "id            \n",
       "510      NaN  \n",
       "512      510  "
      ]
     },
     "execution_count": 52,
     "metadata": {},
     "output_type": "execute_result"
    }
   ],
   "source": [
    "foods[(foods.index == 510) | (foods.index == 512)]"
   ]
  },
  {
   "cell_type": "code",
   "execution_count": 53,
   "metadata": {},
   "outputs": [],
   "source": [
    "foods.loc[[211,361], \"ancestry\"] = \"512\""
   ]
  },
  {
   "cell_type": "code",
   "execution_count": 54,
   "metadata": {},
   "outputs": [
    {
     "data": {
      "text/html": [
       "<div>\n",
       "<style scoped>\n",
       "    .dataframe tbody tr th:only-of-type {\n",
       "        vertical-align: middle;\n",
       "    }\n",
       "\n",
       "    .dataframe tbody tr th {\n",
       "        vertical-align: top;\n",
       "    }\n",
       "\n",
       "    .dataframe thead th {\n",
       "        text-align: right;\n",
       "    }\n",
       "</style>\n",
       "<table border=\"1\" class=\"dataframe\">\n",
       "  <thead>\n",
       "    <tr style=\"text-align: right;\">\n",
       "      <th></th>\n",
       "      <th>name</th>\n",
       "      <th>availability</th>\n",
       "      <th>category_id</th>\n",
       "      <th>ancestry</th>\n",
       "    </tr>\n",
       "    <tr>\n",
       "      <th>id</th>\n",
       "      <th></th>\n",
       "      <th></th>\n",
       "      <th></th>\n",
       "      <th></th>\n",
       "    </tr>\n",
       "  </thead>\n",
       "  <tbody>\n",
       "    <tr>\n",
       "      <th>560</th>\n",
       "      <td>chou frisé</td>\n",
       "      <td>01, 02, 03, 10, 11, 12</td>\n",
       "      <td>14.0</td>\n",
       "      <td>508/277</td>\n",
       "    </tr>\n",
       "    <tr>\n",
       "      <th>526</th>\n",
       "      <td>chou vert</td>\n",
       "      <td>01, 02, 03, 04, 05, 06, 07, 08, 09, 10, 11, 12</td>\n",
       "      <td>14.0</td>\n",
       "      <td>508/422</td>\n",
       "    </tr>\n",
       "  </tbody>\n",
       "</table>\n",
       "</div>"
      ],
      "text/plain": [
       "           name                                    availability  category_id  \\\n",
       "id                                                                             \n",
       "560  chou frisé                          01, 02, 03, 10, 11, 12         14.0   \n",
       "526   chou vert  01, 02, 03, 04, 05, 06, 07, 08, 09, 10, 11, 12         14.0   \n",
       "\n",
       "    ancestry  \n",
       "id            \n",
       "560  508/277  \n",
       "526  508/422  "
      ]
     },
     "execution_count": 54,
     "metadata": {},
     "output_type": "execute_result"
    }
   ],
   "source": [
    "foods[(foods.ancestry == \"508/277\") | (foods.ancestry == \"508/422\")]"
   ]
  },
  {
   "cell_type": "code",
   "execution_count": 55,
   "metadata": {},
   "outputs": [
    {
     "data": {
      "text/html": [
       "<div>\n",
       "<style scoped>\n",
       "    .dataframe tbody tr th:only-of-type {\n",
       "        vertical-align: middle;\n",
       "    }\n",
       "\n",
       "    .dataframe tbody tr th {\n",
       "        vertical-align: top;\n",
       "    }\n",
       "\n",
       "    .dataframe thead th {\n",
       "        text-align: right;\n",
       "    }\n",
       "</style>\n",
       "<table border=\"1\" class=\"dataframe\">\n",
       "  <thead>\n",
       "    <tr style=\"text-align: right;\">\n",
       "      <th></th>\n",
       "      <th>name</th>\n",
       "      <th>availability</th>\n",
       "      <th>category_id</th>\n",
       "      <th>ancestry</th>\n",
       "    </tr>\n",
       "    <tr>\n",
       "      <th>id</th>\n",
       "      <th></th>\n",
       "      <th></th>\n",
       "      <th></th>\n",
       "      <th></th>\n",
       "    </tr>\n",
       "  </thead>\n",
       "  <tbody>\n",
       "    <tr>\n",
       "      <th>422</th>\n",
       "      <td>chou pommé</td>\n",
       "      <td>01, 02, 03, 04, 10, 11, 12</td>\n",
       "      <td>14.0</td>\n",
       "      <td>508</td>\n",
       "    </tr>\n",
       "    <tr>\n",
       "      <th>277</th>\n",
       "      <td>chou kale</td>\n",
       "      <td>01, 02, 03, 10, 11, 12</td>\n",
       "      <td>14.0</td>\n",
       "      <td>508</td>\n",
       "    </tr>\n",
       "    <tr>\n",
       "      <th>508</th>\n",
       "      <td>chou</td>\n",
       "      <td>01, 02, 03, 04, 05, 06, 07, 08, 09, 10, 11, 12</td>\n",
       "      <td>14.0</td>\n",
       "      <td>NaN</td>\n",
       "    </tr>\n",
       "  </tbody>\n",
       "</table>\n",
       "</div>"
      ],
      "text/plain": [
       "           name                                    availability  category_id  \\\n",
       "id                                                                             \n",
       "422  chou pommé                      01, 02, 03, 04, 10, 11, 12         14.0   \n",
       "277   chou kale                          01, 02, 03, 10, 11, 12         14.0   \n",
       "508        chou  01, 02, 03, 04, 05, 06, 07, 08, 09, 10, 11, 12         14.0   \n",
       "\n",
       "    ancestry  \n",
       "id            \n",
       "422      508  \n",
       "277      508  \n",
       "508      NaN  "
      ]
     },
     "execution_count": 55,
     "metadata": {},
     "output_type": "execute_result"
    }
   ],
   "source": [
    "foods[(foods.index == 508) | (foods.index == 277) | (foods.index == 422)]"
   ]
  },
  {
   "cell_type": "code",
   "execution_count": 56,
   "metadata": {},
   "outputs": [
    {
     "data": {
      "text/html": [
       "<div>\n",
       "<style scoped>\n",
       "    .dataframe tbody tr th:only-of-type {\n",
       "        vertical-align: middle;\n",
       "    }\n",
       "\n",
       "    .dataframe tbody tr th {\n",
       "        vertical-align: top;\n",
       "    }\n",
       "\n",
       "    .dataframe thead th {\n",
       "        text-align: right;\n",
       "    }\n",
       "</style>\n",
       "<table border=\"1\" class=\"dataframe\">\n",
       "  <thead>\n",
       "    <tr style=\"text-align: right;\">\n",
       "      <th></th>\n",
       "      <th>name</th>\n",
       "      <th>availability</th>\n",
       "      <th>category_id</th>\n",
       "      <th>ancestry</th>\n",
       "    </tr>\n",
       "    <tr>\n",
       "      <th>id</th>\n",
       "      <th></th>\n",
       "      <th></th>\n",
       "      <th></th>\n",
       "      <th></th>\n",
       "    </tr>\n",
       "  </thead>\n",
       "  <tbody>\n",
       "    <tr>\n",
       "      <th>156</th>\n",
       "      <td>chou-fleur</td>\n",
       "      <td>01, 02, 03, 04, 05, 06, 07, 08, 09, 10, 11, 12</td>\n",
       "      <td>14.0</td>\n",
       "      <td>508</td>\n",
       "    </tr>\n",
       "    <tr>\n",
       "      <th>315</th>\n",
       "      <td>chou chinois</td>\n",
       "      <td>01, 02, 05, 06, 07, 08, 09, 10, 11, 12</td>\n",
       "      <td>14.0</td>\n",
       "      <td>508</td>\n",
       "    </tr>\n",
       "    <tr>\n",
       "      <th>287</th>\n",
       "      <td>chou blanc</td>\n",
       "      <td>01, 02, 03, 04, 05, 06, 07, 08, 09, 10, 11, 12</td>\n",
       "      <td>14.0</td>\n",
       "      <td>508</td>\n",
       "    </tr>\n",
       "    <tr>\n",
       "      <th>422</th>\n",
       "      <td>chou pommé</td>\n",
       "      <td>01, 02, 03, 04, 10, 11, 12</td>\n",
       "      <td>14.0</td>\n",
       "      <td>508</td>\n",
       "    </tr>\n",
       "    <tr>\n",
       "      <th>277</th>\n",
       "      <td>chou kale</td>\n",
       "      <td>01, 02, 03, 10, 11, 12</td>\n",
       "      <td>14.0</td>\n",
       "      <td>508</td>\n",
       "    </tr>\n",
       "    <tr>\n",
       "      <th>420</th>\n",
       "      <td>chou rouge</td>\n",
       "      <td>01, 02, 03, 04, 05, 06, 07, 08, 09, 10, 11, 12</td>\n",
       "      <td>14.0</td>\n",
       "      <td>508</td>\n",
       "    </tr>\n",
       "    <tr>\n",
       "      <th>419</th>\n",
       "      <td>chou de Bruxelles</td>\n",
       "      <td>01, 02, 03, 09, 10, 11, 12</td>\n",
       "      <td>14.0</td>\n",
       "      <td>508</td>\n",
       "    </tr>\n",
       "    <tr>\n",
       "      <th>421</th>\n",
       "      <td>chou romanesco</td>\n",
       "      <td>06, 07, 08, 09</td>\n",
       "      <td>14.0</td>\n",
       "      <td>508</td>\n",
       "    </tr>\n",
       "  </tbody>\n",
       "</table>\n",
       "</div>"
      ],
      "text/plain": [
       "                  name                                    availability  \\\n",
       "id                                                                       \n",
       "156         chou-fleur  01, 02, 03, 04, 05, 06, 07, 08, 09, 10, 11, 12   \n",
       "315       chou chinois          01, 02, 05, 06, 07, 08, 09, 10, 11, 12   \n",
       "287         chou blanc  01, 02, 03, 04, 05, 06, 07, 08, 09, 10, 11, 12   \n",
       "422         chou pommé                      01, 02, 03, 04, 10, 11, 12   \n",
       "277          chou kale                          01, 02, 03, 10, 11, 12   \n",
       "420         chou rouge  01, 02, 03, 04, 05, 06, 07, 08, 09, 10, 11, 12   \n",
       "419  chou de Bruxelles                      01, 02, 03, 09, 10, 11, 12   \n",
       "421     chou romanesco                                  06, 07, 08, 09   \n",
       "\n",
       "     category_id ancestry  \n",
       "id                         \n",
       "156         14.0      508  \n",
       "315         14.0      508  \n",
       "287         14.0      508  \n",
       "422         14.0      508  \n",
       "277         14.0      508  \n",
       "420         14.0      508  \n",
       "419         14.0      508  \n",
       "421         14.0      508  "
      ]
     },
     "execution_count": 56,
     "metadata": {},
     "output_type": "execute_result"
    }
   ],
   "source": [
    "foods[(foods.ancestry == \"508\") | (foods.ancestry == \"277\") | (foods.ancestry == \"422\")]"
   ]
  },
  {
   "cell_type": "code",
   "execution_count": 57,
   "metadata": {},
   "outputs": [],
   "source": [
    "foods.loc[[560,526], \"ancestry\"] = \"508\""
   ]
  },
  {
   "cell_type": "markdown",
   "metadata": {},
   "source": [
    "- Change the \"NaN\" value in *ancestry* column with \"0\" (to be considered as a root position) for the foods line with at least one children in the table.  "
   ]
  },
  {
   "cell_type": "code",
   "execution_count": 58,
   "metadata": {
    "scrolled": true
   },
   "outputs": [
    {
     "data": {
      "text/plain": [
       "NaN    0.652482\n",
       "0      0.065603\n",
       "3      0.024823\n",
       "5      0.021277\n",
       "509    0.017730\n",
       "508    0.017730\n",
       "327    0.015957\n",
       "86     0.014184\n",
       "510    0.014184\n",
       "96     0.014184\n",
       "237    0.012411\n",
       "21     0.010638\n",
       "317    0.008865\n",
       "404    0.008865\n",
       "308    0.008865\n",
       "53     0.008865\n",
       "349    0.007092\n",
       "511    0.007092\n",
       "269    0.005319\n",
       "7      0.005319\n",
       "519    0.005319\n",
       "516    0.005319\n",
       "84     0.003546\n",
       "487    0.003546\n",
       "194    0.003546\n",
       "51     0.003546\n",
       "334    0.003546\n",
       "198    0.003546\n",
       "512    0.003546\n",
       "36     0.003546\n",
       "409    0.001773\n",
       "247    0.001773\n",
       "259    0.001773\n",
       "43     0.001773\n",
       "66     0.001773\n",
       "19     0.001773\n",
       "152    0.001773\n",
       "262    0.001773\n",
       "174    0.001773\n",
       "506    0.001773\n",
       "503    0.001773\n",
       "Name: ancestry, dtype: float64"
      ]
     },
     "execution_count": 58,
     "metadata": {},
     "output_type": "execute_result"
    }
   ],
   "source": [
    "id_list = foods[foods.ancestry.isnull()].index\n",
    "for i in id_list:\n",
    "    if len(foods[foods.ancestry == str(i)]) != 0:\n",
    "        foods.loc[i, \"ancestry\"] = \"0\"\n",
    "\n",
    "foods.ancestry.value_counts(normalize=True, dropna=False)"
   ]
  },
  {
   "cell_type": "markdown",
   "metadata": {},
   "source": [
    "### 2) *recipes* table: "
   ]
  },
  {
   "cell_type": "code",
   "execution_count": 59,
   "metadata": {
    "scrolled": false
   },
   "outputs": [
    {
     "name": "stdout",
     "output_type": "stream",
     "text": [
      "<class 'pandas.core.frame.DataFrame'>\n",
      "RangeIndex: 1234 entries, 0 to 1233\n",
      "Data columns (total 12 columns):\n",
      "id               1234 non-null int64\n",
      "title            1234 non-null object\n",
      "servings         1234 non-null int64\n",
      "ingredients      1234 non-null object\n",
      "instructions     1234 non-null object\n",
      "created_at       1234 non-null object\n",
      "updated_at       1234 non-null object\n",
      "recommendable    23 non-null object\n",
      "status           1234 non-null object\n",
      "origin           1234 non-null object\n",
      "link             753 non-null object\n",
      "rating           1214 non-null object\n",
      "dtypes: int64(2), object(10)\n",
      "memory usage: 115.8+ KB\n"
     ]
    }
   ],
   "source": [
    "recipes.info()"
   ]
  },
  {
   "cell_type": "markdown",
   "metadata": {},
   "source": [
    "- Create a copy of table and then drop unnecessary columns, replace index with \"id\", and try to fill the missing data."
   ]
  },
  {
   "cell_type": "code",
   "execution_count": 60,
   "metadata": {},
   "outputs": [
    {
     "data": {
      "text/html": [
       "<div>\n",
       "<style scoped>\n",
       "    .dataframe tbody tr th:only-of-type {\n",
       "        vertical-align: middle;\n",
       "    }\n",
       "\n",
       "    .dataframe tbody tr th {\n",
       "        vertical-align: top;\n",
       "    }\n",
       "\n",
       "    .dataframe thead th {\n",
       "        text-align: right;\n",
       "    }\n",
       "</style>\n",
       "<table border=\"1\" class=\"dataframe\">\n",
       "  <thead>\n",
       "    <tr style=\"text-align: right;\">\n",
       "      <th></th>\n",
       "      <th>title</th>\n",
       "      <th>servings</th>\n",
       "      <th>ingredients</th>\n",
       "      <th>instructions</th>\n",
       "      <th>created_at</th>\n",
       "      <th>updated_at</th>\n",
       "      <th>origin</th>\n",
       "      <th>link</th>\n",
       "      <th>rating</th>\n",
       "    </tr>\n",
       "    <tr>\n",
       "      <th>id</th>\n",
       "      <th></th>\n",
       "      <th></th>\n",
       "      <th></th>\n",
       "      <th></th>\n",
       "      <th></th>\n",
       "      <th></th>\n",
       "      <th></th>\n",
       "      <th></th>\n",
       "      <th></th>\n",
       "    </tr>\n",
       "  </thead>\n",
       "  <tbody>\n",
       "    <tr>\n",
       "      <th>9</th>\n",
       "      <td>Salade mâche, jambon de Bayonne, mozzarella</td>\n",
       "      <td>4</td>\n",
       "      <td>4 bonne poignée de mâche \\r\\n40 tomate cerise ...</td>\n",
       "      <td>Après avoir coupé en dés la mozzarella, couper...</td>\n",
       "      <td>2017-12-14 14:56:37.166524</td>\n",
       "      <td>2018-10-05 09:16:42.390163</td>\n",
       "      <td>www.marmiton.org</td>\n",
       "      <td>http://www.marmiton.org/recettes/recette_salad...</td>\n",
       "      <td>limit</td>\n",
       "    </tr>\n",
       "    <tr>\n",
       "      <th>10</th>\n",
       "      <td>Ciabattina al pesto</td>\n",
       "      <td>1</td>\n",
       "      <td>Ciabattina\\r\\nJambon de Parme\\r\\nTomates confi...</td>\n",
       "      <td>Ouvrir le pain Ciabattina en deux et tartiner ...</td>\n",
       "      <td>2017-12-14 14:56:46.270433</td>\n",
       "      <td>2018-10-05 09:16:42.45289</td>\n",
       "      <td>www.club-sandwich.net</td>\n",
       "      <td>http://www.club-sandwich.net/mobile/fiche.php?...</td>\n",
       "      <td>limit</td>\n",
       "    </tr>\n",
       "    <tr>\n",
       "      <th>402</th>\n",
       "      <td>Tortilla aux champignons et salade</td>\n",
       "      <td>4</td>\n",
       "      <td>250 g de champignons de Paris\\r\\r\\n4 oeufs\\r\\r...</td>\n",
       "      <td>Préchauffer le four à 180 °C (th. 6).\\r\\nCoupe...</td>\n",
       "      <td>2017-12-15 16:41:37.056079</td>\n",
       "      <td>2018-10-05 09:16:42.505825</td>\n",
       "      <td>www.mangerbouger.fr</td>\n",
       "      <td>http://www.mangerbouger.fr/Manger-Mieux/Recett...</td>\n",
       "      <td>limit</td>\n",
       "    </tr>\n",
       "    <tr>\n",
       "      <th>2</th>\n",
       "      <td>Steak haché et pâtes</td>\n",
       "      <td>1</td>\n",
       "      <td>2.0  filets huile d'olive\\r\\n1.0  steak haché\\...</td>\n",
       "      <td>Dans une casserole, portez à ébullition un gra...</td>\n",
       "      <td>2017-12-13 16:17:24.125137</td>\n",
       "      <td>2018-10-05 09:16:42.55582</td>\n",
       "      <td>www.wecook.fr</td>\n",
       "      <td>https://www.wecook.fr/recette/steak-hache-et-p...</td>\n",
       "      <td>good</td>\n",
       "    </tr>\n",
       "    <tr>\n",
       "      <th>4</th>\n",
       "      <td>Beef Bagel</td>\n",
       "      <td>1</td>\n",
       "      <td>Pain Bagel\\r\\nCarpaccio de boeuf\\r\\nFromage fr...</td>\n",
       "      <td>Placer les tranches de carpaccio dans un plat ...</td>\n",
       "      <td>2017-12-13 17:13:29.069001</td>\n",
       "      <td>2018-10-05 09:16:42.597349</td>\n",
       "      <td>www.club-sandwich.net</td>\n",
       "      <td>http://www.club-sandwich.net/mobile/fiche.php?...</td>\n",
       "      <td>limit</td>\n",
       "    </tr>\n",
       "  </tbody>\n",
       "</table>\n",
       "</div>"
      ],
      "text/plain": [
       "                                           title  servings  \\\n",
       "id                                                           \n",
       "9    Salade mâche, jambon de Bayonne, mozzarella         4   \n",
       "10                           Ciabattina al pesto         1   \n",
       "402           Tortilla aux champignons et salade         4   \n",
       "2                           Steak haché et pâtes         1   \n",
       "4                                     Beef Bagel         1   \n",
       "\n",
       "                                           ingredients  \\\n",
       "id                                                       \n",
       "9    4 bonne poignée de mâche \\r\\n40 tomate cerise ...   \n",
       "10   Ciabattina\\r\\nJambon de Parme\\r\\nTomates confi...   \n",
       "402  250 g de champignons de Paris\\r\\r\\n4 oeufs\\r\\r...   \n",
       "2    2.0  filets huile d'olive\\r\\n1.0  steak haché\\...   \n",
       "4    Pain Bagel\\r\\nCarpaccio de boeuf\\r\\nFromage fr...   \n",
       "\n",
       "                                          instructions  \\\n",
       "id                                                       \n",
       "9    Après avoir coupé en dés la mozzarella, couper...   \n",
       "10   Ouvrir le pain Ciabattina en deux et tartiner ...   \n",
       "402  Préchauffer le four à 180 °C (th. 6).\\r\\nCoupe...   \n",
       "2    Dans une casserole, portez à ébullition un gra...   \n",
       "4    Placer les tranches de carpaccio dans un plat ...   \n",
       "\n",
       "                     created_at                  updated_at  \\\n",
       "id                                                            \n",
       "9    2017-12-14 14:56:37.166524  2018-10-05 09:16:42.390163   \n",
       "10   2017-12-14 14:56:46.270433   2018-10-05 09:16:42.45289   \n",
       "402  2017-12-15 16:41:37.056079  2018-10-05 09:16:42.505825   \n",
       "2    2017-12-13 16:17:24.125137   2018-10-05 09:16:42.55582   \n",
       "4    2017-12-13 17:13:29.069001  2018-10-05 09:16:42.597349   \n",
       "\n",
       "                    origin                                               link  \\\n",
       "id                                                                              \n",
       "9         www.marmiton.org  http://www.marmiton.org/recettes/recette_salad...   \n",
       "10   www.club-sandwich.net  http://www.club-sandwich.net/mobile/fiche.php?...   \n",
       "402    www.mangerbouger.fr  http://www.mangerbouger.fr/Manger-Mieux/Recett...   \n",
       "2            www.wecook.fr  https://www.wecook.fr/recette/steak-hache-et-p...   \n",
       "4    www.club-sandwich.net  http://www.club-sandwich.net/mobile/fiche.php?...   \n",
       "\n",
       "    rating  \n",
       "id          \n",
       "9    limit  \n",
       "10   limit  \n",
       "402  limit  \n",
       "2     good  \n",
       "4    limit  "
      ]
     },
     "execution_count": 60,
     "metadata": {},
     "output_type": "execute_result"
    }
   ],
   "source": [
    "recipes_copy = recipes.copy()\n",
    "recipes.drop([\"recommendable\",\"status\"], axis=1, inplace=True)\n",
    "recipes.set_index(\"id\", inplace=True)\n",
    "recipes.head()"
   ]
  },
  {
   "cell_type": "code",
   "execution_count": 61,
   "metadata": {},
   "outputs": [
    {
     "data": {
      "text/plain": [
       "mama    481\n",
       "Name: origin, dtype: int64"
      ]
     },
     "execution_count": 61,
     "metadata": {},
     "output_type": "execute_result"
    }
   ],
   "source": [
    "# Check the \"origin\" column values for the null data in \"link\" column\n",
    "origin_list = recipes[recipes.link.isnull()][\"origin\"]\n",
    "origin_list.value_counts()"
   ]
  },
  {
   "cell_type": "code",
   "execution_count": 62,
   "metadata": {},
   "outputs": [
    {
     "data": {
      "text/html": [
       "<div>\n",
       "<style scoped>\n",
       "    .dataframe tbody tr th:only-of-type {\n",
       "        vertical-align: middle;\n",
       "    }\n",
       "\n",
       "    .dataframe tbody tr th {\n",
       "        vertical-align: top;\n",
       "    }\n",
       "\n",
       "    .dataframe thead th {\n",
       "        text-align: right;\n",
       "    }\n",
       "</style>\n",
       "<table border=\"1\" class=\"dataframe\">\n",
       "  <thead>\n",
       "    <tr style=\"text-align: right;\">\n",
       "      <th></th>\n",
       "      <th>link</th>\n",
       "    </tr>\n",
       "    <tr>\n",
       "      <th>id</th>\n",
       "      <th></th>\n",
       "    </tr>\n",
       "  </thead>\n",
       "  <tbody>\n",
       "    <tr>\n",
       "      <th>905</th>\n",
       "      <td>https://www.foodmama.fr/recipes/905</td>\n",
       "    </tr>\n",
       "    <tr>\n",
       "      <th>1063</th>\n",
       "      <td>https://www.foodmama.fr/recipes/1063</td>\n",
       "    </tr>\n",
       "    <tr>\n",
       "      <th>1103</th>\n",
       "      <td>https://www.foodmama.fr/recipes/1103</td>\n",
       "    </tr>\n",
       "    <tr>\n",
       "      <th>1118</th>\n",
       "      <td>https://www.foodmama.fr/recipes/1118</td>\n",
       "    </tr>\n",
       "    <tr>\n",
       "      <th>1099</th>\n",
       "      <td>https://www.foodmama.fr/recipes/1099</td>\n",
       "    </tr>\n",
       "    <tr>\n",
       "      <th>906</th>\n",
       "      <td>https://www.foodmama.fr/recipes/906</td>\n",
       "    </tr>\n",
       "    <tr>\n",
       "      <th>774</th>\n",
       "      <td>https://www.foodmama.fr/recipes/774</td>\n",
       "    </tr>\n",
       "    <tr>\n",
       "      <th>908</th>\n",
       "      <td>https://www.foodmama.fr/recipes/908</td>\n",
       "    </tr>\n",
       "    <tr>\n",
       "      <th>776</th>\n",
       "      <td>https://www.foodmama.fr/recipes/776</td>\n",
       "    </tr>\n",
       "    <tr>\n",
       "      <th>777</th>\n",
       "      <td>https://www.foodmama.fr/recipes/777</td>\n",
       "    </tr>\n",
       "  </tbody>\n",
       "</table>\n",
       "</div>"
      ],
      "text/plain": [
       "                                      link\n",
       "id                                        \n",
       "905    https://www.foodmama.fr/recipes/905\n",
       "1063  https://www.foodmama.fr/recipes/1063\n",
       "1103  https://www.foodmama.fr/recipes/1103\n",
       "1118  https://www.foodmama.fr/recipes/1118\n",
       "1099  https://www.foodmama.fr/recipes/1099\n",
       "906    https://www.foodmama.fr/recipes/906\n",
       "774    https://www.foodmama.fr/recipes/774\n",
       "908    https://www.foodmama.fr/recipes/908\n",
       "776    https://www.foodmama.fr/recipes/776\n",
       "777    https://www.foodmama.fr/recipes/777"
      ]
     },
     "execution_count": 62,
     "metadata": {},
     "output_type": "execute_result"
    }
   ],
   "source": [
    "# Add the Mama web link recipes for the missing values in the \"link\" column\n",
    "foodmama_path = \"https://www.foodmama.fr/recipes/\"\n",
    "index_list = recipes[recipes.link.isnull()].index\n",
    "for i in index_list:\n",
    "    recipes.loc[i, [\"link\"]] = foodmama_path + str(i)\n",
    "    \n",
    "# Check the first 10 lines\n",
    "recipes.loc[index_list[:10], [\"link\"]]"
   ]
  },
  {
   "cell_type": "code",
   "execution_count": 63,
   "metadata": {},
   "outputs": [
    {
     "data": {
      "text/plain": [
       "limit        506\n",
       "good         487\n",
       "excellent    171\n",
       "avoid         50\n",
       "NaN           20\n",
       "Name: rating, dtype: int64"
      ]
     },
     "execution_count": 63,
     "metadata": {},
     "output_type": "execute_result"
    }
   ],
   "source": [
    "# Check different categories in \"rating\" column\n",
    "recipes.rating.value_counts(dropna=False)"
   ]
  },
  {
   "cell_type": "code",
   "execution_count": 64,
   "metadata": {},
   "outputs": [
    {
     "name": "stdout",
     "output_type": "stream",
     "text": [
      "<class 'pandas.core.frame.DataFrame'>\n",
      "Int64Index: 1234 entries, 9 to 1241\n",
      "Data columns (total 9 columns):\n",
      "title           1234 non-null object\n",
      "servings        1234 non-null int64\n",
      "ingredients     1234 non-null object\n",
      "instructions    1234 non-null object\n",
      "created_at      1234 non-null object\n",
      "updated_at      1234 non-null object\n",
      "origin          1234 non-null object\n",
      "link            1234 non-null object\n",
      "rating          1234 non-null object\n",
      "dtypes: int64(1), object(8)\n",
      "memory usage: 136.4+ KB\n"
     ]
    }
   ],
   "source": [
    "# Replace \"NaN\" values with \"unknown\" rating\n",
    "rating_list = recipes[recipes.rating.isnull()].index\n",
    "recipes.loc[rating_list, [\"rating\"]] = \"unknown\"\n",
    "recipes.info()"
   ]
  },
  {
   "cell_type": "markdown",
   "metadata": {},
   "source": [
    "### 3) *items* table: "
   ]
  },
  {
   "cell_type": "code",
   "execution_count": 65,
   "metadata": {},
   "outputs": [
    {
     "name": "stdout",
     "output_type": "stream",
     "text": [
      "<class 'pandas.core.frame.DataFrame'>\n",
      "RangeIndex: 8464 entries, 0 to 8463\n",
      "Data columns (total 7 columns):\n",
      "Id                      8464 non-null int64\n",
      "Quantity                8464 non-null object\n",
      "Recipe ingredient       8464 non-null object\n",
      "Name [Food]             8464 non-null object\n",
      "Title [Recipe]          8464 non-null object\n",
      "Ingredients [Recipe]    8464 non-null object\n",
      "Origin [Recipe]         8464 non-null object\n",
      "dtypes: int64(1), object(6)\n",
      "memory usage: 463.0+ KB\n"
     ]
    }
   ],
   "source": [
    "items.info()"
   ]
  },
  {
   "cell_type": "markdown",
   "metadata": {},
   "source": [
    "- Create a copy of table and then drop unnecessary columns, rename the columns, and replace index with \"id\"."
   ]
  },
  {
   "cell_type": "code",
   "execution_count": 67,
   "metadata": {},
   "outputs": [
    {
     "data": {
      "text/html": [
       "<div>\n",
       "<style scoped>\n",
       "    .dataframe tbody tr th:only-of-type {\n",
       "        vertical-align: middle;\n",
       "    }\n",
       "\n",
       "    .dataframe tbody tr th {\n",
       "        vertical-align: top;\n",
       "    }\n",
       "\n",
       "    .dataframe thead th {\n",
       "        text-align: right;\n",
       "    }\n",
       "</style>\n",
       "<table border=\"1\" class=\"dataframe\">\n",
       "  <thead>\n",
       "    <tr style=\"text-align: right;\">\n",
       "      <th></th>\n",
       "      <th>recipe_ingredient</th>\n",
       "      <th>name-foods</th>\n",
       "      <th>title-recipes</th>\n",
       "      <th>ingredients-recipes</th>\n",
       "      <th>origin-recipes</th>\n",
       "    </tr>\n",
       "    <tr>\n",
       "      <th>id</th>\n",
       "      <th></th>\n",
       "      <th></th>\n",
       "      <th></th>\n",
       "      <th></th>\n",
       "      <th></th>\n",
       "    </tr>\n",
       "  </thead>\n",
       "  <tbody>\n",
       "    <tr>\n",
       "      <th>1</th>\n",
       "      <td>2.0 filets huile d'olive</td>\n",
       "      <td>huile d'olive</td>\n",
       "      <td>Steak haché et pâtes</td>\n",
       "      <td>2.0  filets huile d'olive\\r\\n1.0  steak haché\\...</td>\n",
       "      <td>www.wecook.fr</td>\n",
       "    </tr>\n",
       "    <tr>\n",
       "      <th>2</th>\n",
       "      <td>1.0 steak haché</td>\n",
       "      <td>steak haché</td>\n",
       "      <td>Steak haché et pâtes</td>\n",
       "      <td>2.0  filets huile d'olive\\r\\n1.0  steak haché\\...</td>\n",
       "      <td>www.wecook.fr</td>\n",
       "    </tr>\n",
       "    <tr>\n",
       "      <th>3</th>\n",
       "      <td>70.0 grammes pâtes</td>\n",
       "      <td>pâtes</td>\n",
       "      <td>Steak haché et pâtes</td>\n",
       "      <td>2.0  filets huile d'olive\\r\\n1.0  steak haché\\...</td>\n",
       "      <td>www.wecook.fr</td>\n",
       "    </tr>\n",
       "    <tr>\n",
       "      <th>4</th>\n",
       "      <td>500 g de semoule moyenne</td>\n",
       "      <td>semoule</td>\n",
       "      <td>Taboulé ultra-facile</td>\n",
       "      <td>500 g de semoule moyenne \\r\\n500 g de tomate e...</td>\n",
       "      <td>www.marmiton.org</td>\n",
       "    </tr>\n",
       "    <tr>\n",
       "      <th>5</th>\n",
       "      <td>500 g de tomate environ (ébouillantées pour ot...</td>\n",
       "      <td>tomate</td>\n",
       "      <td>Taboulé ultra-facile</td>\n",
       "      <td>500 g de semoule moyenne \\r\\n500 g de tomate e...</td>\n",
       "      <td>www.marmiton.org</td>\n",
       "    </tr>\n",
       "  </tbody>\n",
       "</table>\n",
       "</div>"
      ],
      "text/plain": [
       "                                    recipe_ingredient     name-foods  \\\n",
       "id                                                                     \n",
       "1                            2.0 filets huile d'olive  huile d'olive   \n",
       "2                                     1.0 steak haché    steak haché   \n",
       "3                                  70.0 grammes pâtes          pâtes   \n",
       "4                            500 g de semoule moyenne        semoule   \n",
       "5   500 g de tomate environ (ébouillantées pour ot...         tomate   \n",
       "\n",
       "           title-recipes                                ingredients-recipes  \\\n",
       "id                                                                            \n",
       "1   Steak haché et pâtes  2.0  filets huile d'olive\\r\\n1.0  steak haché\\...   \n",
       "2   Steak haché et pâtes  2.0  filets huile d'olive\\r\\n1.0  steak haché\\...   \n",
       "3   Steak haché et pâtes  2.0  filets huile d'olive\\r\\n1.0  steak haché\\...   \n",
       "4   Taboulé ultra-facile  500 g de semoule moyenne \\r\\n500 g de tomate e...   \n",
       "5   Taboulé ultra-facile  500 g de semoule moyenne \\r\\n500 g de tomate e...   \n",
       "\n",
       "      origin-recipes  \n",
       "id                    \n",
       "1      www.wecook.fr  \n",
       "2      www.wecook.fr  \n",
       "3      www.wecook.fr  \n",
       "4   www.marmiton.org  \n",
       "5   www.marmiton.org  "
      ]
     },
     "execution_count": 67,
     "metadata": {},
     "output_type": "execute_result"
    }
   ],
   "source": [
    "items_copy = items.copy()\n",
    "items.drop([\"Quantity\"], axis=1, inplace=True)\n",
    "items.columns = ['id', 'recipe_ingredient', 'name-foods', 'title-recipes', 'ingredients-recipes', 'origin-recipes']\n",
    "items.set_index(\"id\", inplace=True)\n",
    "items.head()"
   ]
  },
  {
   "cell_type": "code",
   "execution_count": null,
   "metadata": {},
   "outputs": [],
   "source": []
  }
 ],
 "metadata": {
  "kernelspec": {
   "display_name": "Python 3",
   "language": "python",
   "name": "python3"
  },
  "language_info": {
   "codemirror_mode": {
    "name": "ipython",
    "version": 3
   },
   "file_extension": ".py",
   "mimetype": "text/x-python",
   "name": "python",
   "nbconvert_exporter": "python",
   "pygments_lexer": "ipython3",
   "version": "3.7.3"
  }
 },
 "nbformat": 4,
 "nbformat_minor": 2
}
