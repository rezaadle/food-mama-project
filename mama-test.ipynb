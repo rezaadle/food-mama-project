{
 "cells": [
  {
   "cell_type": "markdown",
   "metadata": {},
   "source": [
    "## Food Mama project: "
   ]
  },
  {
   "cell_type": "code",
   "execution_count": 1,
   "metadata": {},
   "outputs": [],
   "source": [
    "import pandas as pd\n",
    "import numpy as np\n",
    "import os, io, re\n",
    "import mama\n",
    "import matplotlib.pyplot as plt\n",
    "%matplotlib inline"
   ]
  },
  {
   "cell_type": "markdown",
   "metadata": {},
   "source": [
    "### Loading the Datasets into Pandas dataframe"
   ]
  },
  {
   "cell_type": "code",
   "execution_count": 2,
   "metadata": {},
   "outputs": [
    {
     "name": "stdout",
     "output_type": "stream",
     "text": [
      "Name of the dataframes created: \n",
      "category\n",
      "food\n",
      "item\n",
      "recipe\n"
     ]
    }
   ],
   "source": [
    "path = \"datasets/\"\n",
    "files = os.listdir(path)\n",
    "\n",
    "dfs = []\n",
    "for file in files:\n",
    "    if file.endswith('.csv'):\n",
    "        filename = file.split(\"_\")\n",
    "        dfs.append(filename[0])\n",
    "        exec(dfs[-1] + '= pd.read_csv(path + file)')\n",
    "\n",
    "print(\"Name of the dataframes created: \", *dfs, sep=\"\\n\")"
   ]
  },
  {
   "cell_type": "markdown",
   "metadata": {},
   "source": [
    "### Run `preprocessing` module to modify and to clean the dataframes (drop unnecessary columns, rename columns, replace index with \"id\", fill the missing data, and change data type)."
   ]
  },
  {
   "cell_type": "code",
   "execution_count": 3,
   "metadata": {},
   "outputs": [
    {
     "data": {
      "text/html": [
       "<div>\n",
       "<style scoped>\n",
       "    .dataframe tbody tr th:only-of-type {\n",
       "        vertical-align: middle;\n",
       "    }\n",
       "\n",
       "    .dataframe tbody tr th {\n",
       "        vertical-align: top;\n",
       "    }\n",
       "\n",
       "    .dataframe thead th {\n",
       "        text-align: right;\n",
       "    }\n",
       "</style>\n",
       "<table border=\"1\" class=\"dataframe\">\n",
       "  <thead>\n",
       "    <tr style=\"text-align: right;\">\n",
       "      <th></th>\n",
       "      <th>recipe_id</th>\n",
       "      <th>title</th>\n",
       "      <th>servings</th>\n",
       "      <th>ingredients</th>\n",
       "      <th>instructions</th>\n",
       "      <th>created_at</th>\n",
       "      <th>updated_at</th>\n",
       "      <th>origin</th>\n",
       "      <th>link</th>\n",
       "      <th>rating</th>\n",
       "    </tr>\n",
       "  </thead>\n",
       "  <tbody>\n",
       "    <tr>\n",
       "      <th>0</th>\n",
       "      <td>9</td>\n",
       "      <td>Salade mâche, jambon de Bayonne, mozzarella</td>\n",
       "      <td>4</td>\n",
       "      <td>4 bonne poignée de mâche \\r\\n40 tomate cerise ...</td>\n",
       "      <td>Après avoir coupé en dés la mozzarella, couper...</td>\n",
       "      <td>2017-12-14 14:56:37.166524</td>\n",
       "      <td>2018-10-05 09:16:42.390163</td>\n",
       "      <td>www.marmiton.org</td>\n",
       "      <td>http://www.marmiton.org/recettes/recette_salad...</td>\n",
       "      <td>limit</td>\n",
       "    </tr>\n",
       "    <tr>\n",
       "      <th>1</th>\n",
       "      <td>10</td>\n",
       "      <td>Ciabattina al pesto</td>\n",
       "      <td>1</td>\n",
       "      <td>Ciabattina\\r\\nJambon de Parme\\r\\nTomates confi...</td>\n",
       "      <td>Ouvrir le pain Ciabattina en deux et tartiner ...</td>\n",
       "      <td>2017-12-14 14:56:46.270433</td>\n",
       "      <td>2018-10-05 09:16:42.45289</td>\n",
       "      <td>www.club-sandwich.net</td>\n",
       "      <td>http://www.club-sandwich.net/mobile/fiche.php?...</td>\n",
       "      <td>limit</td>\n",
       "    </tr>\n",
       "    <tr>\n",
       "      <th>2</th>\n",
       "      <td>402</td>\n",
       "      <td>Tortilla aux champignons et salade</td>\n",
       "      <td>4</td>\n",
       "      <td>250 g de champignons de Paris\\r\\r\\n4 oeufs\\r\\r...</td>\n",
       "      <td>Préchauffer le four à 180 °C (th. 6).\\r\\nCoupe...</td>\n",
       "      <td>2017-12-15 16:41:37.056079</td>\n",
       "      <td>2018-10-05 09:16:42.505825</td>\n",
       "      <td>www.mangerbouger.fr</td>\n",
       "      <td>http://www.mangerbouger.fr/Manger-Mieux/Recett...</td>\n",
       "      <td>limit</td>\n",
       "    </tr>\n",
       "    <tr>\n",
       "      <th>3</th>\n",
       "      <td>2</td>\n",
       "      <td>Steak haché et pâtes</td>\n",
       "      <td>1</td>\n",
       "      <td>2.0  filets huile d'olive\\r\\n1.0  steak haché\\...</td>\n",
       "      <td>Dans une casserole, portez à ébullition un gra...</td>\n",
       "      <td>2017-12-13 16:17:24.125137</td>\n",
       "      <td>2018-10-05 09:16:42.55582</td>\n",
       "      <td>www.wecook.fr</td>\n",
       "      <td>https://www.wecook.fr/recette/steak-hache-et-p...</td>\n",
       "      <td>good</td>\n",
       "    </tr>\n",
       "    <tr>\n",
       "      <th>4</th>\n",
       "      <td>4</td>\n",
       "      <td>Beef Bagel</td>\n",
       "      <td>1</td>\n",
       "      <td>Pain Bagel\\r\\nCarpaccio de boeuf\\r\\nFromage fr...</td>\n",
       "      <td>Placer les tranches de carpaccio dans un plat ...</td>\n",
       "      <td>2017-12-13 17:13:29.069001</td>\n",
       "      <td>2018-10-05 09:16:42.597349</td>\n",
       "      <td>www.club-sandwich.net</td>\n",
       "      <td>http://www.club-sandwich.net/mobile/fiche.php?...</td>\n",
       "      <td>limit</td>\n",
       "    </tr>\n",
       "  </tbody>\n",
       "</table>\n",
       "</div>"
      ],
      "text/plain": [
       "   recipe_id                                        title  servings  \\\n",
       "0          9  Salade mâche, jambon de Bayonne, mozzarella         4   \n",
       "1         10                          Ciabattina al pesto         1   \n",
       "2        402           Tortilla aux champignons et salade         4   \n",
       "3          2                         Steak haché et pâtes         1   \n",
       "4          4                                   Beef Bagel         1   \n",
       "\n",
       "                                         ingredients  \\\n",
       "0  4 bonne poignée de mâche \\r\\n40 tomate cerise ...   \n",
       "1  Ciabattina\\r\\nJambon de Parme\\r\\nTomates confi...   \n",
       "2  250 g de champignons de Paris\\r\\r\\n4 oeufs\\r\\r...   \n",
       "3  2.0  filets huile d'olive\\r\\n1.0  steak haché\\...   \n",
       "4  Pain Bagel\\r\\nCarpaccio de boeuf\\r\\nFromage fr...   \n",
       "\n",
       "                                        instructions  \\\n",
       "0  Après avoir coupé en dés la mozzarella, couper...   \n",
       "1  Ouvrir le pain Ciabattina en deux et tartiner ...   \n",
       "2  Préchauffer le four à 180 °C (th. 6).\\r\\nCoupe...   \n",
       "3  Dans une casserole, portez à ébullition un gra...   \n",
       "4  Placer les tranches de carpaccio dans un plat ...   \n",
       "\n",
       "                   created_at                  updated_at  \\\n",
       "0  2017-12-14 14:56:37.166524  2018-10-05 09:16:42.390163   \n",
       "1  2017-12-14 14:56:46.270433   2018-10-05 09:16:42.45289   \n",
       "2  2017-12-15 16:41:37.056079  2018-10-05 09:16:42.505825   \n",
       "3  2017-12-13 16:17:24.125137   2018-10-05 09:16:42.55582   \n",
       "4  2017-12-13 17:13:29.069001  2018-10-05 09:16:42.597349   \n",
       "\n",
       "                  origin                                               link  \\\n",
       "0       www.marmiton.org  http://www.marmiton.org/recettes/recette_salad...   \n",
       "1  www.club-sandwich.net  http://www.club-sandwich.net/mobile/fiche.php?...   \n",
       "2    www.mangerbouger.fr  http://www.mangerbouger.fr/Manger-Mieux/Recett...   \n",
       "3          www.wecook.fr  https://www.wecook.fr/recette/steak-hache-et-p...   \n",
       "4  www.club-sandwich.net  http://www.club-sandwich.net/mobile/fiche.php?...   \n",
       "\n",
       "  rating  \n",
       "0  limit  \n",
       "1  limit  \n",
       "2  limit  \n",
       "3   good  \n",
       "4  limit  "
      ]
     },
     "execution_count": 3,
     "metadata": {},
     "output_type": "execute_result"
    }
   ],
   "source": [
    "dataframes = [food, item, recipe]\n",
    "foods, items, recipes = mama.preprocessing(dataframes)\n",
    "recipes.head()"
   ]
  },
  {
   "cell_type": "markdown",
   "metadata": {},
   "source": [
    "## Text Cleaning"
   ]
  },
  {
   "cell_type": "code",
   "execution_count": 4,
   "metadata": {},
   "outputs": [],
   "source": [
    "recipes_text = recipes.drop(['servings', 'created_at', 'updated_at', 'link', 'rating'], axis=1)"
   ]
  },
  {
   "cell_type": "code",
   "execution_count": 5,
   "metadata": {},
   "outputs": [
    {
     "data": {
      "text/plain": [
       "0    Après avoir coupé en dés la mozzarella, couper...\n",
       "1    Ouvrir le pain Ciabattina en deux et tartiner ...\n",
       "2    Préchauffer le four à 180 °C (th. 6).\\r\\nCoupe...\n",
       "3    Dans une casserole, portez à ébullition un gra...\n",
       "4    Placer les tranches de carpaccio dans un plat ...\n",
       "Name: instructions, dtype: object"
      ]
     },
     "execution_count": 5,
     "metadata": {},
     "output_type": "execute_result"
    }
   ],
   "source": [
    "recipes_text.instructions.head()"
   ]
  },
  {
   "cell_type": "code",
   "execution_count": 6,
   "metadata": {},
   "outputs": [],
   "source": [
    "filename = \"lucene_stopwords.txt\"\n",
    "with io.open(filename, 'r', encoding='utf-8') as f:\n",
    "    lucene = f.read()\n",
    "\n",
    "import nltk\n",
    "# List of all French stop words such as 'le', 'au'\n",
    "nltk_stopwords = nltk.corpus.stopwords.words('french')\n",
    "lucene_stopwords = [w for w in lucene.split(\",\")]\n",
    "stop_words = nltk_stopwords + lucene_stopwords \n",
    "\n",
    "stemmer = nltk.stem.SnowballStemmer('french')"
   ]
  },
  {
   "cell_type": "code",
   "execution_count": 7,
   "metadata": {},
   "outputs": [],
   "source": [
    "from bs4 import BeautifulSoup\n",
    "import unicodedata\n",
    "\n",
    "def clean_text(text):\n",
    "    # remove html stuff and to lower case (from_encoding='utf-8')\n",
    "    txt = BeautifulSoup(text).get_text().lower() \n",
    "    # special characters\n",
    "    txt = txt.replace('œ','oe').replace('æ','ae').replace('ᴁ','AE').replace('Œ','OE')\n",
    "    # remove accent \n",
    "    txt = unicodedata.normalize('NFD', txt).encode('ascii', 'ignore').decode(\"utf-8\")\n",
    "    # remove non alphanumeric char (or without number r'[^a-z_]')\n",
    "    txt = re.sub(r'\\W+', ' ', txt)\n",
    "    # remove french stop words (extra: and (len(w)>2))\n",
    "    tokens = [w for w in txt.split() if (w not in stop_words)] \n",
    "    # french stemming\n",
    "    #tokens = [stemmer.stem(token) for token in tokens]\n",
    "    \n",
    "    return ' '.join(tokens)\n",
    "\n",
    "#import html\n",
    "#print(html.unescape('&pound;682m'))"
   ]
  },
  {
   "cell_type": "markdown",
   "metadata": {},
   "source": [
    "## `TfIdfVectorizer` class that produces the TF-IDF Matrix"
   ]
  },
  {
   "cell_type": "markdown",
   "metadata": {},
   "source": [
    "- Compute Term Frequency-Inverse Document Frequency (TF-IDF) vectors for each recipe"
   ]
  },
  {
   "cell_type": "code",
   "execution_count": 8,
   "metadata": {},
   "outputs": [],
   "source": [
    "from sklearn.feature_extraction.text import TfidfVectorizer\n",
    "\n",
    "def vectorize(df, columns):\n",
    "    text_array = np.repeat(\"\", len(df)).astype(\"object\")\n",
    "    for c in columns:\n",
    "        text_array += df[c].values + \" \"\n",
    "    \n",
    "    for index, item in enumerate(text_array):\n",
    "        text_array[index] = clean_text(item)\n",
    "        \n",
    "    # Define a TF-IDF Vectorizer Object  \n",
    "    #tfidf_vec = TfidfVectorizer(stop_words=None)\n",
    "    ## (bi-grams)\n",
    "    tfidf_vec = TfidfVectorizer(min_df=1,stop_words=None,smooth_idf=True,norm='l2',sublinear_tf=True,use_idf=True,ngram_range=(1,2)) \n",
    "    \n",
    "    # Construct the required TF-IDF matrix by fitting and transforming the data\n",
    "    tfidf_matrix = tfidf_vec.fit_transform(text_array)\n",
    "    \n",
    "    return tfidf_matrix"
   ]
  },
  {
   "cell_type": "code",
   "execution_count": 9,
   "metadata": {},
   "outputs": [
    {
     "name": "stdout",
     "output_type": "stream",
     "text": [
      "(1234, 21991)\n"
     ]
    }
   ],
   "source": [
    "# Call functions to generate TF-IDF matrix\n",
    "columns = ('title', 'instructions')\n",
    "tfidf_matrix = vectorize(recipes_text, columns)\n",
    "print(tfidf_matrix.shape)\n",
    "\n",
    "# Construct a reverse map of indices and recipe titles\n",
    "indices = pd.Series(recipes_text.index, index = recipes_text['title'])"
   ]
  },
  {
   "cell_type": "markdown",
   "metadata": {},
   "source": [
    "- TF-IDF vectorizer calculate the dot product that will directly give the cosine similarity score"
   ]
  },
  {
   "cell_type": "code",
   "execution_count": 10,
   "metadata": {},
   "outputs": [],
   "source": [
    "from sklearn.metrics.pairwise import linear_kernel\n",
    "\n",
    "# Compute the cosine similarity matrix\n",
    "cosine_sim = linear_kernel(tfidf_matrix, tfidf_matrix)"
   ]
  },
  {
   "cell_type": "markdown",
   "metadata": {},
   "source": [
    "## Recommendations"
   ]
  },
  {
   "cell_type": "code",
   "execution_count": 11,
   "metadata": {},
   "outputs": [],
   "source": [
    "# Function that takes in recipe title as input and outputs most similar recipes\n",
    "def get_recommendations(title, model=cosine_sim):\n",
    "    # Get the index of the recipe that matches the title\n",
    "    idx = indices[title]\n",
    "\n",
    "    # Get the pairwsie similarity scores of all recipes with that title\n",
    "    sim_scores = list(enumerate(model[idx]))\n",
    "\n",
    "    # Sort the recipes based on the similarity scores\n",
    "    sim_scores = sorted(sim_scores, key=lambda x: x[1], reverse=True)\n",
    "\n",
    "    # Get the scores of the 10 most similar recipes\n",
    "    top_10 = sim_scores[1:11]\n",
    "\n",
    "    # Get the recipe indices\n",
    "    top_indices = [i[0] for i in top_10]\n",
    "\n",
    "    # Return the top 10 most similar recipes\n",
    "    return recipes_text['title'].iloc[top_indices]"
   ]
  },
  {
   "cell_type": "code",
   "execution_count": 12,
   "metadata": {},
   "outputs": [
    {
     "data": {
      "text/plain": [
       "429                   Pizza jambon mozzarella et asperges\n",
       "404                            Spaghettis à la bolognaise\n",
       "431                                  Quiche multi légumes\n",
       "861                                              Lasagnes\n",
       "274     Pizza sauce tomate, mozzarella, jambon blanc, ...\n",
       "631                 Pizza sauce tomate maison, mozzarella\n",
       "161                                    Potimarron au four\n",
       "1010               Pizza sauce tomate, mozzarella, origan\n",
       "503                                     Gratin dauphinois\n",
       "290     Pizza sauce tomate, mozzarella, jambon de parm...\n",
       "Name: title, dtype: object"
      ]
     },
     "execution_count": 12,
     "metadata": {},
     "output_type": "execute_result"
    }
   ],
   "source": [
    "get_recommendations('Pizza Margherita')"
   ]
  }
 ],
 "metadata": {
  "kernelspec": {
   "display_name": "Python 3",
   "language": "python",
   "name": "python3"
  },
  "language_info": {
   "codemirror_mode": {
    "name": "ipython",
    "version": 3
   },
   "file_extension": ".py",
   "mimetype": "text/x-python",
   "name": "python",
   "nbconvert_exporter": "python",
   "pygments_lexer": "ipython3",
   "version": "3.7.3"
  }
 },
 "nbformat": 4,
 "nbformat_minor": 2
}
